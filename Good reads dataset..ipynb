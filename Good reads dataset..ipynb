{
 "cells": [
  {
   "cell_type": "code",
   "execution_count": 1,
   "id": "3fd55fb8",
   "metadata": {},
   "outputs": [],
   "source": [
    "import gzip\n",
    "import json\n",
    "import os\n",
    "import sys\n",
    "import numpy as np\n",
    "import pandas as pd\n",
    "import matplotlib.pyplot as plt"
   ]
  },
  {
   "cell_type": "code",
   "execution_count": 2,
   "id": "e2cade17",
   "metadata": {},
   "outputs": [],
   "source": [
    "DIR = \"Dataset\""
   ]
  },
  {
   "cell_type": "code",
   "execution_count": 5,
   "id": "659e5fc1",
   "metadata": {},
   "outputs": [],
   "source": [
    "def load_data(file_name, head = 500):\n",
    "    count = 0\n",
    "    data = []\n",
    "    with gzip.open(file_name) as fin:\n",
    "        for l in fin:\n",
    "            d = json.loads(l)\n",
    "            count += 1\n",
    "            data.append(d)\n",
    "            \n",
    "            # break if reaches the 100th line\n",
    "            if (head is not None) and (count > head):\n",
    "                break\n",
    "    return data"
   ]
  },
  {
   "cell_type": "code",
   "execution_count": 6,
   "id": "8d43f2e8",
   "metadata": {},
   "outputs": [],
   "source": [
    "def load_data_count(file_name, head = 500):\n",
    "    count = 0\n",
    "    data = []\n",
    "    with gzip.open(file_name) as fin:\n",
    "        for l in fin:\n",
    "            d = json.loads(l)\n",
    "            count += 1\n",
    "            # break if reaches the 100th line\n",
    "            if (head is not None) and (count > head):\n",
    "                break\n",
    "    return count"
   ]
  },
  {
   "cell_type": "code",
   "execution_count": 12,
   "id": "3973f4d8",
   "metadata": {},
   "outputs": [],
   "source": [
    "books = load_data(os.path.join(DIR, 'goodreads_books_comics_graphic.json.gz'),head=None)\n",
    "# authors = load_data(os.path.join(DIR, 'goodreads_book_authors.json.gz'),head=None)\n",
    "\n",
    "# interactions = load_data(os.path.join(DIR, 'goodreads_interactions_poetry.json.gz'))\n",
    "# reviews = load_data(os.path.join(DIR, 'goodreads_reviews_poetry.json.gz'))"
   ]
  },
  {
   "cell_type": "code",
   "execution_count": 13,
   "id": "5eb4bba3",
   "metadata": {},
   "outputs": [],
   "source": [
    "for_recommender = True"
   ]
  },
  {
   "cell_type": "code",
   "execution_count": 14,
   "id": "d8bfb75f",
   "metadata": {},
   "outputs": [],
   "source": [
    "# load_data_file(os.path.join(DIR, 'ol_dump_ratings_2024-02-29.txt.gz'))"
   ]
  },
  {
   "cell_type": "code",
   "execution_count": 15,
   "id": "cae06865",
   "metadata": {},
   "outputs": [],
   "source": [
    "# works = load_data(os.path.join(DIR, 'ol_dump_works_2024-02-29.txt.gz'),head=20000)\n"
   ]
  },
  {
   "cell_type": "code",
   "execution_count": 16,
   "id": "8e9ad110",
   "metadata": {},
   "outputs": [],
   "source": [
    "# ol_ratings[54]"
   ]
  },
  {
   "cell_type": "code",
   "execution_count": 17,
   "id": "c242e906",
   "metadata": {},
   "outputs": [],
   "source": [
    "# display(np.random.choice(interactions))"
   ]
  },
  {
   "cell_type": "code",
   "execution_count": 18,
   "id": "ac8e8b10",
   "metadata": {
    "collapsed": true
   },
   "outputs": [
    {
     "data": {
      "text/plain": [
       "{'isbn': '0785118764',\n",
       " 'text_reviews_count': '442',\n",
       " 'series': ['262316', '290025', '1138011'],\n",
       " 'country_code': 'US',\n",
       " 'language_code': 'eng',\n",
       " 'popular_shelves': [{'count': '4310', 'name': 'to-read'},\n",
       "  {'count': '647', 'name': 'comics'},\n",
       "  {'count': '596', 'name': 'graphic-novels'},\n",
       "  {'count': '237', 'name': 'graphic-novel'},\n",
       "  {'count': '137', 'name': 'favorites'},\n",
       "  {'count': '126', 'name': 'young-adult'},\n",
       "  {'count': '95', 'name': 'superheroes'},\n",
       "  {'count': '89', 'name': 'fiction'},\n",
       "  {'count': '81', 'name': 'marvel'},\n",
       "  {'count': '74', 'name': 'fantasy'},\n",
       "  {'count': '73', 'name': 'currently-reading'},\n",
       "  {'count': '67', 'name': 'ya'},\n",
       "  {'count': '66', 'name': 'comics-graphic-novels'},\n",
       "  {'count': '51', 'name': 'comic-books'},\n",
       "  {'count': '45', 'name': 'comic'},\n",
       "  {'count': '38', 'name': 'graphic-novels-comics'},\n",
       "  {'count': '37', 'name': 'sci-fi'},\n",
       "  {'count': '34', 'name': 'superhero'},\n",
       "  {'count': '33', 'name': 'series'},\n",
       "  {'count': '32', 'name': 'comics-and-graphic-novels'},\n",
       "  {'count': '31', 'name': 'marvel-comics'},\n",
       "  {'count': '28', 'name': 'graphicnovels'},\n",
       "  {'count': '27', 'name': 'graphic'},\n",
       "  {'count': '26', 'name': 'science-fiction'},\n",
       "  {'count': '26', 'name': 'library'},\n",
       "  {'count': '24', 'name': 'graphic-novels-and-comics'},\n",
       "  {'count': '23', 'name': 'adventure'},\n",
       "  {'count': '22', 'name': 'teen'},\n",
       "  {'count': '21', 'name': 'owned'},\n",
       "  {'count': '16', 'name': 'runaways'},\n",
       "  {'count': '15', 'name': 'books-i-own'},\n",
       "  {'count': '14', 'name': 'to-buy'},\n",
       "  {'count': '11', 'name': 'supernatural'},\n",
       "  {'count': '11', 'name': 'action'},\n",
       "  {'count': '11', 'name': 'comics-manga'},\n",
       "  {'count': '11', 'name': 'comic-book'},\n",
       "  {'count': '11', 'name': 'wish-list'},\n",
       "  {'count': '10', 'name': 'favourites'},\n",
       "  {'count': '10', 'name': 'comics-read'},\n",
       "  {'count': '10', 'name': 'ya-lit'},\n",
       "  {'count': '9', 'name': 'super-heroes'},\n",
       "  {'count': '9', 'name': 'magic'},\n",
       "  {'count': '9', 'name': 'sequential-art'},\n",
       "  {'count': '9', 'name': 'borrowed'},\n",
       "  {'count': '8', 'name': 'read-in-2016'},\n",
       "  {'count': '8', 'name': 'read-in-2015'},\n",
       "  {'count': '8', 'name': 'default'},\n",
       "  {'count': '8', 'name': 'graphic-novels-comic-books'},\n",
       "  {'count': '8', 'name': 'graphic_novels'},\n",
       "  {'count': '7', 'name': 'queer'},\n",
       "  {'count': '7', 'name': 'friendship'},\n",
       "  {'count': '7', 'name': 'comics-to-read'},\n",
       "  {'count': '7', 'name': 'scifi'},\n",
       "  {'count': '7', 'name': 'ya-fiction'},\n",
       "  {'count': '7', 'name': 'contemporary'},\n",
       "  {'count': '7', 'name': 'comic-graphic-novel'},\n",
       "  {'count': '7', 'name': 'teen-fiction'},\n",
       "  {'count': '7', 'name': 'manga'},\n",
       "  {'count': '7', 'name': 'comix'},\n",
       "  {'count': '6', 'name': 'to-read-comics'},\n",
       "  {'count': '6', 'name': 'lgbt'},\n",
       "  {'count': '6', 'name': 'to-read-graphic-novels'},\n",
       "  {'count': '6', 'name': 'aliens'},\n",
       "  {'count': '6', 'name': 'read-comics'},\n",
       "  {'count': '6', 'name': 'american'},\n",
       "  {'count': '6', 'name': 'sci-fi-fantasy'},\n",
       "  {'count': '6', 'name': 'gn'},\n",
       "  {'count': '6', 'name': 'comics-marvel'},\n",
       "  {'count': '6', 'name': 'library-book'},\n",
       "  {'count': '6', 'name': 'coming-of-age'},\n",
       "  {'count': '6', 'name': 'comicbooks'},\n",
       "  {'count': '5', 'name': '2016-reads'},\n",
       "  {'count': '5', 'name': 'lgbtqia'},\n",
       "  {'count': '5', 'name': 'read-in-2014'},\n",
       "  {'count': '5', 'name': 'superhero-comics'},\n",
       "  {'count': '5', 'name': 'need-to-buy'},\n",
       "  {'count': '5', 'name': 'my-library'},\n",
       "  {'count': '5', 'name': 'romance'},\n",
       "  {'count': '5', 'name': 'owned-comics'},\n",
       "  {'count': '5', 'name': 'english'},\n",
       "  {'count': '5', 'name': 'scifi-fantasy'},\n",
       "  {'count': '5', 'name': 'mutants'},\n",
       "  {'count': '5', 'name': 'humor'},\n",
       "  {'count': '5', 'name': 'graphics'},\n",
       "  {'count': '5', 'name': 'action-adventure'},\n",
       "  {'count': '5', 'name': 'graphic_novel'},\n",
       "  {'count': '5', 'name': 'comics-graphicnovels'},\n",
       "  {'count': '5', 'name': 'youngadult'},\n",
       "  {'count': '4', 'name': 'read-in-2017'},\n",
       "  {'count': '4', 'name': 'read-2017'},\n",
       "  {'count': '4', 'name': 'library-books'},\n",
       "  {'count': '4', 'name': 'owned-books'},\n",
       "  {'count': '4', 'name': 'read-2015'},\n",
       "  {'count': '4', 'name': 'lgbtq'},\n",
       "  {'count': '4', 'name': 'read-2014'},\n",
       "  {'count': '4', 'name': 'graphic-novels-manga'},\n",
       "  {'count': '4', 'name': 'funny'},\n",
       "  {'count': '4', 'name': 'graphic-novels-to-read'},\n",
       "  {'count': '4', 'name': 'powers'},\n",
       "  {'count': '4', 'name': 'mystery'}],\n",
       " 'asin': '',\n",
       " 'is_ebook': 'false',\n",
       " 'average_rating': '4.21',\n",
       " 'kindle_asin': 'B00AAJR2G6',\n",
       " 'similar_books': ['2439175',\n",
       "  '43725',\n",
       "  '2371823',\n",
       "  '236557',\n",
       "  '331208',\n",
       "  '590210',\n",
       "  '3571155',\n",
       "  '6130507',\n",
       "  '1903112',\n",
       "  '2258253',\n",
       "  '6754926',\n",
       "  '105966',\n",
       "  '259582',\n",
       "  '1136855',\n",
       "  '1012001'],\n",
       " 'description': \"In Pride & Joy, six young friends discover their parents are all secretly super-powered villains Finding strength in one another, the shocked teens run away from home and straight into the adventure of their lives - vowing to turn the tables on their evil legacy. In Teenage Wasteland, the Runaways find a kindred spirit in a daring young stranger and welcome him into their fold. But will this dashing young man help the teenagers defeat their villainous parents... or tear them apart? Plus: who do you send to catch a group of missing, runaway teenage super-heroes? Marvel's original teen runaway crimefighters, Cloak and Dagger, make their first major appearance in years In The Good Die Young, the world as we know it is about to end, and the Runaways are the only hope to prevent it Our fledgling teenage heroes have learned how their parents' criminal organization began, and now they must decide how it should end. As the Runaways' epic battle against their evil parents reaches its shocking conclusion, the team's mole stands revealed, and blood must be shed. Which kids will still be standing when the smoke finally clears? Collects Runaways (Vol.1) #1-18.\",\n",
       " 'format': 'Hardcover',\n",
       " 'link': 'https://www.goodreads.com/book/show/234352.Runaways_Deluxe_Vol_1',\n",
       " 'authors': [{'author_id': '24514', 'role': ''},\n",
       "  {'author_id': '4978', 'role': 'Illustrator'},\n",
       "  {'author_id': '98075', 'role': 'Illustrations'}],\n",
       " 'publisher': 'Marvel',\n",
       " 'num_pages': '448',\n",
       " 'publication_day': '9',\n",
       " 'isbn13': '9780785118763',\n",
       " 'publication_month': '8',\n",
       " 'edition_information': 'Marvel Deluxe',\n",
       " 'publication_year': '2006',\n",
       " 'url': 'https://www.goodreads.com/book/show/234352.Runaways_Deluxe_Vol_1',\n",
       " 'image_url': 'https://s.gr-assets.com/assets/nophoto/book/111x148-bcc042a9c91a29c1d680899eff700a03.png',\n",
       " 'book_id': '234352',\n",
       " 'ratings_count': '8535',\n",
       " 'work_id': '3332427',\n",
       " 'title': 'Runaways Deluxe, Vol. 1',\n",
       " 'title_without_series': 'Runaways Deluxe, Vol. 1'}"
      ]
     },
     "metadata": {},
     "output_type": "display_data"
    }
   ],
   "source": [
    "display(np.random.choice(books))"
   ]
  },
  {
   "cell_type": "code",
   "execution_count": 116,
   "id": "796b9eb5",
   "metadata": {},
   "outputs": [],
   "source": [
    "df_books = pd.DataFrame(books)"
   ]
  },
  {
   "cell_type": "code",
   "execution_count": 122,
   "id": "8d274a16",
   "metadata": {},
   "outputs": [],
   "source": [
    "drop_cols = ['text_reviews_count', 'country_code',\n",
    "       'popular_shelves',\n",
    "       'similar_books', 'link', 'url',\n",
    "       'image_url']\n",
    "\n",
    "df_books.drop(drop_cols, inplace=True, axis = 1)"
   ]
  },
  {
   "cell_type": "code",
   "execution_count": 123,
   "id": "b458d072",
   "metadata": {},
   "outputs": [],
   "source": [
    "# df_authors"
   ]
  },
  {
   "cell_type": "code",
   "execution_count": 124,
   "id": "4a09b48f",
   "metadata": {},
   "outputs": [],
   "source": [
    "### Cleaning up author info. "
   ]
  },
  {
   "cell_type": "code",
   "execution_count": 125,
   "id": "8fd8d902",
   "metadata": {},
   "outputs": [],
   "source": [
    "def extract_author_id(data):\n",
    "    author_id = data[0]['author_id']\n",
    "    return author_id\n",
    "\n",
    "\n",
    "def num_authors(data):\n",
    "    author_num = len(data)\n",
    "    return author_num\n",
    "\n",
    "def is_series(data):\n",
    "    series = len(data)\n",
    "    return series>0"
   ]
  },
  {
   "cell_type": "code",
   "execution_count": 126,
   "id": "810b964b",
   "metadata": {},
   "outputs": [],
   "source": [
    "df_books[\"primary author\"] = df_books[\"authors\"].apply(extract_author_id)\n",
    "df_books[\"Num of authors\"] = df_books[\"authors\"].apply(num_authors)\n",
    "df_books[\"series\"] = df_books[\"series\"].apply(is_series)"
   ]
  },
  {
   "cell_type": "code",
   "execution_count": 127,
   "id": "e6b372f0",
   "metadata": {},
   "outputs": [],
   "source": [
    "df_books.drop([\"authors\",\"series\"], axis =1,inplace=True)"
   ]
  },
  {
   "cell_type": "code",
   "execution_count": 128,
   "id": "eeb96b20",
   "metadata": {},
   "outputs": [],
   "source": [
    "# df_reviews = pd.DataFrame(reviews)"
   ]
  },
  {
   "cell_type": "code",
   "execution_count": 129,
   "id": "d7fae7e1",
   "metadata": {},
   "outputs": [],
   "source": [
    "# df_reviews[\"user_id\"].value_counts()"
   ]
  },
  {
   "cell_type": "code",
   "execution_count": 130,
   "id": "afb6e7fc",
   "metadata": {},
   "outputs": [],
   "source": [
    "# plt.plot(df_reviews[\"book_id\"].value_counts())\n",
    "# plt.xlabel('Book')\n",
    "# plt.ylabel('Count')\n",
    "# plt.title('Distribution of book reviews')\n",
    "# plt.show()"
   ]
  },
  {
   "cell_type": "code",
   "execution_count": 131,
   "id": "c324d611",
   "metadata": {},
   "outputs": [],
   "source": [
    "# plt.plot(df_reviews[\"user_id\"].value_counts())\n",
    "# plt.xlabel('User')\n",
    "# plt.ylabel('Count')\n",
    "# plt.title('Distribution of User reviews')\n",
    "# plt.show()"
   ]
  },
  {
   "cell_type": "code",
   "execution_count": 132,
   "id": "41b3ee25",
   "metadata": {},
   "outputs": [],
   "source": [
    "# df_reviews[\"book_id\"].plot()"
   ]
  },
  {
   "cell_type": "code",
   "execution_count": 133,
   "id": "810ed964",
   "metadata": {},
   "outputs": [],
   "source": [
    "# df_books[\"format\"].unique(), df_books[\"language_code\"].unique()"
   ]
  },
  {
   "cell_type": "markdown",
   "id": "59abbf69",
   "metadata": {},
   "source": [
    "We should only keep english reader if we want to use text descripition, I don't think type of english \"matters\""
   ]
  },
  {
   "cell_type": "markdown",
   "id": "515c41e1",
   "metadata": {},
   "source": [
    "Aurthor IDs may not be useful. We can use #books by him before the publication date & avg rating before this date instead. Anything other than that like average rating and all are not a good measure\n"
   ]
  },
  {
   "cell_type": "markdown",
   "id": "a05b4d65",
   "metadata": {},
   "source": [
    "\"Amazon's ASINs are regional website specific, which is why the asin from a mobi file cannot be directly used.\" - Amazon"
   ]
  },
  {
   "cell_type": "markdown",
   "id": "2e7a047b",
   "metadata": {},
   "source": [
    "### Data Imputation"
   ]
  },
  {
   "cell_type": "markdown",
   "id": "46e4c65b",
   "metadata": {},
   "source": [
    "We haven't done any data imputation but the below functions can be used get more data "
   ]
  },
  {
   "cell_type": "code",
   "execution_count": 3,
   "id": "97a8293d",
   "metadata": {},
   "outputs": [],
   "source": [
    "import requests"
   ]
  },
  {
   "cell_type": "code",
   "execution_count": 136,
   "id": "0e0ee894",
   "metadata": {},
   "outputs": [],
   "source": [
    "#Search using titles and compare desc to make sure the book is correct.\n",
    "## https://www.googleapis.com/books/v1/volumes?q=title:Wedding%20Girl\n"
   ]
  },
  {
   "cell_type": "code",
   "execution_count": 137,
   "id": "c1912f82",
   "metadata": {},
   "outputs": [],
   "source": [
    "def check_open_lib(isbn):\n",
    "#     r = requests.get(f'http://openlibrary.org/api/books?bibkeys=ISBN:{isbn}&jscmd=details&format=json')\n",
    "    ## also allow http://openlibrary.org/api/volumes/brief/isbn/0596156715.json\n",
    "    ## https://openlibrary.org/dev/docs/api/read\n",
    "    r = requests.get(f'http://openlibrary.org/api/volumes/brief/isbn/{isbn}.json')\n",
    "\n",
    "    res = r.json()\n",
    "    try:\n",
    "        details = res[f'ISBN:{isbn}']['details']\n",
    "    except KeyError:\n",
    "        return {}\n",
    "        details['number_of_pages']\n",
    "    return details"
   ]
  },
  {
   "cell_type": "code",
   "execution_count": 138,
   "id": "57044c52",
   "metadata": {},
   "outputs": [],
   "source": [
    "def check_google_books_api(isbn):\n",
    "    ## they allow non-commerical use. \n",
    "    r = requests.get(f\"https://www.googleapis.com/books/v1/volumes?q=isbn:{isbn}\")\n",
    "    res = r.json()\n",
    "    try:\n",
    "        details = res['items'][0]['volumeInfo']\n",
    "    except (KeyError, IndexError):\n",
    "        return {}\n",
    "        print(details['pageCount'])\n",
    "    return details\n"
   ]
  },
  {
   "cell_type": "code",
   "execution_count": 145,
   "id": "d9879cad",
   "metadata": {},
   "outputs": [
    {
     "name": "stderr",
     "output_type": "stream",
     "text": [
      "c:\\users\\goyal_92by308\\appdata\\local\\programs\\python\\python39\\lib\\site-packages\\pandas\\core\\dtypes\\cast.py:1097: RuntimeWarning: overflow encountered in cast\n",
      "  return arr.astype(dtype, copy=True)\n"
     ]
    }
   ],
   "source": [
    "df_books[\"average_rating\"] = df_books[\"average_rating\"].astype(np.float16)\n",
    "df_books[\"ratings_count\"] = df_books[\"ratings_count\"].astype(np.float16)"
   ]
  },
  {
   "cell_type": "markdown",
   "id": "b1d96e10",
   "metadata": {},
   "source": [
    "### filtering books  \n",
    "1. No rating counts\n",
    "2. Removing books with no-isbns or isbn13 (no asins included.)\n",
    "3. Some percentage based on number of ratings\n"
   ]
  },
  {
   "cell_type": "code",
   "execution_count": 147,
   "id": "0a33c0ab",
   "metadata": {},
   "outputs": [
    {
     "name": "stdout",
     "output_type": "stream",
     "text": [
      "Removing  35  values i.e. 0.039145071635481095  % of the values\n"
     ]
    }
   ],
   "source": [
    "m = df_books[\"ratings_count\"]==np.inf\n",
    "print(\"Removing \",m.sum(),\" values i.e.\", m.sum()/m.count()*100,\" % of the values\")\n",
    "df_books = df_books[~m]"
   ]
  },
  {
   "cell_type": "code",
   "execution_count": 148,
   "id": "f6f8494d",
   "metadata": {},
   "outputs": [],
   "source": [
    "if not for_recommender:\n",
    "    m1 = df_books[\"isbn\"] != \"\"\n",
    "    m2 = df_books[\"isbn13\"] != \"\"\n",
    "    m = m1|m2\n",
    "    print(\"Removing \",m.sum(),\" values i.e.\", m.sum()/m.count()*100,\" % of the values because of no ISBNs\")\n",
    "    df_books_all_isbns = df_books[m]\n",
    "else:\n",
    "    df_books_all_isbns = df_books"
   ]
  },
  {
   "cell_type": "markdown",
   "id": "a12e0ab8",
   "metadata": {},
   "source": [
    "some books have same ISBNs but are from different publishers and all. Let's make sure that isbn and isbn13 are unique"
   ]
  },
  {
   "cell_type": "markdown",
   "id": "f682b23d",
   "metadata": {},
   "source": [
    "These seem ok, same isbns cannot have different publisers, but the book with same title can be present in dataset"
   ]
  },
  {
   "cell_type": "code",
   "execution_count": 149,
   "id": "6d61b29e",
   "metadata": {},
   "outputs": [
    {
     "data": {
      "text/html": [
       "<div>\n",
       "<style scoped>\n",
       "    .dataframe tbody tr th:only-of-type {\n",
       "        vertical-align: middle;\n",
       "    }\n",
       "\n",
       "    .dataframe tbody tr th {\n",
       "        vertical-align: top;\n",
       "    }\n",
       "\n",
       "    .dataframe thead th {\n",
       "        text-align: right;\n",
       "    }\n",
       "</style>\n",
       "<table border=\"1\" class=\"dataframe\">\n",
       "  <thead>\n",
       "    <tr style=\"text-align: right;\">\n",
       "      <th></th>\n",
       "      <th>isbn</th>\n",
       "      <th>language_code</th>\n",
       "      <th>asin</th>\n",
       "      <th>is_ebook</th>\n",
       "      <th>average_rating</th>\n",
       "      <th>kindle_asin</th>\n",
       "      <th>description</th>\n",
       "      <th>format</th>\n",
       "      <th>publisher</th>\n",
       "      <th>num_pages</th>\n",
       "      <th>...</th>\n",
       "      <th>publication_month</th>\n",
       "      <th>edition_information</th>\n",
       "      <th>publication_year</th>\n",
       "      <th>book_id</th>\n",
       "      <th>ratings_count</th>\n",
       "      <th>work_id</th>\n",
       "      <th>title</th>\n",
       "      <th>title_without_series</th>\n",
       "      <th>primary author</th>\n",
       "      <th>Num of authors</th>\n",
       "    </tr>\n",
       "  </thead>\n",
       "  <tbody>\n",
       "    <tr>\n",
       "      <th>20</th>\n",
       "      <td></td>\n",
       "      <td>eng</td>\n",
       "      <td>B009POHJXS</td>\n",
       "      <td>true</td>\n",
       "      <td>4.410156</td>\n",
       "      <td>B009POHJXS</td>\n",
       "      <td>Investigative reporter Spider Jerusalem attack...</td>\n",
       "      <td></td>\n",
       "      <td></td>\n",
       "      <td></td>\n",
       "      <td>...</td>\n",
       "      <td></td>\n",
       "      <td></td>\n",
       "      <td></td>\n",
       "      <td>19115865</td>\n",
       "      <td>58.0</td>\n",
       "      <td>978454</td>\n",
       "      <td>Transmetropolitan, Vol. 4: The New Scum</td>\n",
       "      <td>Transmetropolitan, Vol. 4: The New Scum</td>\n",
       "      <td>12772</td>\n",
       "      <td>2</td>\n",
       "    </tr>\n",
       "    <tr>\n",
       "      <th>25</th>\n",
       "      <td></td>\n",
       "      <td>en-GB</td>\n",
       "      <td>B007USU8XY</td>\n",
       "      <td>true</td>\n",
       "      <td>3.810547</td>\n",
       "      <td>B007USU8XY</td>\n",
       "      <td>A snowflake that describes the multiverse. A t...</td>\n",
       "      <td>Kindle Edition</td>\n",
       "      <td>Sequart Research &amp; Literacy Organization</td>\n",
       "      <td></td>\n",
       "      <td>...</td>\n",
       "      <td>4</td>\n",
       "      <td>revised first edition</td>\n",
       "      <td>2012</td>\n",
       "      <td>13605042</td>\n",
       "      <td>11.0</td>\n",
       "      <td>18327915</td>\n",
       "      <td>Keeping the World Strange:  A Planetary Guide</td>\n",
       "      <td>Keeping the World Strange:  A Planetary Guide</td>\n",
       "      <td>5435058</td>\n",
       "      <td>11</td>\n",
       "    </tr>\n",
       "    <tr>\n",
       "      <th>32</th>\n",
       "      <td>1846535859</td>\n",
       "      <td>eng</td>\n",
       "      <td></td>\n",
       "      <td>false</td>\n",
       "      <td>3.580078</td>\n",
       "      <td>B00P16G50W</td>\n",
       "      <td>The X-Men are shaken to the core by the Battle...</td>\n",
       "      <td>Paperback</td>\n",
       "      <td>Panini Books</td>\n",
       "      <td>116</td>\n",
       "      <td>...</td>\n",
       "      <td>4</td>\n",
       "      <td></td>\n",
       "      <td>2014</td>\n",
       "      <td>19541857</td>\n",
       "      <td>27.0</td>\n",
       "      <td>25959476</td>\n",
       "      <td>All-New X-Men, Vol. 4: All-Different</td>\n",
       "      <td>All-New X-Men, Vol. 4: All-Different</td>\n",
       "      <td>12424</td>\n",
       "      <td>3</td>\n",
       "    </tr>\n",
       "    <tr>\n",
       "      <th>37</th>\n",
       "      <td>1421584239</td>\n",
       "      <td></td>\n",
       "      <td></td>\n",
       "      <td>false</td>\n",
       "      <td>4.281250</td>\n",
       "      <td>B01AB5VAW0</td>\n",
       "      <td>Yoshida is short, scrawny and generally unattr...</td>\n",
       "      <td>Paperback</td>\n",
       "      <td>SuBLime</td>\n",
       "      <td>175</td>\n",
       "      <td>...</td>\n",
       "      <td>1</td>\n",
       "      <td></td>\n",
       "      <td>2016</td>\n",
       "      <td>27220737</td>\n",
       "      <td>38.0</td>\n",
       "      <td>45979166</td>\n",
       "      <td>His Favorite, Vol. 8</td>\n",
       "      <td>His Favorite, Vol. 8</td>\n",
       "      <td>745566</td>\n",
       "      <td>1</td>\n",
       "    </tr>\n",
       "    <tr>\n",
       "      <th>45</th>\n",
       "      <td>0785164960</td>\n",
       "      <td></td>\n",
       "      <td></td>\n",
       "      <td>false</td>\n",
       "      <td>2.939453</td>\n",
       "      <td>B00PSN1H60</td>\n",
       "      <td>X-Men legend Neal Adams returns to Marvel's mu...</td>\n",
       "      <td>Paperback</td>\n",
       "      <td>Marvel</td>\n",
       "      <td>112</td>\n",
       "      <td>...</td>\n",
       "      <td>9</td>\n",
       "      <td></td>\n",
       "      <td>2013</td>\n",
       "      <td>17277794</td>\n",
       "      <td>30.0</td>\n",
       "      <td>21738666</td>\n",
       "      <td>First X-Men</td>\n",
       "      <td>First X-Men</td>\n",
       "      <td>61970</td>\n",
       "      <td>2</td>\n",
       "    </tr>\n",
       "    <tr>\n",
       "      <th>...</th>\n",
       "      <td>...</td>\n",
       "      <td>...</td>\n",
       "      <td>...</td>\n",
       "      <td>...</td>\n",
       "      <td>...</td>\n",
       "      <td>...</td>\n",
       "      <td>...</td>\n",
       "      <td>...</td>\n",
       "      <td>...</td>\n",
       "      <td>...</td>\n",
       "      <td>...</td>\n",
       "      <td>...</td>\n",
       "      <td>...</td>\n",
       "      <td>...</td>\n",
       "      <td>...</td>\n",
       "      <td>...</td>\n",
       "      <td>...</td>\n",
       "      <td>...</td>\n",
       "      <td>...</td>\n",
       "      <td>...</td>\n",
       "      <td>...</td>\n",
       "    </tr>\n",
       "    <tr>\n",
       "      <th>89386</th>\n",
       "      <td>0224064401</td>\n",
       "      <td>eng</td>\n",
       "      <td></td>\n",
       "      <td>false</td>\n",
       "      <td>4.230469</td>\n",
       "      <td></td>\n",
       "      <td>Wise, often funny, sometimes heartbreaking, Pe...</td>\n",
       "      <td>Hardcover</td>\n",
       "      <td>Jonathan Cape</td>\n",
       "      <td>153</td>\n",
       "      <td>...</td>\n",
       "      <td>5</td>\n",
       "      <td></td>\n",
       "      <td>2003</td>\n",
       "      <td>869979</td>\n",
       "      <td>390.0</td>\n",
       "      <td>3303888</td>\n",
       "      <td>Persepolis: The Story of a Childhood</td>\n",
       "      <td>Persepolis: The Story of a Childhood</td>\n",
       "      <td>6238</td>\n",
       "      <td>1</td>\n",
       "    </tr>\n",
       "    <tr>\n",
       "      <th>89397</th>\n",
       "      <td></td>\n",
       "      <td>eng</td>\n",
       "      <td>B015YX9INC</td>\n",
       "      <td>true</td>\n",
       "      <td>4.078125</td>\n",
       "      <td>B015YX9INC</td>\n",
       "      <td>The second storyline from the Eisner Awardwinn...</td>\n",
       "      <td></td>\n",
       "      <td></td>\n",
       "      <td>128</td>\n",
       "      <td>...</td>\n",
       "      <td></td>\n",
       "      <td></td>\n",
       "      <td></td>\n",
       "      <td>27070179</td>\n",
       "      <td>59.0</td>\n",
       "      <td>42769900</td>\n",
       "      <td>Sex Criminals, Vol. 2: Two Worlds, One Cop</td>\n",
       "      <td>Sex Criminals, Vol. 2: Two Worlds, One Cop</td>\n",
       "      <td>61382</td>\n",
       "      <td>2</td>\n",
       "    </tr>\n",
       "    <tr>\n",
       "      <th>89398</th>\n",
       "      <td>1401224687</td>\n",
       "      <td>eng</td>\n",
       "      <td></td>\n",
       "      <td>false</td>\n",
       "      <td>3.900391</td>\n",
       "      <td>B005CRQ2XU</td>\n",
       "      <td>Forget everything you know about The Man of St...</td>\n",
       "      <td>Hardcover</td>\n",
       "      <td>DC Comics</td>\n",
       "      <td>134</td>\n",
       "      <td>...</td>\n",
       "      <td>11</td>\n",
       "      <td></td>\n",
       "      <td>2010</td>\n",
       "      <td>7657484</td>\n",
       "      <td>13224.0</td>\n",
       "      <td>10234999</td>\n",
       "      <td>Superman: Earth One, Volume 1</td>\n",
       "      <td>Superman: Earth One, Volume 1</td>\n",
       "      <td>2689</td>\n",
       "      <td>5</td>\n",
       "    </tr>\n",
       "    <tr>\n",
       "      <th>89402</th>\n",
       "      <td></td>\n",
       "      <td>eng</td>\n",
       "      <td></td>\n",
       "      <td>false</td>\n",
       "      <td>4.730469</td>\n",
       "      <td></td>\n",
       "      <td>\"A FULL CONFESSION\"\\nSolve one murder, uncover...</td>\n",
       "      <td>Mass Market Paperback</td>\n",
       "      <td></td>\n",
       "      <td>53</td>\n",
       "      <td>...</td>\n",
       "      <td>10</td>\n",
       "      <td></td>\n",
       "      <td>2016</td>\n",
       "      <td>32598998</td>\n",
       "      <td>3.0</td>\n",
       "      <td>53177155</td>\n",
       "      <td>The Black Monday Murders #3</td>\n",
       "      <td>The Black Monday Murders #3</td>\n",
       "      <td>356424</td>\n",
       "      <td>1</td>\n",
       "    </tr>\n",
       "    <tr>\n",
       "      <th>89410</th>\n",
       "      <td></td>\n",
       "      <td>eng</td>\n",
       "      <td>B00OEK0HQE</td>\n",
       "      <td>true</td>\n",
       "      <td>4.238281</td>\n",
       "      <td>B00OEK0HQE</td>\n",
       "      <td>In the city that never sleeps, spirits are equ...</td>\n",
       "      <td>Kindle Edition</td>\n",
       "      <td>Chromatic Press</td>\n",
       "      <td>219</td>\n",
       "      <td>...</td>\n",
       "      <td>9</td>\n",
       "      <td></td>\n",
       "      <td>2014</td>\n",
       "      <td>23363286</td>\n",
       "      <td>15.0</td>\n",
       "      <td>42919549</td>\n",
       "      <td>Dead Endings</td>\n",
       "      <td>Dead Endings</td>\n",
       "      <td>7741497</td>\n",
       "      <td>2</td>\n",
       "    </tr>\n",
       "  </tbody>\n",
       "</table>\n",
       "<p>12650 rows × 22 columns</p>\n",
       "</div>"
      ],
      "text/plain": [
       "             isbn language_code        asin is_ebook  average_rating  \\\n",
       "20                          eng  B009POHJXS     true        4.410156   \n",
       "25                        en-GB  B007USU8XY     true        3.810547   \n",
       "32     1846535859           eng                false        3.580078   \n",
       "37     1421584239                              false        4.281250   \n",
       "45     0785164960                              false        2.939453   \n",
       "...           ...           ...         ...      ...             ...   \n",
       "89386  0224064401           eng                false        4.230469   \n",
       "89397                       eng  B015YX9INC     true        4.078125   \n",
       "89398  1401224687           eng                false        3.900391   \n",
       "89402                       eng                false        4.730469   \n",
       "89410                       eng  B00OEK0HQE     true        4.238281   \n",
       "\n",
       "      kindle_asin                                        description  \\\n",
       "20     B009POHJXS  Investigative reporter Spider Jerusalem attack...   \n",
       "25     B007USU8XY  A snowflake that describes the multiverse. A t...   \n",
       "32     B00P16G50W  The X-Men are shaken to the core by the Battle...   \n",
       "37     B01AB5VAW0  Yoshida is short, scrawny and generally unattr...   \n",
       "45     B00PSN1H60  X-Men legend Neal Adams returns to Marvel's mu...   \n",
       "...           ...                                                ...   \n",
       "89386              Wise, often funny, sometimes heartbreaking, Pe...   \n",
       "89397  B015YX9INC  The second storyline from the Eisner Awardwinn...   \n",
       "89398  B005CRQ2XU  Forget everything you know about The Man of St...   \n",
       "89402              \"A FULL CONFESSION\"\\nSolve one murder, uncover...   \n",
       "89410  B00OEK0HQE  In the city that never sleeps, spirits are equ...   \n",
       "\n",
       "                      format                                 publisher  \\\n",
       "20                                                                       \n",
       "25            Kindle Edition  Sequart Research & Literacy Organization   \n",
       "32                 Paperback                              Panini Books   \n",
       "37                 Paperback                                   SuBLime   \n",
       "45                 Paperback                                    Marvel   \n",
       "...                      ...                                       ...   \n",
       "89386              Hardcover                             Jonathan Cape   \n",
       "89397                                                                    \n",
       "89398              Hardcover                                 DC Comics   \n",
       "89402  Mass Market Paperback                                             \n",
       "89410         Kindle Edition                           Chromatic Press   \n",
       "\n",
       "      num_pages  ... publication_month    edition_information  \\\n",
       "20               ...                                            \n",
       "25               ...                 4  revised first edition   \n",
       "32          116  ...                 4                          \n",
       "37          175  ...                 1                          \n",
       "45          112  ...                 9                          \n",
       "...         ...  ...               ...                    ...   \n",
       "89386       153  ...                 5                          \n",
       "89397       128  ...                                            \n",
       "89398       134  ...                11                          \n",
       "89402        53  ...                10                          \n",
       "89410       219  ...                 9                          \n",
       "\n",
       "      publication_year   book_id ratings_count   work_id  \\\n",
       "20                      19115865          58.0    978454   \n",
       "25                2012  13605042          11.0  18327915   \n",
       "32                2014  19541857          27.0  25959476   \n",
       "37                2016  27220737          38.0  45979166   \n",
       "45                2013  17277794          30.0  21738666   \n",
       "...                ...       ...           ...       ...   \n",
       "89386             2003    869979         390.0   3303888   \n",
       "89397                   27070179          59.0  42769900   \n",
       "89398             2010   7657484       13224.0  10234999   \n",
       "89402             2016  32598998           3.0  53177155   \n",
       "89410             2014  23363286          15.0  42919549   \n",
       "\n",
       "                                               title  \\\n",
       "20           Transmetropolitan, Vol. 4: The New Scum   \n",
       "25     Keeping the World Strange:  A Planetary Guide   \n",
       "32              All-New X-Men, Vol. 4: All-Different   \n",
       "37                              His Favorite, Vol. 8   \n",
       "45                                       First X-Men   \n",
       "...                                              ...   \n",
       "89386           Persepolis: The Story of a Childhood   \n",
       "89397     Sex Criminals, Vol. 2: Two Worlds, One Cop   \n",
       "89398                  Superman: Earth One, Volume 1   \n",
       "89402                    The Black Monday Murders #3   \n",
       "89410                                   Dead Endings   \n",
       "\n",
       "                                title_without_series primary author  \\\n",
       "20           Transmetropolitan, Vol. 4: The New Scum          12772   \n",
       "25     Keeping the World Strange:  A Planetary Guide        5435058   \n",
       "32              All-New X-Men, Vol. 4: All-Different          12424   \n",
       "37                              His Favorite, Vol. 8         745566   \n",
       "45                                       First X-Men          61970   \n",
       "...                                              ...            ...   \n",
       "89386           Persepolis: The Story of a Childhood           6238   \n",
       "89397     Sex Criminals, Vol. 2: Two Worlds, One Cop          61382   \n",
       "89398                  Superman: Earth One, Volume 1           2689   \n",
       "89402                    The Black Monday Murders #3         356424   \n",
       "89410                                   Dead Endings        7741497   \n",
       "\n",
       "      Num of authors  \n",
       "20                 2  \n",
       "25                11  \n",
       "32                 3  \n",
       "37                 1  \n",
       "45                 2  \n",
       "...              ...  \n",
       "89386              1  \n",
       "89397              2  \n",
       "89398              5  \n",
       "89402              1  \n",
       "89410              2  \n",
       "\n",
       "[12650 rows x 22 columns]"
      ]
     },
     "execution_count": 149,
     "metadata": {},
     "output_type": "execute_result"
    }
   ],
   "source": [
    "m1 = df_books_all_isbns.duplicated(subset=['title'], keep=False)\n",
    "m2 = df_books_all_isbns['title'].astype(str) != ''\n",
    "df_books_all_isbns[m1 & m2]"
   ]
  },
  {
   "cell_type": "code",
   "execution_count": 150,
   "id": "f7d50531",
   "metadata": {},
   "outputs": [],
   "source": [
    "# df_books_all_isbns[df_books_all_isbns[\"title\"] == \"Emma\"].to_csv(\"temp.csv\")"
   ]
  },
  {
   "cell_type": "code",
   "execution_count": 151,
   "id": "f4822d7b",
   "metadata": {},
   "outputs": [
    {
     "name": "stdout",
     "output_type": "stream",
     "text": [
      "10th percentile: 5.0\n",
      "15th percentile: 7.0\n",
      "20th percentile: 10.0\n",
      "30th percentile: 16.0\n",
      "40th percentile: 26.0\n",
      "50th percentile: 39.0\n",
      "60th percentile: 60.0\n"
     ]
    }
   ],
   "source": [
    "percentiles = df_books_all_isbns[\"ratings_count\"].quantile([0.1,0.15, 0.2, 0.3,0.4,0.5,0.6])\n",
    "print(\"10th percentile:\", percentiles[0.1])\n",
    "print(\"15th percentile:\", percentiles[0.15])\n",
    "print(\"20th percentile:\", percentiles[0.2])\n",
    "print(\"30th percentile:\", percentiles[0.3])\n",
    "print(\"40th percentile:\", percentiles[0.4])\n",
    "print(\"50th percentile:\", percentiles[0.5])\n",
    "print(\"60th percentile:\", percentiles[0.6])"
   ]
  },
  {
   "cell_type": "markdown",
   "id": "1696aad5",
   "metadata": {},
   "source": [
    "Based of this let's remove another 20% data (which is ~10) before imputing values to dataset."
   ]
  },
  {
   "cell_type": "code",
   "execution_count": 152,
   "id": "9a2807e8",
   "metadata": {},
   "outputs": [],
   "source": [
    "## SKIP this for recommendation sys\n",
    "if not for_recommender:\n",
    "    m = df_books_all_isbns[\"ratings_count\"] < percentiles[0.2]\n",
    "    df_books_all_isbns = df_books_all_isbns[~m]\n",
    "else:\n",
    "    m = df_books_all_isbns[\"ratings_count\"] < 4 ## we need books with atleast x\n",
    "    df_books_all_isbns = df_books_all_isbns[~m]\n",
    "    "
   ]
  },
  {
   "cell_type": "code",
   "execution_count": 153,
   "id": "2f7a4c17",
   "metadata": {},
   "outputs": [],
   "source": [
    "#### imputing data about language code and number of pages"
   ]
  },
  {
   "cell_type": "code",
   "execution_count": null,
   "id": "ec7af297",
   "metadata": {},
   "outputs": [],
   "source": []
  },
  {
   "cell_type": "code",
   "execution_count": null,
   "id": "5ec031ae",
   "metadata": {},
   "outputs": [],
   "source": []
  },
  {
   "cell_type": "markdown",
   "id": "13fad044",
   "metadata": {},
   "source": [
    "### let's see which columns have missing info"
   ]
  },
  {
   "cell_type": "markdown",
   "id": "343c1871",
   "metadata": {},
   "source": [
    "from manual inspection, a lot of data where language code missing is eng. Let's map all engish columns to \"eng\". "
   ]
  },
  {
   "cell_type": "code",
   "execution_count": 154,
   "id": "b6954415",
   "metadata": {},
   "outputs": [
    {
     "name": "stderr",
     "output_type": "stream",
     "text": [
      "c:\\users\\goyal_92by308\\appdata\\local\\programs\\python\\python39\\lib\\site-packages\\pandas\\core\\indexing.py:1720: SettingWithCopyWarning: \n",
      "A value is trying to be set on a copy of a slice from a DataFrame.\n",
      "Try using .loc[row_indexer,col_indexer] = value instead\n",
      "\n",
      "See the caveats in the documentation: https://pandas.pydata.org/pandas-docs/stable/user_guide/indexing.html#returning-a-view-versus-a-copy\n",
      "  self._setitem_single_column(loc, value, pi)\n"
     ]
    },
    {
     "data": {
      "text/plain": [
       "array(['fre', 'eng', 'kor', 'jpn', 'spa', 'ita', 'nor', 'ind', 'cze',\n",
       "       'ben', 'swe', 'ger', 'nl', 'por', 'gre', 'fin', 'rum', 'bos',\n",
       "       'msa', 'tur', 'per', 'pol', 'hin', 'mul', 'scr', 'tha', 'fil',\n",
       "       'zho', 'rus', 'bul', 'srp', 'ara', 'nno', 'lav', 'vie', 'pes',\n",
       "       'cat', 'tgl', 'dan', 'hun', 'est', 'ach', 'kat', 'ira', 'ukr',\n",
       "       'inh', 'slv', 'lit', 'sco', 'tel', 'slo', 'nob', 'eus', 'abk',\n",
       "       'ine', 'isl', 'wak', 'iku', 'fiu', 'aze', 'glg', 'dut', 'heb'],\n",
       "      dtype=object)"
      ]
     },
     "execution_count": 154,
     "metadata": {},
     "output_type": "execute_result"
    }
   ],
   "source": [
    "lang_eng = ['eng', '', 'en-US','en-GB', 'en-CA', '--', 'en', 'aus' , 'enm']\n",
    "df_books_all_isbns.loc[df_books_all_isbns['language_code'].isin(lang_eng), 'language_code'] = 'eng'\n",
    "df_books_all_isbns[\"language_code\"].unique()"
   ]
  },
  {
   "cell_type": "code",
   "execution_count": 155,
   "id": "68ea423b",
   "metadata": {},
   "outputs": [],
   "source": [
    "cols =  ['language_code', 'is_ebook', 'average_rating', 'description', 'format', 'publisher', 'num_pages',\n",
    "       'publication_month',\n",
    "         'edition_information',\n",
    "       'publication_year', 'ratings_count', 'title',\n",
    "       'title_without_series', 'primary author', 'Num of authors']"
   ]
  },
  {
   "cell_type": "code",
   "execution_count": 156,
   "id": "1ae0780f",
   "metadata": {},
   "outputs": [
    {
     "name": "stdout",
     "output_type": "stream",
     "text": [
      "language_code : 0.0\n",
      "is_ebook : 0.0\n",
      "average_rating : 0.0\n",
      "description : 16.83737495667555\n",
      "format : 24.219861122730695\n",
      "publisher : 21.598881332839333\n",
      "num_pages : 26.26357997394557\n",
      "publication_month : 29.21322800014342\n",
      "edition_information : 92.53385282833958\n",
      "publication_year : 20.511288259970602\n",
      "ratings_count : 0.0\n",
      "title : 0.0\n",
      "title_without_series : 0.0\n",
      "primary author : 0.0\n",
      "Num of authors : 0.0\n"
     ]
    }
   ],
   "source": [
    "for col in cols:\n",
    "    m = df_books_all_isbns[col] == \"\"\n",
    "    per_data = m.sum()/m.count() * 100\n",
    "    print(col,\":\",per_data)\n"
   ]
  },
  {
   "cell_type": "code",
   "execution_count": 157,
   "id": "d150e90f",
   "metadata": {},
   "outputs": [
    {
     "data": {
      "text/plain": [
       "Index(['isbn', 'language_code', 'asin', 'is_ebook', 'average_rating',\n",
       "       'kindle_asin', 'description', 'format', 'publisher', 'num_pages',\n",
       "       'publication_day', 'isbn13', 'publication_month', 'edition_information',\n",
       "       'publication_year', 'book_id', 'ratings_count', 'work_id', 'title',\n",
       "       'title_without_series', 'primary author', 'Num of authors'],\n",
       "      dtype='object')"
      ]
     },
     "execution_count": 157,
     "metadata": {},
     "output_type": "execute_result"
    }
   ],
   "source": [
    "df_books_all_isbns.columns"
   ]
  },
  {
   "cell_type": "markdown",
   "id": "06e7ccf9",
   "metadata": {},
   "source": [
    "let's drop columns which have >20% data missing"
   ]
  },
  {
   "cell_type": "code",
   "execution_count": 158,
   "id": "64bb8d68",
   "metadata": {},
   "outputs": [
    {
     "data": {
      "text/plain": [
       "isbn                    36.280193\n",
       "language_code            0.000000\n",
       "asin                    87.118595\n",
       "is_ebook                 0.000000\n",
       "average_rating           0.000000\n",
       "kindle_asin             64.698641\n",
       "description             16.837375\n",
       "format                  24.219861\n",
       "publisher               21.598881\n",
       "num_pages               26.263580\n",
       "publication_day         38.488843\n",
       "isbn13                  26.176333\n",
       "publication_month       29.213228\n",
       "edition_information     92.533853\n",
       "publication_year        20.511288\n",
       "book_id                  0.000000\n",
       "ratings_count            0.000000\n",
       "work_id                  0.000000\n",
       "title                    0.000000\n",
       "title_without_series     0.000000\n",
       "primary author           0.000000\n",
       "Num of authors           0.000000\n",
       "dtype: float64"
      ]
     },
     "execution_count": 158,
     "metadata": {},
     "output_type": "execute_result"
    }
   ],
   "source": [
    "missing_percentage = (df_books_all_isbns==\"\").sum() / len(df_books_all_isbns)\n",
    "missing_percentage*100"
   ]
  },
  {
   "cell_type": "code",
   "execution_count": 159,
   "id": "a435bc22",
   "metadata": {},
   "outputs": [
    {
     "name": "stderr",
     "output_type": "stream",
     "text": [
      "c:\\users\\goyal_92by308\\appdata\\local\\programs\\python\\python39\\lib\\site-packages\\pandas\\core\\frame.py:4308: SettingWithCopyWarning: \n",
      "A value is trying to be set on a copy of a slice from a DataFrame\n",
      "\n",
      "See the caveats in the documentation: https://pandas.pydata.org/pandas-docs/stable/user_guide/indexing.html#returning-a-view-versus-a-copy\n",
      "  return super().drop(\n"
     ]
    }
   ],
   "source": [
    "# Drop columns where missing percentage is greater than 20%\n",
    "columns_to_drop = missing_percentage[missing_percentage > 0.50].index\n",
    "df_books_all_isbns.drop(columns=columns_to_drop, inplace=True)"
   ]
  },
  {
   "cell_type": "markdown",
   "id": "81097479",
   "metadata": {},
   "source": [
    "Now let's drop all the rows with any missing data"
   ]
  },
  {
   "cell_type": "code",
   "execution_count": 160,
   "id": "02af98b6",
   "metadata": {},
   "outputs": [],
   "source": [
    "x = (df_books_all_isbns==\"\")\n",
    "m = x.any(axis = 1)\n",
    "df_books_all_isbns = df_books_all_isbns[~m]"
   ]
  },
  {
   "cell_type": "code",
   "execution_count": 161,
   "id": "ffb19cc2",
   "metadata": {
    "scrolled": true
   },
   "outputs": [
    {
     "data": {
      "text/plain": [
       "Index(['isbn', 'language_code', 'is_ebook', 'average_rating', 'description',\n",
       "       'format', 'publisher', 'num_pages', 'publication_day', 'isbn13',\n",
       "       'publication_month', 'publication_year', 'book_id', 'ratings_count',\n",
       "       'work_id', 'title', 'title_without_series', 'primary author',\n",
       "       'Num of authors'],\n",
       "      dtype='object')"
      ]
     },
     "execution_count": 161,
     "metadata": {},
     "output_type": "execute_result"
    }
   ],
   "source": [
    "df_books_all_isbns.columns"
   ]
  },
  {
   "cell_type": "code",
   "execution_count": 162,
   "id": "be152679",
   "metadata": {},
   "outputs": [],
   "source": [
    "## let's drop random number columns as no data imputing after this point\n",
    "# cols = ['isbn13', \"work_id\", \"isbn\"]\n",
    "# df_books_all_isbns.drop(cols, axis = 1,inplace=True)"
   ]
  },
  {
   "cell_type": "markdown",
   "id": "c17c7509",
   "metadata": {},
   "source": [
    " ### add new feature"
   ]
  },
  {
   "cell_type": "markdown",
   "id": "a5c723ef",
   "metadata": {},
   "source": [
    "1. Author reputation before the book is published"
   ]
  },
  {
   "cell_type": "code",
   "execution_count": 163,
   "id": "29c8dfa9",
   "metadata": {},
   "outputs": [],
   "source": [
    "### lets add a new feature, this will represent average rating of the books by author before this book was published."
   ]
  },
  {
   "cell_type": "code",
   "execution_count": 164,
   "id": "037b1012",
   "metadata": {},
   "outputs": [
    {
     "data": {
      "text/plain": [
       "Index(['isbn', 'language_code', 'is_ebook', 'average_rating', 'description',\n",
       "       'format', 'publisher', 'num_pages', 'publication_day', 'isbn13',\n",
       "       'publication_month', 'publication_year', 'book_id', 'ratings_count',\n",
       "       'work_id', 'title', 'title_without_series', 'primary author',\n",
       "       'Num of authors'],\n",
       "      dtype='object')"
      ]
     },
     "execution_count": 164,
     "metadata": {},
     "output_type": "execute_result"
    }
   ],
   "source": [
    "df_books_all_isbns.columns"
   ]
  },
  {
   "cell_type": "code",
   "execution_count": 165,
   "id": "d55aa84a",
   "metadata": {},
   "outputs": [],
   "source": [
    "\n",
    "# Sort the DataFrame by author and publication year\n",
    "df_pubs = df_books_all_isbns[['publisher', 'publication_year',\"average_rating\"]]  ## month and day may lead data leak.\n",
    "df_pubs = df_pubs.sort_values(by=['publisher', 'publication_year'])\n",
    "\n",
    "# Calculate the cumulative sum of ratings and count of books for each author\n",
    "df_pubs['cumulative_rating'] = df_pubs.groupby('publisher')['average_rating'].cumsum()\n",
    "df_pubs['cumulative_books'] = df_pubs.groupby('publisher').cumcount() + 1\n",
    "\n",
    "# Shift the cumulative sum and count by one row to get the values before the current book\n",
    "df_pubs['previous_rating_sum'] = df_pubs.groupby('publisher')['cumulative_rating'].shift(1)\n",
    "df_pubs['previous_books_count'] = df_pubs.groupby('publisher')['cumulative_books'].shift(1)\n",
    "\n",
    "# Calculate the average rating of books by the author before each book was published\n",
    "df_pubs['previous_average_rating'] = df_pubs['previous_rating_sum'] / df_pubs['previous_books_count']\n",
    "\n",
    "# Drop the intermediate columns\n",
    "df_pubs.drop(['cumulative_rating', 'cumulative_books', 'previous_rating_sum', 'previous_books_count'], axis=1, inplace=True)\n",
    "df_pubs.drop_duplicates([\"publisher\", \"publication_year\"], keep=\"first\",inplace=True, ignore_index=True)"
   ]
  },
  {
   "cell_type": "code",
   "execution_count": null,
   "id": "51696a31",
   "metadata": {},
   "outputs": [],
   "source": []
  },
  {
   "cell_type": "code",
   "execution_count": 166,
   "id": "ec540139",
   "metadata": {},
   "outputs": [],
   "source": [
    "\n",
    "# Sort the DataFrame by author and publication year\n",
    "df_authors = df_books_all_isbns[['primary author', 'publication_year',\"average_rating\"]]  ## month and day may lead data leak.\n",
    "df_authors = df_authors.sort_values(by=['primary author', 'publication_year'])\n",
    "\n",
    "# Calculate the cumulative sum of ratings and count of books for each author\n",
    "df_authors['cumulative_rating'] = df_authors.groupby('primary author')['average_rating'].cumsum()\n",
    "df_authors['cumulative_books'] = df_authors.groupby('primary author').cumcount() + 1\n",
    "\n",
    "# Shift the cumulative sum and count by one row to get the values before the current book\n",
    "df_authors['previous_rating_sum'] = df_authors.groupby('primary author')['cumulative_rating'].shift(1)\n",
    "df_authors['previous_books_count'] = df_authors.groupby('primary author')['cumulative_books'].shift(1)\n",
    "\n",
    "# Calculate the average rating of books by the author before each book was published\n",
    "df_authors['previous_average_rating'] = df_authors['previous_rating_sum'] / df_authors['previous_books_count']\n",
    "\n",
    "# Drop the intermediate columns\n",
    "df_authors.drop(['cumulative_rating', 'cumulative_books', 'previous_rating_sum', 'previous_books_count'], axis=1, inplace=True)\n",
    "df_authors.drop_duplicates([\"primary author\", \"publication_year\"], keep=\"first\",inplace=True, ignore_index=True)"
   ]
  },
  {
   "cell_type": "code",
   "execution_count": 167,
   "id": "fcd8b7a0",
   "metadata": {},
   "outputs": [
    {
     "data": {
      "text/html": [
       "<div>\n",
       "<style scoped>\n",
       "    .dataframe tbody tr th:only-of-type {\n",
       "        vertical-align: middle;\n",
       "    }\n",
       "\n",
       "    .dataframe tbody tr th {\n",
       "        vertical-align: top;\n",
       "    }\n",
       "\n",
       "    .dataframe thead th {\n",
       "        text-align: right;\n",
       "    }\n",
       "</style>\n",
       "<table border=\"1\" class=\"dataframe\">\n",
       "  <thead>\n",
       "    <tr style=\"text-align: right;\">\n",
       "      <th></th>\n",
       "      <th>primary author</th>\n",
       "      <th>publication_year</th>\n",
       "      <th>average_rating</th>\n",
       "      <th>previous_average_rating</th>\n",
       "    </tr>\n",
       "  </thead>\n",
       "  <tbody>\n",
       "    <tr>\n",
       "      <th>0</th>\n",
       "      <td>1000576</td>\n",
       "      <td>2008</td>\n",
       "      <td>3.220703</td>\n",
       "      <td>NaN</td>\n",
       "    </tr>\n",
       "    <tr>\n",
       "      <th>1</th>\n",
       "      <td>1000576</td>\n",
       "      <td>2011</td>\n",
       "      <td>3.880859</td>\n",
       "      <td>3.410156</td>\n",
       "    </tr>\n",
       "    <tr>\n",
       "      <th>2</th>\n",
       "      <td>1000578</td>\n",
       "      <td>2008</td>\n",
       "      <td>3.230469</td>\n",
       "      <td>NaN</td>\n",
       "    </tr>\n",
       "    <tr>\n",
       "      <th>3</th>\n",
       "      <td>1000578</td>\n",
       "      <td>2009</td>\n",
       "      <td>3.509766</td>\n",
       "      <td>3.230469</td>\n",
       "    </tr>\n",
       "    <tr>\n",
       "      <th>4</th>\n",
       "      <td>1000834</td>\n",
       "      <td>2011</td>\n",
       "      <td>3.439453</td>\n",
       "      <td>NaN</td>\n",
       "    </tr>\n",
       "    <tr>\n",
       "      <th>...</th>\n",
       "      <td>...</td>\n",
       "      <td>...</td>\n",
       "      <td>...</td>\n",
       "      <td>...</td>\n",
       "    </tr>\n",
       "    <tr>\n",
       "      <th>18357</th>\n",
       "      <td>99888</td>\n",
       "      <td>1996</td>\n",
       "      <td>3.939453</td>\n",
       "      <td>NaN</td>\n",
       "    </tr>\n",
       "    <tr>\n",
       "      <th>18358</th>\n",
       "      <td>99929</td>\n",
       "      <td>2011</td>\n",
       "      <td>3.900391</td>\n",
       "      <td>NaN</td>\n",
       "    </tr>\n",
       "    <tr>\n",
       "      <th>18359</th>\n",
       "      <td>999522</td>\n",
       "      <td>2015</td>\n",
       "      <td>3.990234</td>\n",
       "      <td>NaN</td>\n",
       "    </tr>\n",
       "    <tr>\n",
       "      <th>18360</th>\n",
       "      <td>999522</td>\n",
       "      <td>2016</td>\n",
       "      <td>3.710938</td>\n",
       "      <td>3.990234</td>\n",
       "    </tr>\n",
       "    <tr>\n",
       "      <th>18361</th>\n",
       "      <td>999522</td>\n",
       "      <td>2017</td>\n",
       "      <td>3.830078</td>\n",
       "      <td>3.851562</td>\n",
       "    </tr>\n",
       "  </tbody>\n",
       "</table>\n",
       "<p>18362 rows × 4 columns</p>\n",
       "</div>"
      ],
      "text/plain": [
       "      primary author publication_year  average_rating  previous_average_rating\n",
       "0            1000576             2008        3.220703                      NaN\n",
       "1            1000576             2011        3.880859                 3.410156\n",
       "2            1000578             2008        3.230469                      NaN\n",
       "3            1000578             2009        3.509766                 3.230469\n",
       "4            1000834             2011        3.439453                      NaN\n",
       "...              ...              ...             ...                      ...\n",
       "18357          99888             1996        3.939453                      NaN\n",
       "18358          99929             2011        3.900391                      NaN\n",
       "18359         999522             2015        3.990234                      NaN\n",
       "18360         999522             2016        3.710938                 3.990234\n",
       "18361         999522             2017        3.830078                 3.851562\n",
       "\n",
       "[18362 rows x 4 columns]"
      ]
     },
     "execution_count": 167,
     "metadata": {},
     "output_type": "execute_result"
    }
   ],
   "source": [
    "df_authors"
   ]
  },
  {
   "cell_type": "code",
   "execution_count": 168,
   "id": "f934d61d",
   "metadata": {
    "scrolled": true
   },
   "outputs": [
    {
     "data": {
      "text/html": [
       "<div>\n",
       "<style scoped>\n",
       "    .dataframe tbody tr th:only-of-type {\n",
       "        vertical-align: middle;\n",
       "    }\n",
       "\n",
       "    .dataframe tbody tr th {\n",
       "        vertical-align: top;\n",
       "    }\n",
       "\n",
       "    .dataframe thead th {\n",
       "        text-align: right;\n",
       "    }\n",
       "</style>\n",
       "<table border=\"1\" class=\"dataframe\">\n",
       "  <thead>\n",
       "    <tr style=\"text-align: right;\">\n",
       "      <th></th>\n",
       "      <th>publisher</th>\n",
       "      <th>publication_year</th>\n",
       "      <th>average_rating</th>\n",
       "      <th>previous_average_rating</th>\n",
       "    </tr>\n",
       "  </thead>\n",
       "  <tbody>\n",
       "    <tr>\n",
       "      <th>0</th>\n",
       "      <td>!t Books</td>\n",
       "      <td>2010</td>\n",
       "      <td>4.230469</td>\n",
       "      <td>NaN</td>\n",
       "    </tr>\n",
       "    <tr>\n",
       "      <th>1</th>\n",
       "      <td>\"Marvel\"</td>\n",
       "      <td>2012</td>\n",
       "      <td>4.089844</td>\n",
       "      <td>NaN</td>\n",
       "    </tr>\n",
       "    <tr>\n",
       "      <th>2</th>\n",
       "      <td>001 Edizioni</td>\n",
       "      <td>2009</td>\n",
       "      <td>4.218750</td>\n",
       "      <td>NaN</td>\n",
       "    </tr>\n",
       "    <tr>\n",
       "      <th>3</th>\n",
       "      <td>001 Edizioni</td>\n",
       "      <td>2016</td>\n",
       "      <td>3.960938</td>\n",
       "      <td>4.218750</td>\n",
       "    </tr>\n",
       "    <tr>\n",
       "      <th>4</th>\n",
       "      <td>01 Publishing</td>\n",
       "      <td>2012</td>\n",
       "      <td>4.500000</td>\n",
       "      <td>NaN</td>\n",
       "    </tr>\n",
       "    <tr>\n",
       "      <th>...</th>\n",
       "      <td>...</td>\n",
       "      <td>...</td>\n",
       "      <td>...</td>\n",
       "      <td>...</td>\n",
       "    </tr>\n",
       "    <tr>\n",
       "      <th>7446</th>\n",
       "      <td>vorto.pl</td>\n",
       "      <td>2016</td>\n",
       "      <td>4.230469</td>\n",
       "      <td>NaN</td>\n",
       "    </tr>\n",
       "    <tr>\n",
       "      <th>7447</th>\n",
       "      <td>zin</td>\n",
       "      <td>2012</td>\n",
       "      <td>3.820312</td>\n",
       "      <td>NaN</td>\n",
       "    </tr>\n",
       "    <tr>\n",
       "      <th>7448</th>\n",
       "      <td>ziyunetsuto</td>\n",
       "      <td>2009</td>\n",
       "      <td>3.580078</td>\n",
       "      <td>NaN</td>\n",
       "    </tr>\n",
       "    <tr>\n",
       "      <th>7449</th>\n",
       "      <td>ziyunetsuto</td>\n",
       "      <td>2011</td>\n",
       "      <td>3.640625</td>\n",
       "      <td>3.580078</td>\n",
       "    </tr>\n",
       "    <tr>\n",
       "      <th>7450</th>\n",
       "      <td>ziyunetsuto</td>\n",
       "      <td>2012</td>\n",
       "      <td>3.300781</td>\n",
       "      <td>3.609375</td>\n",
       "    </tr>\n",
       "  </tbody>\n",
       "</table>\n",
       "<p>7451 rows × 4 columns</p>\n",
       "</div>"
      ],
      "text/plain": [
       "          publisher publication_year  average_rating  previous_average_rating\n",
       "0          !t Books             2010        4.230469                      NaN\n",
       "1          \"Marvel\"             2012        4.089844                      NaN\n",
       "2      001 Edizioni             2009        4.218750                      NaN\n",
       "3      001 Edizioni             2016        3.960938                 4.218750\n",
       "4     01 Publishing             2012        4.500000                      NaN\n",
       "...             ...              ...             ...                      ...\n",
       "7446       vorto.pl             2016        4.230469                      NaN\n",
       "7447            zin             2012        3.820312                      NaN\n",
       "7448    ziyunetsuto             2009        3.580078                      NaN\n",
       "7449    ziyunetsuto             2011        3.640625                 3.580078\n",
       "7450    ziyunetsuto             2012        3.300781                 3.609375\n",
       "\n",
       "[7451 rows x 4 columns]"
      ]
     },
     "execution_count": 168,
     "metadata": {},
     "output_type": "execute_result"
    }
   ],
   "source": [
    "df_pubs"
   ]
  },
  {
   "cell_type": "code",
   "execution_count": 169,
   "id": "b22ada51",
   "metadata": {},
   "outputs": [
    {
     "data": {
      "text/html": [
       "<div>\n",
       "<style scoped>\n",
       "    .dataframe tbody tr th:only-of-type {\n",
       "        vertical-align: middle;\n",
       "    }\n",
       "\n",
       "    .dataframe tbody tr th {\n",
       "        vertical-align: top;\n",
       "    }\n",
       "\n",
       "    .dataframe thead th {\n",
       "        text-align: right;\n",
       "    }\n",
       "</style>\n",
       "<table border=\"1\" class=\"dataframe\">\n",
       "  <thead>\n",
       "    <tr style=\"text-align: right;\">\n",
       "      <th></th>\n",
       "      <th>isbn</th>\n",
       "      <th>language_code</th>\n",
       "      <th>is_ebook</th>\n",
       "      <th>average_rating</th>\n",
       "      <th>description</th>\n",
       "      <th>format</th>\n",
       "      <th>publisher</th>\n",
       "      <th>num_pages</th>\n",
       "      <th>publication_day</th>\n",
       "      <th>isbn13</th>\n",
       "      <th>publication_month</th>\n",
       "      <th>publication_year</th>\n",
       "      <th>book_id</th>\n",
       "      <th>ratings_count</th>\n",
       "      <th>work_id</th>\n",
       "      <th>title</th>\n",
       "      <th>title_without_series</th>\n",
       "      <th>primary author</th>\n",
       "      <th>Num of authors</th>\n",
       "    </tr>\n",
       "  </thead>\n",
       "  <tbody>\n",
       "  </tbody>\n",
       "</table>\n",
       "</div>"
      ],
      "text/plain": [
       "Empty DataFrame\n",
       "Columns: [isbn, language_code, is_ebook, average_rating, description, format, publisher, num_pages, publication_day, isbn13, publication_month, publication_year, book_id, ratings_count, work_id, title, title_without_series, primary author, Num of authors]\n",
       "Index: []"
      ]
     },
     "execution_count": 169,
     "metadata": {},
     "output_type": "execute_result"
    }
   ],
   "source": [
    "m = df_books_all_isbns[\"primary author\"] == \"10000\"\n",
    "df_books_all_isbns[m]"
   ]
  },
  {
   "cell_type": "markdown",
   "id": "95fd6689",
   "metadata": {},
   "source": [
    "**Interesting a lot of authors who have multiple publications in a year are writers with stories which have multiple path and are erotic/love based books**"
   ]
  },
  {
   "cell_type": "code",
   "execution_count": 170,
   "id": "9ddf01ae",
   "metadata": {},
   "outputs": [
    {
     "data": {
      "text/plain": [
       "Index(['isbn', 'language_code', 'is_ebook', 'average_rating', 'description',\n",
       "       'format', 'publisher', 'num_pages', 'publication_day', 'isbn13',\n",
       "       'publication_month', 'publication_year', 'book_id', 'ratings_count',\n",
       "       'work_id', 'title', 'title_without_series', 'primary author',\n",
       "       'Num of authors'],\n",
       "      dtype='object')"
      ]
     },
     "execution_count": 170,
     "metadata": {},
     "output_type": "execute_result"
    }
   ],
   "source": [
    "df_books_all_isbns.columns"
   ]
  },
  {
   "cell_type": "code",
   "execution_count": 171,
   "id": "238b7cad",
   "metadata": {},
   "outputs": [
    {
     "data": {
      "text/plain": [
       "Index(['primary author', 'publication_year', 'average_rating',\n",
       "       'previous_average_rating'],\n",
       "      dtype='object')"
      ]
     },
     "execution_count": 171,
     "metadata": {},
     "output_type": "execute_result"
    }
   ],
   "source": [
    "df_authors.columns"
   ]
  },
  {
   "cell_type": "code",
   "execution_count": 172,
   "id": "8f4e2777",
   "metadata": {},
   "outputs": [
    {
     "data": {
      "text/plain": [
       "Index(['isbn', 'language_code', 'is_ebook', 'average_rating', 'description',\n",
       "       'format', 'publisher', 'num_pages', 'publication_day', 'isbn13',\n",
       "       'publication_month', 'publication_year', 'book_id', 'ratings_count',\n",
       "       'work_id', 'title', 'title_without_series', 'primary author',\n",
       "       'Num of authors'],\n",
       "      dtype='object')"
      ]
     },
     "execution_count": 172,
     "metadata": {},
     "output_type": "execute_result"
    }
   ],
   "source": [
    "df_books_all_isbns.columns"
   ]
  },
  {
   "cell_type": "code",
   "execution_count": 173,
   "id": "77c5ad6e",
   "metadata": {},
   "outputs": [],
   "source": [
    "merged_df = pd.merge(df_authors, df_books_all_isbns[[\"book_id\",\"publication_year\",'primary author']], on='primary author', suffixes=('_author', '_book'))\n",
    "\n",
    "# Filter rows where publication_year from df_author is less than publication_year from df_books\n",
    "filtered_df = merged_df[merged_df['publication_year_author'] < merged_df['publication_year_book']]\n",
    "\n",
    "# Group by primary_author_id and select the maximum publication_year, this doesn't have aurthors who published the book first time.\n",
    "latest_years = filtered_df.groupby(['primary author',\"book_id\"]).max().reset_index()[[\"primary author\", \"book_id\", \"previous_average_rating\"]]\n",
    "\n"
   ]
  },
  {
   "cell_type": "code",
   "execution_count": 174,
   "id": "d9fb4036",
   "metadata": {},
   "outputs": [],
   "source": [
    "df_books_author_features = df_books_all_isbns.merge(latest_years,on=[\"book_id\",\"primary author\"],how=\"left\")"
   ]
  },
  {
   "cell_type": "code",
   "execution_count": 175,
   "id": "c1003b0a",
   "metadata": {},
   "outputs": [],
   "source": [
    "df_books_author_features.rename({\"previous_average_rating\": \"Author rating\"},axis=1,inplace=True)"
   ]
  },
  {
   "cell_type": "code",
   "execution_count": 176,
   "id": "fe0b0f7c",
   "metadata": {},
   "outputs": [],
   "source": [
    "df_books_author_features[\"Author rating\"].fillna(df_books_author_features[\"Author rating\"].mean(),inplace=True)"
   ]
  },
  {
   "cell_type": "code",
   "execution_count": null,
   "id": "a50c50da",
   "metadata": {},
   "outputs": [],
   "source": []
  },
  {
   "cell_type": "code",
   "execution_count": 177,
   "id": "0ece71c6",
   "metadata": {},
   "outputs": [],
   "source": [
    "merged_df = pd.merge(df_pubs, df_books_all_isbns[[\"book_id\",\"publication_year\",'publisher']], on='publisher', suffixes=('_pubs', '_book'))\n",
    "\n",
    "# Filter rows where publication_year from df_author is less than publication_year from df_books\n",
    "filtered_df = merged_df[merged_df['publication_year_pubs'] < merged_df['publication_year_book']]\n",
    "\n",
    "# Group by primary_author_id and select the maximum publication_year, this doesn't have aurthors who published the book first time.\n",
    "latest_years = filtered_df.groupby(['publisher',\"book_id\"]).max().reset_index()[[\"publisher\", \"book_id\", \"previous_average_rating\"]]\n",
    "\n"
   ]
  },
  {
   "cell_type": "code",
   "execution_count": 178,
   "id": "a5a9d494",
   "metadata": {},
   "outputs": [],
   "source": [
    "df_books_pubs_features = df_books_all_isbns.merge(latest_years,on=[\"book_id\",\"publisher\"],how=\"left\")"
   ]
  },
  {
   "cell_type": "code",
   "execution_count": 179,
   "id": "448b75a0",
   "metadata": {},
   "outputs": [],
   "source": [
    "df_books_pubs_features.rename({\"previous_average_rating\": \"Publisher rating\"},axis=1,inplace=True)"
   ]
  },
  {
   "cell_type": "code",
   "execution_count": 180,
   "id": "c54f851e",
   "metadata": {},
   "outputs": [],
   "source": [
    "df_books_pubs_features[\"Publisher rating\"].fillna(df_books_pubs_features[\"Publisher rating\"].mean(),inplace=True)"
   ]
  },
  {
   "cell_type": "code",
   "execution_count": 181,
   "id": "c6b8b377",
   "metadata": {},
   "outputs": [
    {
     "data": {
      "text/html": [
       "<div>\n",
       "<style scoped>\n",
       "    .dataframe tbody tr th:only-of-type {\n",
       "        vertical-align: middle;\n",
       "    }\n",
       "\n",
       "    .dataframe tbody tr th {\n",
       "        vertical-align: top;\n",
       "    }\n",
       "\n",
       "    .dataframe thead th {\n",
       "        text-align: right;\n",
       "    }\n",
       "</style>\n",
       "<table border=\"1\" class=\"dataframe\">\n",
       "  <thead>\n",
       "    <tr style=\"text-align: right;\">\n",
       "      <th></th>\n",
       "      <th>isbn</th>\n",
       "      <th>language_code</th>\n",
       "      <th>is_ebook</th>\n",
       "      <th>average_rating</th>\n",
       "      <th>description</th>\n",
       "      <th>format</th>\n",
       "      <th>publisher</th>\n",
       "      <th>num_pages</th>\n",
       "      <th>publication_day</th>\n",
       "      <th>isbn13</th>\n",
       "      <th>publication_month</th>\n",
       "      <th>publication_year</th>\n",
       "      <th>book_id</th>\n",
       "      <th>ratings_count</th>\n",
       "      <th>work_id</th>\n",
       "      <th>title</th>\n",
       "      <th>title_without_series</th>\n",
       "      <th>primary author</th>\n",
       "      <th>Num of authors</th>\n",
       "      <th>Author rating</th>\n",
       "    </tr>\n",
       "  </thead>\n",
       "  <tbody>\n",
       "    <tr>\n",
       "      <th>0</th>\n",
       "      <td>0930289765</td>\n",
       "      <td>eng</td>\n",
       "      <td>false</td>\n",
       "      <td>4.058594</td>\n",
       "      <td>These are the stories that catapulted Superman...</td>\n",
       "      <td>Hardcover</td>\n",
       "      <td>DC Comics</td>\n",
       "      <td>272</td>\n",
       "      <td>14</td>\n",
       "      <td>9780930289768</td>\n",
       "      <td>11</td>\n",
       "      <td>1997</td>\n",
       "      <td>707611</td>\n",
       "      <td>51.0</td>\n",
       "      <td>693886</td>\n",
       "      <td>Superman Archives, Vol. 2</td>\n",
       "      <td>Superman Archives, Vol. 2</td>\n",
       "      <td>81563</td>\n",
       "      <td>2</td>\n",
       "      <td>4.006126</td>\n",
       "    </tr>\n",
       "    <tr>\n",
       "      <th>1</th>\n",
       "      <td>1933617640</td>\n",
       "      <td>eng</td>\n",
       "      <td>false</td>\n",
       "      <td>3.439453</td>\n",
       "      <td>Like everyone else in the future, Sui's used t...</td>\n",
       "      <td>Paperback Manga</td>\n",
       "      <td>Go! Comi</td>\n",
       "      <td>206</td>\n",
       "      <td>2</td>\n",
       "      <td>9781933617640</td>\n",
       "      <td>1</td>\n",
       "      <td>2007</td>\n",
       "      <td>2250580</td>\n",
       "      <td>46.0</td>\n",
       "      <td>2256459</td>\n",
       "      <td>A.I. Revolution, Vol. 1</td>\n",
       "      <td>A.I. Revolution, Vol. 1</td>\n",
       "      <td>1015982</td>\n",
       "      <td>1</td>\n",
       "      <td>4.006126</td>\n",
       "    </tr>\n",
       "    <tr>\n",
       "      <th>2</th>\n",
       "      <td>1592912729</td>\n",
       "      <td>eng</td>\n",
       "      <td>false</td>\n",
       "      <td>4.148438</td>\n",
       "      <td>PRODUCT DESCRIPTION: The first new volume of G...</td>\n",
       "      <td>Paperback</td>\n",
       "      <td>Avatar Press</td>\n",
       "      <td>224</td>\n",
       "      <td>26</td>\n",
       "      <td>9781592912728</td>\n",
       "      <td>1</td>\n",
       "      <td>2016</td>\n",
       "      <td>27036536</td>\n",
       "      <td>39.0</td>\n",
       "      <td>47077783</td>\n",
       "      <td>War Stories, Volume 3</td>\n",
       "      <td>War Stories, Volume 3</td>\n",
       "      <td>14965</td>\n",
       "      <td>4</td>\n",
       "      <td>4.300781</td>\n",
       "    </tr>\n",
       "    <tr>\n",
       "      <th>3</th>\n",
       "      <td>1592912737</td>\n",
       "      <td>eng</td>\n",
       "      <td>false</td>\n",
       "      <td>3.160156</td>\n",
       "      <td>Comics horror veteran Mike Wolfer writes and i...</td>\n",
       "      <td>Paperback</td>\n",
       "      <td>Avatar Press</td>\n",
       "      <td>160</td>\n",
       "      <td>8</td>\n",
       "      <td>9781592912735</td>\n",
       "      <td>3</td>\n",
       "      <td>2016</td>\n",
       "      <td>27036537</td>\n",
       "      <td>38.0</td>\n",
       "      <td>47077784</td>\n",
       "      <td>Crossed, Volume 15</td>\n",
       "      <td>Crossed, Volume 15</td>\n",
       "      <td>24594</td>\n",
       "      <td>1</td>\n",
       "      <td>3.619141</td>\n",
       "    </tr>\n",
       "    <tr>\n",
       "      <th>4</th>\n",
       "      <td>1592912753</td>\n",
       "      <td>eng</td>\n",
       "      <td>false</td>\n",
       "      <td>3.509766</td>\n",
       "      <td>Alan Moore s redefining of the Crossed univers...</td>\n",
       "      <td>Paperback</td>\n",
       "      <td>Avatar Press</td>\n",
       "      <td>160</td>\n",
       "      <td>22</td>\n",
       "      <td>9781592912759</td>\n",
       "      <td>3</td>\n",
       "      <td>2016</td>\n",
       "      <td>27036538</td>\n",
       "      <td>44.0</td>\n",
       "      <td>47077785</td>\n",
       "      <td>Crossed + One Hundred, Volume 2 (Crossed +100 #2)</td>\n",
       "      <td>Crossed + One Hundred, Volume 2 (Crossed +100 #2)</td>\n",
       "      <td>14155472</td>\n",
       "      <td>5</td>\n",
       "      <td>3.683594</td>\n",
       "    </tr>\n",
       "    <tr>\n",
       "      <th>...</th>\n",
       "      <td>...</td>\n",
       "      <td>...</td>\n",
       "      <td>...</td>\n",
       "      <td>...</td>\n",
       "      <td>...</td>\n",
       "      <td>...</td>\n",
       "      <td>...</td>\n",
       "      <td>...</td>\n",
       "      <td>...</td>\n",
       "      <td>...</td>\n",
       "      <td>...</td>\n",
       "      <td>...</td>\n",
       "      <td>...</td>\n",
       "      <td>...</td>\n",
       "      <td>...</td>\n",
       "      <td>...</td>\n",
       "      <td>...</td>\n",
       "      <td>...</td>\n",
       "      <td>...</td>\n",
       "      <td>...</td>\n",
       "    </tr>\n",
       "    <tr>\n",
       "      <th>35626</th>\n",
       "      <td>1401224687</td>\n",
       "      <td>eng</td>\n",
       "      <td>false</td>\n",
       "      <td>3.900391</td>\n",
       "      <td>Forget everything you know about The Man of St...</td>\n",
       "      <td>Hardcover</td>\n",
       "      <td>DC Comics</td>\n",
       "      <td>134</td>\n",
       "      <td>2</td>\n",
       "      <td>9781401224684</td>\n",
       "      <td>11</td>\n",
       "      <td>2010</td>\n",
       "      <td>7657484</td>\n",
       "      <td>13224.0</td>\n",
       "      <td>10234999</td>\n",
       "      <td>Superman: Earth One, Volume 1</td>\n",
       "      <td>Superman: Earth One, Volume 1</td>\n",
       "      <td>2689</td>\n",
       "      <td>5</td>\n",
       "      <td>4.101562</td>\n",
       "    </tr>\n",
       "    <tr>\n",
       "      <th>35627</th>\n",
       "      <td>1503938999</td>\n",
       "      <td>eng</td>\n",
       "      <td>false</td>\n",
       "      <td>3.769531</td>\n",
       "      <td>Freelance thief-for-hire Asa Ward's latest job...</td>\n",
       "      <td>Paperback</td>\n",
       "      <td>Jet City Comics</td>\n",
       "      <td>128</td>\n",
       "      <td>2</td>\n",
       "      <td>9781503938991</td>\n",
       "      <td>11</td>\n",
       "      <td>2016</td>\n",
       "      <td>30112514</td>\n",
       "      <td>6.0</td>\n",
       "      <td>52359657</td>\n",
       "      <td>Mayhem and Magic</td>\n",
       "      <td>Mayhem and Magic</td>\n",
       "      <td>5752145</td>\n",
       "      <td>4</td>\n",
       "      <td>4.006126</td>\n",
       "    </tr>\n",
       "    <tr>\n",
       "      <th>35628</th>\n",
       "      <td>1421526123</td>\n",
       "      <td>eng</td>\n",
       "      <td>false</td>\n",
       "      <td>4.089844</td>\n",
       "      <td>Student by day, demon hunter by night! R to L ...</td>\n",
       "      <td>Paperback</td>\n",
       "      <td>VIZ Media LLC</td>\n",
       "      <td>192</td>\n",
       "      <td>17</td>\n",
       "      <td>9781421526126</td>\n",
       "      <td>11</td>\n",
       "      <td>2009</td>\n",
       "      <td>6419558</td>\n",
       "      <td>172.0</td>\n",
       "      <td>6608706</td>\n",
       "      <td>Kekkaishi, Vol. 19 (Kekkaishi, #19)</td>\n",
       "      <td>Kekkaishi, Vol. 19 (Kekkaishi, #19)</td>\n",
       "      <td>8342728</td>\n",
       "      <td>1</td>\n",
       "      <td>4.085227</td>\n",
       "    </tr>\n",
       "    <tr>\n",
       "      <th>35629</th>\n",
       "      <td>009952399X</td>\n",
       "      <td>eng</td>\n",
       "      <td>false</td>\n",
       "      <td>4.359375</td>\n",
       "      <td>The Story of a Childhood and The Story of a Re...</td>\n",
       "      <td>Paperback</td>\n",
       "      <td>Vintage</td>\n",
       "      <td>343</td>\n",
       "      <td>6</td>\n",
       "      <td>9780099523994</td>\n",
       "      <td>3</td>\n",
       "      <td>2008</td>\n",
       "      <td>3106983</td>\n",
       "      <td>1966.0</td>\n",
       "      <td>13344769</td>\n",
       "      <td>Persepolis: The Story of a Childhood and The S...</td>\n",
       "      <td>Persepolis: The Story of a Childhood and The S...</td>\n",
       "      <td>6238</td>\n",
       "      <td>2</td>\n",
       "      <td>4.229167</td>\n",
       "    </tr>\n",
       "    <tr>\n",
       "      <th>35630</th>\n",
       "      <td>1592911196</td>\n",
       "      <td>eng</td>\n",
       "      <td>false</td>\n",
       "      <td>3.740234</td>\n",
       "      <td>The vampire epic by best-selling author George...</td>\n",
       "      <td>Paperback</td>\n",
       "      <td>Avatar Press</td>\n",
       "      <td>256</td>\n",
       "      <td>9</td>\n",
       "      <td>9781592911196</td>\n",
       "      <td>8</td>\n",
       "      <td>2011</td>\n",
       "      <td>10644600</td>\n",
       "      <td>853.0</td>\n",
       "      <td>18566693</td>\n",
       "      <td>Fevre Dream</td>\n",
       "      <td>Fevre Dream</td>\n",
       "      <td>13557729</td>\n",
       "      <td>3</td>\n",
       "      <td>4.006126</td>\n",
       "    </tr>\n",
       "  </tbody>\n",
       "</table>\n",
       "<p>35631 rows × 20 columns</p>\n",
       "</div>"
      ],
      "text/plain": [
       "             isbn language_code is_ebook  average_rating  \\\n",
       "0      0930289765           eng    false        4.058594   \n",
       "1      1933617640           eng    false        3.439453   \n",
       "2      1592912729           eng    false        4.148438   \n",
       "3      1592912737           eng    false        3.160156   \n",
       "4      1592912753           eng    false        3.509766   \n",
       "...           ...           ...      ...             ...   \n",
       "35626  1401224687           eng    false        3.900391   \n",
       "35627  1503938999           eng    false        3.769531   \n",
       "35628  1421526123           eng    false        4.089844   \n",
       "35629  009952399X           eng    false        4.359375   \n",
       "35630  1592911196           eng    false        3.740234   \n",
       "\n",
       "                                             description           format  \\\n",
       "0      These are the stories that catapulted Superman...        Hardcover   \n",
       "1      Like everyone else in the future, Sui's used t...  Paperback Manga   \n",
       "2      PRODUCT DESCRIPTION: The first new volume of G...        Paperback   \n",
       "3      Comics horror veteran Mike Wolfer writes and i...        Paperback   \n",
       "4      Alan Moore s redefining of the Crossed univers...        Paperback   \n",
       "...                                                  ...              ...   \n",
       "35626  Forget everything you know about The Man of St...        Hardcover   \n",
       "35627  Freelance thief-for-hire Asa Ward's latest job...        Paperback   \n",
       "35628  Student by day, demon hunter by night! R to L ...        Paperback   \n",
       "35629  The Story of a Childhood and The Story of a Re...        Paperback   \n",
       "35630  The vampire epic by best-selling author George...        Paperback   \n",
       "\n",
       "             publisher num_pages publication_day         isbn13  \\\n",
       "0            DC Comics       272              14  9780930289768   \n",
       "1             Go! Comi       206               2  9781933617640   \n",
       "2         Avatar Press       224              26  9781592912728   \n",
       "3         Avatar Press       160               8  9781592912735   \n",
       "4         Avatar Press       160              22  9781592912759   \n",
       "...                ...       ...             ...            ...   \n",
       "35626        DC Comics       134               2  9781401224684   \n",
       "35627  Jet City Comics       128               2  9781503938991   \n",
       "35628    VIZ Media LLC       192              17  9781421526126   \n",
       "35629          Vintage       343               6  9780099523994   \n",
       "35630     Avatar Press       256               9  9781592911196   \n",
       "\n",
       "      publication_month publication_year   book_id  ratings_count   work_id  \\\n",
       "0                    11             1997    707611           51.0    693886   \n",
       "1                     1             2007   2250580           46.0   2256459   \n",
       "2                     1             2016  27036536           39.0  47077783   \n",
       "3                     3             2016  27036537           38.0  47077784   \n",
       "4                     3             2016  27036538           44.0  47077785   \n",
       "...                 ...              ...       ...            ...       ...   \n",
       "35626                11             2010   7657484        13224.0  10234999   \n",
       "35627                11             2016  30112514            6.0  52359657   \n",
       "35628                11             2009   6419558          172.0   6608706   \n",
       "35629                 3             2008   3106983         1966.0  13344769   \n",
       "35630                 8             2011  10644600          853.0  18566693   \n",
       "\n",
       "                                                   title  \\\n",
       "0                              Superman Archives, Vol. 2   \n",
       "1                                A.I. Revolution, Vol. 1   \n",
       "2                                  War Stories, Volume 3   \n",
       "3                                     Crossed, Volume 15   \n",
       "4      Crossed + One Hundred, Volume 2 (Crossed +100 #2)   \n",
       "...                                                  ...   \n",
       "35626                      Superman: Earth One, Volume 1   \n",
       "35627                                   Mayhem and Magic   \n",
       "35628                Kekkaishi, Vol. 19 (Kekkaishi, #19)   \n",
       "35629  Persepolis: The Story of a Childhood and The S...   \n",
       "35630                                        Fevre Dream   \n",
       "\n",
       "                                    title_without_series primary author  \\\n",
       "0                              Superman Archives, Vol. 2          81563   \n",
       "1                                A.I. Revolution, Vol. 1        1015982   \n",
       "2                                  War Stories, Volume 3          14965   \n",
       "3                                     Crossed, Volume 15          24594   \n",
       "4      Crossed + One Hundred, Volume 2 (Crossed +100 #2)       14155472   \n",
       "...                                                  ...            ...   \n",
       "35626                      Superman: Earth One, Volume 1           2689   \n",
       "35627                                   Mayhem and Magic        5752145   \n",
       "35628                Kekkaishi, Vol. 19 (Kekkaishi, #19)        8342728   \n",
       "35629  Persepolis: The Story of a Childhood and The S...           6238   \n",
       "35630                                        Fevre Dream       13557729   \n",
       "\n",
       "       Num of authors  Author rating  \n",
       "0                   2       4.006126  \n",
       "1                   1       4.006126  \n",
       "2                   4       4.300781  \n",
       "3                   1       3.619141  \n",
       "4                   5       3.683594  \n",
       "...               ...            ...  \n",
       "35626               5       4.101562  \n",
       "35627               4       4.006126  \n",
       "35628               1       4.085227  \n",
       "35629               2       4.229167  \n",
       "35630               3       4.006126  \n",
       "\n",
       "[35631 rows x 20 columns]"
      ]
     },
     "execution_count": 181,
     "metadata": {},
     "output_type": "execute_result"
    }
   ],
   "source": [
    "df_books_author_features"
   ]
  },
  {
   "cell_type": "code",
   "execution_count": 182,
   "id": "842cf49a",
   "metadata": {},
   "outputs": [],
   "source": [
    "df_books_author_features = df_books_author_features[[\"book_id\",\"Author rating\"]].merge(df_books_pubs_features,on=\"book_id\")"
   ]
  },
  {
   "cell_type": "markdown",
   "id": "ba9fe630",
   "metadata": {},
   "source": [
    "### Converting Normal features to encodings"
   ]
  },
  {
   "cell_type": "code",
   "execution_count": 183,
   "id": "e67b9343",
   "metadata": {},
   "outputs": [
    {
     "data": {
      "text/plain": [
       "book_id                 35631\n",
       "Author rating            1347\n",
       "isbn                    35631\n",
       "language_code              32\n",
       "is_ebook                    2\n",
       "average_rating            287\n",
       "description             34304\n",
       "format                     72\n",
       "publisher                2549\n",
       "num_pages                 683\n",
       "publication_day            31\n",
       "isbn13                  35631\n",
       "publication_month          12\n",
       "publication_year           58\n",
       "ratings_count            3180\n",
       "work_id                 30306\n",
       "title                   33940\n",
       "title_without_series    33940\n",
       "primary author           7319\n",
       "Num of authors             52\n",
       "Publisher rating          782\n",
       "dtype: int64"
      ]
     },
     "execution_count": 183,
     "metadata": {},
     "output_type": "execute_result"
    }
   ],
   "source": [
    "df_books_author_features.nunique()"
   ]
  },
  {
   "cell_type": "code",
   "execution_count": 184,
   "id": "5b644dee",
   "metadata": {},
   "outputs": [
    {
     "data": {
      "text/plain": [
       "book_id                 100.000000\n",
       "Author rating             3.780416\n",
       "isbn                    100.000000\n",
       "language_code             0.089809\n",
       "is_ebook                  0.005613\n",
       "average_rating            0.805478\n",
       "description              96.275715\n",
       "format                    0.202071\n",
       "publisher                 7.153883\n",
       "num_pages                 1.916870\n",
       "publication_day           0.087003\n",
       "isbn13                  100.000000\n",
       "publication_month         0.033679\n",
       "publication_year          0.162780\n",
       "ratings_count             8.924813\n",
       "work_id                  85.055149\n",
       "title                    95.254133\n",
       "title_without_series     95.254133\n",
       "primary author           20.541102\n",
       "Num of authors            0.145940\n",
       "Publisher rating          2.194718\n",
       "dtype: float64"
      ]
     },
     "execution_count": 184,
     "metadata": {},
     "output_type": "execute_result"
    }
   ],
   "source": [
    "df_books_author_features.nunique()*100/df_books_all_isbns.shape[0]"
   ]
  },
  {
   "cell_type": "code",
   "execution_count": null,
   "id": "4f8cab7e",
   "metadata": {},
   "outputs": [],
   "source": []
  },
  {
   "cell_type": "code",
   "execution_count": 185,
   "id": "f00a5421",
   "metadata": {},
   "outputs": [],
   "source": [
    "# num_cols = ['publication_day','publication_month', 'publication_year',\"is_ebook\",'num_pages','Num of authors']\n",
    "num_cols = ['publication_year',\"is_ebook\",'num_pages','Num of authors']\n",
    "float_cols = [\"average_rating\"]\n",
    "one_hot_cols = [\"language_code\",'format']\n",
    "## cause num of rating wont be present when the books is released"
   ]
  },
  {
   "cell_type": "code",
   "execution_count": 186,
   "id": "371f1646",
   "metadata": {},
   "outputs": [],
   "source": [
    "df_books_author_features[\"is_ebook\"]= df_books_author_features[\"is_ebook\"].astype(bool)"
   ]
  },
  {
   "cell_type": "code",
   "execution_count": 187,
   "id": "ecf94226",
   "metadata": {},
   "outputs": [
    {
     "data": {
      "text/plain": [
       "Index(['book_id', 'Author rating', 'isbn', 'language_code', 'is_ebook',\n",
       "       'average_rating', 'description', 'format', 'publisher', 'num_pages',\n",
       "       'publication_day', 'isbn13', 'publication_month', 'publication_year',\n",
       "       'ratings_count', 'work_id', 'title', 'title_without_series',\n",
       "       'primary author', 'Num of authors', 'Publisher rating'],\n",
       "      dtype='object')"
      ]
     },
     "execution_count": 187,
     "metadata": {},
     "output_type": "execute_result"
    }
   ],
   "source": [
    "df_books_author_features.columns"
   ]
  },
  {
   "cell_type": "code",
   "execution_count": 188,
   "id": "4b605098",
   "metadata": {},
   "outputs": [
    {
     "data": {
      "text/html": [
       "<div>\n",
       "<style scoped>\n",
       "    .dataframe tbody tr th:only-of-type {\n",
       "        vertical-align: middle;\n",
       "    }\n",
       "\n",
       "    .dataframe tbody tr th {\n",
       "        vertical-align: top;\n",
       "    }\n",
       "\n",
       "    .dataframe thead th {\n",
       "        text-align: right;\n",
       "    }\n",
       "</style>\n",
       "<table border=\"1\" class=\"dataframe\">\n",
       "  <thead>\n",
       "    <tr style=\"text-align: right;\">\n",
       "      <th></th>\n",
       "      <th>book_id</th>\n",
       "      <th>Author rating</th>\n",
       "      <th>isbn</th>\n",
       "      <th>language_code</th>\n",
       "      <th>is_ebook</th>\n",
       "      <th>average_rating</th>\n",
       "      <th>description</th>\n",
       "      <th>format</th>\n",
       "      <th>publisher</th>\n",
       "      <th>num_pages</th>\n",
       "      <th>...</th>\n",
       "      <th>isbn13</th>\n",
       "      <th>publication_month</th>\n",
       "      <th>publication_year</th>\n",
       "      <th>ratings_count</th>\n",
       "      <th>work_id</th>\n",
       "      <th>title</th>\n",
       "      <th>title_without_series</th>\n",
       "      <th>primary author</th>\n",
       "      <th>Num of authors</th>\n",
       "      <th>Publisher rating</th>\n",
       "    </tr>\n",
       "  </thead>\n",
       "  <tbody>\n",
       "  </tbody>\n",
       "</table>\n",
       "<p>0 rows × 21 columns</p>\n",
       "</div>"
      ],
      "text/plain": [
       "Empty DataFrame\n",
       "Columns: [book_id, Author rating, isbn, language_code, is_ebook, average_rating, description, format, publisher, num_pages, publication_day, isbn13, publication_month, publication_year, ratings_count, work_id, title, title_without_series, primary author, Num of authors, Publisher rating]\n",
       "Index: []\n",
       "\n",
       "[0 rows x 21 columns]"
      ]
     },
     "execution_count": 188,
     "metadata": {},
     "output_type": "execute_result"
    }
   ],
   "source": [
    "df_books_author_features[df_books_author_features[\"publication_year\"]=='']"
   ]
  },
  {
   "cell_type": "code",
   "execution_count": 189,
   "id": "8572d51c",
   "metadata": {},
   "outputs": [],
   "source": [
    "df_books_author_features[num_cols] = df_books_author_features[num_cols].astype(np.int16)\n",
    "df_books_author_features[float_cols] = df_books_author_features[float_cols].astype(np.float16)"
   ]
  },
  {
   "cell_type": "code",
   "execution_count": 190,
   "id": "df47112a",
   "metadata": {},
   "outputs": [
    {
     "data": {
      "image/png": "[encoded data removed]",
      "text/plain": [
       "<Figure size 576x432 with 2 Axes>"
      ]
     },
     "metadata": {
      "needs_background": "light"
     },
     "output_type": "display_data"
    }
   ],
   "source": [
    "import seaborn as sns\n",
    "import matplotlib.pyplot as plt\n",
    "\n",
    "# Calculate correlation matrix\n",
    "correlation_matrix = df_books_author_features.corr()\n",
    "\n",
    "# Create heatmap\n",
    "plt.figure(figsize=(8, 6))\n",
    "sns.heatmap(correlation_matrix, annot=True, cmap='coolwarm', fmt=\".2f\", annot_kws={\"size\": 12})\n",
    "plt.title('Correlation Matrix Heatmap')\n",
    "plt.show()"
   ]
  },
  {
   "cell_type": "code",
   "execution_count": null,
   "id": "55f13b2f",
   "metadata": {},
   "outputs": [],
   "source": []
  },
  {
   "cell_type": "code",
   "execution_count": 191,
   "id": "edde5031",
   "metadata": {},
   "outputs": [],
   "source": [
    "cols = df_books_author_features.columns\n",
    "drop_cols = [col for col in cols if col not in num_cols and col not in one_hot_cols and col not in float_cols]\n",
    "drop_cols = ['publisher','ratings_count', 'title_without_series',\"work_id\",\"isbn13\",\"primary author\"]\n",
    "df_books_author_features.drop(drop_cols,axis=1,inplace=True)"
   ]
  },
  {
   "cell_type": "code",
   "execution_count": 192,
   "id": "5b57a312",
   "metadata": {},
   "outputs": [
    {
     "data": {
      "text/plain": [
       "Index(['book_id', 'Author rating', 'isbn', 'language_code', 'is_ebook',\n",
       "       'average_rating', 'description', 'format', 'num_pages',\n",
       "       'publication_day', 'publication_month', 'publication_year', 'title',\n",
       "       'Num of authors', 'Publisher rating'],\n",
       "      dtype='object')"
      ]
     },
     "execution_count": 192,
     "metadata": {},
     "output_type": "execute_result"
    }
   ],
   "source": [
    "df_books_author_features.columns"
   ]
  },
  {
   "cell_type": "code",
   "execution_count": 193,
   "id": "6376476b",
   "metadata": {},
   "outputs": [],
   "source": [
    "## one hot encoding\n",
    "df_books_author_features = pd.get_dummies(df_books_author_features, columns=one_hot_cols)\n"
   ]
  },
  {
   "cell_type": "markdown",
   "id": "ad6b5c78",
   "metadata": {},
   "source": [
    "### Including text feautures"
   ]
  },
  {
   "cell_type": "code",
   "execution_count": 194,
   "id": "e655b2db",
   "metadata": {},
   "outputs": [],
   "source": [
    "embeddings_dict = {}\n",
    "with open(r\"glove.6B/glove.6B.50d.txt\", 'r',encoding=\"utf8\") as f:\n",
    "    for line in f:\n",
    "        values = line.split()\n",
    "        word = values[0]\n",
    "        vector = np.asarray(values[1:], \"float32\")\n",
    "        embeddings_dict[word] = vector"
   ]
  },
  {
   "cell_type": "code",
   "execution_count": 195,
   "id": "a0832bea",
   "metadata": {},
   "outputs": [
    {
     "data": {
      "text/plain": [
       "0.8651174539025006"
      ]
     },
     "execution_count": 195,
     "metadata": {},
     "output_type": "execute_result"
    }
   ],
   "source": [
    "m = df_books_author_features[\"language_code_eng\"]==1\n",
    "df_books_author_features[m].shape[0]/df_books_author_features.shape[0]"
   ]
  },
  {
   "cell_type": "code",
   "execution_count": 196,
   "id": "1fefc22a",
   "metadata": {},
   "outputs": [],
   "source": [
    "df_books_author_features_eng = df_books_author_features[m]"
   ]
  },
  {
   "cell_type": "code",
   "execution_count": 197,
   "id": "b458dcfb",
   "metadata": {},
   "outputs": [
    {
     "data": {
      "text/html": [
       "<div>\n",
       "<style scoped>\n",
       "    .dataframe tbody tr th:only-of-type {\n",
       "        vertical-align: middle;\n",
       "    }\n",
       "\n",
       "    .dataframe tbody tr th {\n",
       "        vertical-align: top;\n",
       "    }\n",
       "\n",
       "    .dataframe thead th {\n",
       "        text-align: right;\n",
       "    }\n",
       "</style>\n",
       "<table border=\"1\" class=\"dataframe\">\n",
       "  <thead>\n",
       "    <tr style=\"text-align: right;\">\n",
       "      <th></th>\n",
       "      <th>book_id</th>\n",
       "      <th>Author rating</th>\n",
       "      <th>isbn</th>\n",
       "      <th>is_ebook</th>\n",
       "      <th>average_rating</th>\n",
       "      <th>description</th>\n",
       "      <th>num_pages</th>\n",
       "      <th>publication_day</th>\n",
       "      <th>publication_month</th>\n",
       "      <th>publication_year</th>\n",
       "      <th>...</th>\n",
       "      <th>format_Unbound</th>\n",
       "      <th>format_Unknown Binding</th>\n",
       "      <th>format_Vinyl</th>\n",
       "      <th>format_cartonne</th>\n",
       "      <th>format_comic</th>\n",
       "      <th>format_ebook</th>\n",
       "      <th>format_hardcover</th>\n",
       "      <th>format_komitsuku</th>\n",
       "      <th>format_paper</th>\n",
       "      <th>format_paperback</th>\n",
       "    </tr>\n",
       "  </thead>\n",
       "  <tbody>\n",
       "    <tr>\n",
       "      <th>0</th>\n",
       "      <td>707611</td>\n",
       "      <td>4.006126</td>\n",
       "      <td>0930289765</td>\n",
       "      <td>1</td>\n",
       "      <td>4.058594</td>\n",
       "      <td>These are the stories that catapulted Superman...</td>\n",
       "      <td>272</td>\n",
       "      <td>14</td>\n",
       "      <td>11</td>\n",
       "      <td>1997</td>\n",
       "      <td>...</td>\n",
       "      <td>0</td>\n",
       "      <td>0</td>\n",
       "      <td>0</td>\n",
       "      <td>0</td>\n",
       "      <td>0</td>\n",
       "      <td>0</td>\n",
       "      <td>0</td>\n",
       "      <td>0</td>\n",
       "      <td>0</td>\n",
       "      <td>0</td>\n",
       "    </tr>\n",
       "    <tr>\n",
       "      <th>1</th>\n",
       "      <td>2250580</td>\n",
       "      <td>4.006126</td>\n",
       "      <td>1933617640</td>\n",
       "      <td>1</td>\n",
       "      <td>3.439453</td>\n",
       "      <td>Like everyone else in the future, Sui's used t...</td>\n",
       "      <td>206</td>\n",
       "      <td>2</td>\n",
       "      <td>1</td>\n",
       "      <td>2007</td>\n",
       "      <td>...</td>\n",
       "      <td>0</td>\n",
       "      <td>0</td>\n",
       "      <td>0</td>\n",
       "      <td>0</td>\n",
       "      <td>0</td>\n",
       "      <td>0</td>\n",
       "      <td>0</td>\n",
       "      <td>0</td>\n",
       "      <td>0</td>\n",
       "      <td>0</td>\n",
       "    </tr>\n",
       "    <tr>\n",
       "      <th>2</th>\n",
       "      <td>27036536</td>\n",
       "      <td>4.300781</td>\n",
       "      <td>1592912729</td>\n",
       "      <td>1</td>\n",
       "      <td>4.148438</td>\n",
       "      <td>PRODUCT DESCRIPTION: The first new volume of G...</td>\n",
       "      <td>224</td>\n",
       "      <td>26</td>\n",
       "      <td>1</td>\n",
       "      <td>2016</td>\n",
       "      <td>...</td>\n",
       "      <td>0</td>\n",
       "      <td>0</td>\n",
       "      <td>0</td>\n",
       "      <td>0</td>\n",
       "      <td>0</td>\n",
       "      <td>0</td>\n",
       "      <td>0</td>\n",
       "      <td>0</td>\n",
       "      <td>0</td>\n",
       "      <td>0</td>\n",
       "    </tr>\n",
       "    <tr>\n",
       "      <th>3</th>\n",
       "      <td>27036537</td>\n",
       "      <td>3.619141</td>\n",
       "      <td>1592912737</td>\n",
       "      <td>1</td>\n",
       "      <td>3.160156</td>\n",
       "      <td>Comics horror veteran Mike Wolfer writes and i...</td>\n",
       "      <td>160</td>\n",
       "      <td>8</td>\n",
       "      <td>3</td>\n",
       "      <td>2016</td>\n",
       "      <td>...</td>\n",
       "      <td>0</td>\n",
       "      <td>0</td>\n",
       "      <td>0</td>\n",
       "      <td>0</td>\n",
       "      <td>0</td>\n",
       "      <td>0</td>\n",
       "      <td>0</td>\n",
       "      <td>0</td>\n",
       "      <td>0</td>\n",
       "      <td>0</td>\n",
       "    </tr>\n",
       "    <tr>\n",
       "      <th>4</th>\n",
       "      <td>27036538</td>\n",
       "      <td>3.683594</td>\n",
       "      <td>1592912753</td>\n",
       "      <td>1</td>\n",
       "      <td>3.509766</td>\n",
       "      <td>Alan Moore s redefining of the Crossed univers...</td>\n",
       "      <td>160</td>\n",
       "      <td>22</td>\n",
       "      <td>3</td>\n",
       "      <td>2016</td>\n",
       "      <td>...</td>\n",
       "      <td>0</td>\n",
       "      <td>0</td>\n",
       "      <td>0</td>\n",
       "      <td>0</td>\n",
       "      <td>0</td>\n",
       "      <td>0</td>\n",
       "      <td>0</td>\n",
       "      <td>0</td>\n",
       "      <td>0</td>\n",
       "      <td>0</td>\n",
       "    </tr>\n",
       "    <tr>\n",
       "      <th>...</th>\n",
       "      <td>...</td>\n",
       "      <td>...</td>\n",
       "      <td>...</td>\n",
       "      <td>...</td>\n",
       "      <td>...</td>\n",
       "      <td>...</td>\n",
       "      <td>...</td>\n",
       "      <td>...</td>\n",
       "      <td>...</td>\n",
       "      <td>...</td>\n",
       "      <td>...</td>\n",
       "      <td>...</td>\n",
       "      <td>...</td>\n",
       "      <td>...</td>\n",
       "      <td>...</td>\n",
       "      <td>...</td>\n",
       "      <td>...</td>\n",
       "      <td>...</td>\n",
       "      <td>...</td>\n",
       "      <td>...</td>\n",
       "      <td>...</td>\n",
       "    </tr>\n",
       "    <tr>\n",
       "      <th>35626</th>\n",
       "      <td>7657484</td>\n",
       "      <td>4.101562</td>\n",
       "      <td>1401224687</td>\n",
       "      <td>1</td>\n",
       "      <td>3.900391</td>\n",
       "      <td>Forget everything you know about The Man of St...</td>\n",
       "      <td>134</td>\n",
       "      <td>2</td>\n",
       "      <td>11</td>\n",
       "      <td>2010</td>\n",
       "      <td>...</td>\n",
       "      <td>0</td>\n",
       "      <td>0</td>\n",
       "      <td>0</td>\n",
       "      <td>0</td>\n",
       "      <td>0</td>\n",
       "      <td>0</td>\n",
       "      <td>0</td>\n",
       "      <td>0</td>\n",
       "      <td>0</td>\n",
       "      <td>0</td>\n",
       "    </tr>\n",
       "    <tr>\n",
       "      <th>35627</th>\n",
       "      <td>30112514</td>\n",
       "      <td>4.006126</td>\n",
       "      <td>1503938999</td>\n",
       "      <td>1</td>\n",
       "      <td>3.769531</td>\n",
       "      <td>Freelance thief-for-hire Asa Ward's latest job...</td>\n",
       "      <td>128</td>\n",
       "      <td>2</td>\n",
       "      <td>11</td>\n",
       "      <td>2016</td>\n",
       "      <td>...</td>\n",
       "      <td>0</td>\n",
       "      <td>0</td>\n",
       "      <td>0</td>\n",
       "      <td>0</td>\n",
       "      <td>0</td>\n",
       "      <td>0</td>\n",
       "      <td>0</td>\n",
       "      <td>0</td>\n",
       "      <td>0</td>\n",
       "      <td>0</td>\n",
       "    </tr>\n",
       "    <tr>\n",
       "      <th>35628</th>\n",
       "      <td>6419558</td>\n",
       "      <td>4.085227</td>\n",
       "      <td>1421526123</td>\n",
       "      <td>1</td>\n",
       "      <td>4.089844</td>\n",
       "      <td>Student by day, demon hunter by night! R to L ...</td>\n",
       "      <td>192</td>\n",
       "      <td>17</td>\n",
       "      <td>11</td>\n",
       "      <td>2009</td>\n",
       "      <td>...</td>\n",
       "      <td>0</td>\n",
       "      <td>0</td>\n",
       "      <td>0</td>\n",
       "      <td>0</td>\n",
       "      <td>0</td>\n",
       "      <td>0</td>\n",
       "      <td>0</td>\n",
       "      <td>0</td>\n",
       "      <td>0</td>\n",
       "      <td>0</td>\n",
       "    </tr>\n",
       "    <tr>\n",
       "      <th>35629</th>\n",
       "      <td>3106983</td>\n",
       "      <td>4.229167</td>\n",
       "      <td>009952399X</td>\n",
       "      <td>1</td>\n",
       "      <td>4.359375</td>\n",
       "      <td>The Story of a Childhood and The Story of a Re...</td>\n",
       "      <td>343</td>\n",
       "      <td>6</td>\n",
       "      <td>3</td>\n",
       "      <td>2008</td>\n",
       "      <td>...</td>\n",
       "      <td>0</td>\n",
       "      <td>0</td>\n",
       "      <td>0</td>\n",
       "      <td>0</td>\n",
       "      <td>0</td>\n",
       "      <td>0</td>\n",
       "      <td>0</td>\n",
       "      <td>0</td>\n",
       "      <td>0</td>\n",
       "      <td>0</td>\n",
       "    </tr>\n",
       "    <tr>\n",
       "      <th>35630</th>\n",
       "      <td>10644600</td>\n",
       "      <td>4.006126</td>\n",
       "      <td>1592911196</td>\n",
       "      <td>1</td>\n",
       "      <td>3.740234</td>\n",
       "      <td>The vampire epic by best-selling author George...</td>\n",
       "      <td>256</td>\n",
       "      <td>9</td>\n",
       "      <td>8</td>\n",
       "      <td>2011</td>\n",
       "      <td>...</td>\n",
       "      <td>0</td>\n",
       "      <td>0</td>\n",
       "      <td>0</td>\n",
       "      <td>0</td>\n",
       "      <td>0</td>\n",
       "      <td>0</td>\n",
       "      <td>0</td>\n",
       "      <td>0</td>\n",
       "      <td>0</td>\n",
       "      <td>0</td>\n",
       "    </tr>\n",
       "  </tbody>\n",
       "</table>\n",
       "<p>30825 rows × 117 columns</p>\n",
       "</div>"
      ],
      "text/plain": [
       "        book_id  Author rating        isbn  is_ebook  average_rating  \\\n",
       "0        707611       4.006126  0930289765         1        4.058594   \n",
       "1       2250580       4.006126  1933617640         1        3.439453   \n",
       "2      27036536       4.300781  1592912729         1        4.148438   \n",
       "3      27036537       3.619141  1592912737         1        3.160156   \n",
       "4      27036538       3.683594  1592912753         1        3.509766   \n",
       "...         ...            ...         ...       ...             ...   \n",
       "35626   7657484       4.101562  1401224687         1        3.900391   \n",
       "35627  30112514       4.006126  1503938999         1        3.769531   \n",
       "35628   6419558       4.085227  1421526123         1        4.089844   \n",
       "35629   3106983       4.229167  009952399X         1        4.359375   \n",
       "35630  10644600       4.006126  1592911196         1        3.740234   \n",
       "\n",
       "                                             description  num_pages  \\\n",
       "0      These are the stories that catapulted Superman...        272   \n",
       "1      Like everyone else in the future, Sui's used t...        206   \n",
       "2      PRODUCT DESCRIPTION: The first new volume of G...        224   \n",
       "3      Comics horror veteran Mike Wolfer writes and i...        160   \n",
       "4      Alan Moore s redefining of the Crossed univers...        160   \n",
       "...                                                  ...        ...   \n",
       "35626  Forget everything you know about The Man of St...        134   \n",
       "35627  Freelance thief-for-hire Asa Ward's latest job...        128   \n",
       "35628  Student by day, demon hunter by night! R to L ...        192   \n",
       "35629  The Story of a Childhood and The Story of a Re...        343   \n",
       "35630  The vampire epic by best-selling author George...        256   \n",
       "\n",
       "      publication_day publication_month  publication_year  ... format_Unbound  \\\n",
       "0                  14                11              1997  ...              0   \n",
       "1                   2                 1              2007  ...              0   \n",
       "2                  26                 1              2016  ...              0   \n",
       "3                   8                 3              2016  ...              0   \n",
       "4                  22                 3              2016  ...              0   \n",
       "...               ...               ...               ...  ...            ...   \n",
       "35626               2                11              2010  ...              0   \n",
       "35627               2                11              2016  ...              0   \n",
       "35628              17                11              2009  ...              0   \n",
       "35629               6                 3              2008  ...              0   \n",
       "35630               9                 8              2011  ...              0   \n",
       "\n",
       "       format_Unknown Binding  format_Vinyl  format_cartonne  format_comic  \\\n",
       "0                           0             0                0             0   \n",
       "1                           0             0                0             0   \n",
       "2                           0             0                0             0   \n",
       "3                           0             0                0             0   \n",
       "4                           0             0                0             0   \n",
       "...                       ...           ...              ...           ...   \n",
       "35626                       0             0                0             0   \n",
       "35627                       0             0                0             0   \n",
       "35628                       0             0                0             0   \n",
       "35629                       0             0                0             0   \n",
       "35630                       0             0                0             0   \n",
       "\n",
       "       format_ebook  format_hardcover  format_komitsuku  format_paper  \\\n",
       "0                 0                 0                 0             0   \n",
       "1                 0                 0                 0             0   \n",
       "2                 0                 0                 0             0   \n",
       "3                 0                 0                 0             0   \n",
       "4                 0                 0                 0             0   \n",
       "...             ...               ...               ...           ...   \n",
       "35626             0                 0                 0             0   \n",
       "35627             0                 0                 0             0   \n",
       "35628             0                 0                 0             0   \n",
       "35629             0                 0                 0             0   \n",
       "35630             0                 0                 0             0   \n",
       "\n",
       "       format_paperback  \n",
       "0                     0  \n",
       "1                     0  \n",
       "2                     0  \n",
       "3                     0  \n",
       "4                     0  \n",
       "...                 ...  \n",
       "35626                 0  \n",
       "35627                 0  \n",
       "35628                 0  \n",
       "35629                 0  \n",
       "35630                 0  \n",
       "\n",
       "[30825 rows x 117 columns]"
      ]
     },
     "execution_count": 197,
     "metadata": {},
     "output_type": "execute_result"
    }
   ],
   "source": [
    "df_books_author_features_eng"
   ]
  },
  {
   "cell_type": "code",
   "execution_count": 198,
   "id": "ef9f43d0",
   "metadata": {},
   "outputs": [],
   "source": [
    "import nltk\n",
    "from nltk.tokenize import word_tokenize\n",
    "from nltk.corpus import stopwords\n",
    "from nltk.stem import WordNetLemmatizer\n",
    "import string"
   ]
  },
  {
   "cell_type": "code",
   "execution_count": 199,
   "id": "0b34968e",
   "metadata": {},
   "outputs": [],
   "source": [
    "def sentence_to_vec(sentence):\n",
    "    \"\"\"\n",
    "    Convert a sentence to a vector by averaging its word vectors.\n",
    "    \"\"\"\n",
    "    dim = embeddings_dict[\"the\"].shape[0]\n",
    "    words = word_tokenize(sentence.lower())\n",
    "#     stop_words = set(stopwords.words('english'))\n",
    "\n",
    "    words = [word for word in words if word.isalnum()]\n",
    "#     vectors = [model[word] for word in words if model.doesnt_match([word]) == False]\n",
    "    vectors = []\n",
    "\n",
    "    if len(words)==0:\n",
    "        print(sentence, words)\n",
    "        vectors.append(np.zeros(dim))\n",
    "\n",
    "    for word in words:\n",
    "        try:\n",
    "            vectors.append(embeddings_dict[word])\n",
    "        except KeyError:\n",
    "            vectors.append(np.zeros(dim))\n",
    "\n",
    "    s_mean = np.mean(vectors, axis=0)\n",
    "    assert s_mean.shape[0] == dim\n",
    "    return s_mean"
   ]
  },
  {
   "cell_type": "code",
   "execution_count": 200,
   "id": "f045edff",
   "metadata": {},
   "outputs": [
    {
     "name": "stdout",
     "output_type": "stream",
     "text": [
      ".html []\n",
      ".html []\n"
     ]
    },
    {
     "name": "stderr",
     "output_type": "stream",
     "text": [
      "<ipython-input-200-f162161f3077>:1: SettingWithCopyWarning: \n",
      "A value is trying to be set on a copy of a slice from a DataFrame.\n",
      "Try using .loc[row_indexer,col_indexer] = value instead\n",
      "\n",
      "See the caveats in the documentation: https://pandas.pydata.org/pandas-docs/stable/user_guide/indexing.html#returning-a-view-versus-a-copy\n",
      "  df_books_author_features_eng[\"Vdescription\"] = df_books_author_features_eng[\"description\"].apply(sentence_to_vec)\n"
     ]
    }
   ],
   "source": [
    "df_books_author_features_eng[\"Vdescription\"] = df_books_author_features_eng[\"description\"].apply(sentence_to_vec)"
   ]
  },
  {
   "cell_type": "code",
   "execution_count": 201,
   "id": "ef281f43",
   "metadata": {},
   "outputs": [
    {
     "data": {
      "text/plain": [
       "0        [0.3270356, 0.2330691, -0.110652365, -0.126882...\n",
       "1        [0.29723427, 0.20099656, -0.0888261, -0.153819...\n",
       "2        [0.3787562, 0.15414847, -0.11322223, -0.150838...\n",
       "3        [0.35482199728673647, 0.14170668663626368, -0....\n",
       "4        [0.32950998106155627, 0.22385791273461314, -0....\n",
       "                               ...                        \n",
       "35626    [0.1536698756421886, 0.28926618783599767, -0.0...\n",
       "35627    [0.21773681006785753, -0.12002041313014385, -0...\n",
       "35628    [0.3097040537876759, 0.14285552792808437, -0.1...\n",
       "35629    [0.33514294, 0.37037635, -0.36536005, -0.08729...\n",
       "35630    [0.24428509, 0.29736155, -0.32212666, -0.10880...\n",
       "Name: Vdescription, Length: 30825, dtype: object"
      ]
     },
     "execution_count": 201,
     "metadata": {},
     "output_type": "execute_result"
    }
   ],
   "source": [
    "df_books_author_features_eng[\"Vdescription\"]"
   ]
  },
  {
   "cell_type": "code",
   "execution_count": 202,
   "id": "b8b66733",
   "metadata": {},
   "outputs": [
    {
     "name": "stdout",
     "output_type": "stream",
     "text": [
      "Spider-Man: 24/7 []\n",
      "Gantz/9 []\n",
      "Dawn/Vampirella []\n",
      "Spider-Women []\n",
      "Aliens/Vampirella []\n",
      "¡Sonríe! []\n",
      "Smoke/Ashes []\n",
      "1-800-MICE []\n",
      "X-Men: X-Termination []\n",
      "Reload/MEK []\n",
      "Spider-Man: 24/7 []\n",
      "Ocean/Orbiter []\n",
      "JLA/Avengers []\n",
      "X-Infernus []\n",
      "Cyberforce/Hunter-Killer []\n",
      "Spider-Men []\n",
      "Reggie-12 []\n",
      "B.P.R.D: 1946-1948 []\n",
      "Spider-Men []\n",
      "Side-Kicked []\n",
      "Re-Gifters []\n",
      "Gantz/4 []\n",
      "Re-Gifters []\n",
      "Hit-Monkey []\n",
      "Spider-Men []\n",
      "X-Women []\n",
      "Do-Gooders []\n",
      "Gantz/12 []\n",
      "Gantz/37 []\n",
      "Futurama-O-Rama []\n",
      "I.D. []\n",
      "Samejima-Kun & Sasahara-Kun []\n",
      "Superman/Doomsday: Hunter/Prey []\n",
      "X-Necrosha []\n",
      "Gantz/13 []\n",
      "Spider-Man: Spider-Island []\n",
      "Hit-Girl []\n",
      "Gantz/5 []\n",
      "Kick-Ass []\n",
      "X-Presidents []\n",
      "Angel/Dust []\n",
      "Ex-Con []\n",
      "Two-Step []\n",
      "Gantz/17 []\n",
      "Gantz/16 []\n",
      "X-Necrosha []\n",
      "Gantz/2 []\n",
      "Eisner/Miller []\n",
      "Grifter/Midnighter []\n",
      "Gantz/3 []\n",
      "Gantz/26 []\n",
      "Drop-In []\n",
      "I.O.N []\n",
      "Boy-1 []\n",
      "Gantz/10 []\n",
      "X-Men: Apocalypse/Dracula []\n",
      "Gantz/11 []\n",
      "X-Men: X-Corps []\n",
      "Glitz-2-Go []\n",
      "Joker/Mask []\n",
      "Circuit-Breaker []\n",
      "Avengers/Invaders []\n",
      "15-Love []\n",
      "Shirahime-Syo []\n",
      "Gantz/14 []\n",
      "Spider-Man []\n",
      "Spider-Man: Spider-Island []\n",
      "Robotech/Voltron []\n",
      "Batman/Aliens []\n",
      "X-Men: Wolverine/Gambit []\n",
      "X-Men []\n",
      "M.I.T.H. []\n",
      "Gantz/7 []\n",
      "Spider-Verse []\n",
      "Spider-Man/Wolverine []\n",
      "Gantz/26 []\n",
      "Honey/Chocolate []\n",
      "Spider-Verse []\n",
      "Poseidon-T []\n",
      "'Zine []\n",
      "Bat-Mite []\n",
      "Cool/Uncool []\n",
      "Guiana-Capac []\n",
      "Self-Obsessed []\n",
      "Gantz/15 []\n",
      "X-Men: X-Club []\n"
     ]
    },
    {
     "name": "stderr",
     "output_type": "stream",
     "text": [
      "<ipython-input-202-8bf9bf53f544>:1: SettingWithCopyWarning: \n",
      "A value is trying to be set on a copy of a slice from a DataFrame.\n",
      "Try using .loc[row_indexer,col_indexer] = value instead\n",
      "\n",
      "See the caveats in the documentation: https://pandas.pydata.org/pandas-docs/stable/user_guide/indexing.html#returning-a-view-versus-a-copy\n",
      "  df_books_author_features_eng[\"Vtitle\"] = df_books_author_features_eng[\"title\"].apply(sentence_to_vec)\n"
     ]
    }
   ],
   "source": [
    "df_books_author_features_eng[\"Vtitle\"] = df_books_author_features_eng[\"title\"].apply(sentence_to_vec)"
   ]
  },
  {
   "cell_type": "code",
   "execution_count": 203,
   "id": "f94fe1fd",
   "metadata": {},
   "outputs": [
    {
     "name": "stderr",
     "output_type": "stream",
     "text": [
      "c:\\users\\goyal_92by308\\appdata\\local\\programs\\python\\python39\\lib\\site-packages\\pandas\\core\\frame.py:4308: SettingWithCopyWarning: \n",
      "A value is trying to be set on a copy of a slice from a DataFrame\n",
      "\n",
      "See the caveats in the documentation: https://pandas.pydata.org/pandas-docs/stable/user_guide/indexing.html#returning-a-view-versus-a-copy\n",
      "  return super().drop(\n"
     ]
    }
   ],
   "source": [
    "df_books_author_features_eng.drop([\"description\",\"title\"],axis =1, inplace=True)"
   ]
  },
  {
   "cell_type": "code",
   "execution_count": 204,
   "id": "49a3c784",
   "metadata": {},
   "outputs": [
    {
     "data": {
      "text/html": [
       "<div>\n",
       "<style scoped>\n",
       "    .dataframe tbody tr th:only-of-type {\n",
       "        vertical-align: middle;\n",
       "    }\n",
       "\n",
       "    .dataframe tbody tr th {\n",
       "        vertical-align: top;\n",
       "    }\n",
       "\n",
       "    .dataframe thead th {\n",
       "        text-align: right;\n",
       "    }\n",
       "</style>\n",
       "<table border=\"1\" class=\"dataframe\">\n",
       "  <thead>\n",
       "    <tr style=\"text-align: right;\">\n",
       "      <th></th>\n",
       "      <th>book_id</th>\n",
       "      <th>Author rating</th>\n",
       "      <th>isbn</th>\n",
       "      <th>is_ebook</th>\n",
       "      <th>average_rating</th>\n",
       "      <th>num_pages</th>\n",
       "      <th>publication_day</th>\n",
       "      <th>publication_month</th>\n",
       "      <th>publication_year</th>\n",
       "      <th>Num of authors</th>\n",
       "      <th>...</th>\n",
       "      <th>format_Vinyl</th>\n",
       "      <th>format_cartonne</th>\n",
       "      <th>format_comic</th>\n",
       "      <th>format_ebook</th>\n",
       "      <th>format_hardcover</th>\n",
       "      <th>format_komitsuku</th>\n",
       "      <th>format_paper</th>\n",
       "      <th>format_paperback</th>\n",
       "      <th>Vdescription</th>\n",
       "      <th>Vtitle</th>\n",
       "    </tr>\n",
       "  </thead>\n",
       "  <tbody>\n",
       "    <tr>\n",
       "      <th>0</th>\n",
       "      <td>707611</td>\n",
       "      <td>4.006126</td>\n",
       "      <td>0930289765</td>\n",
       "      <td>1</td>\n",
       "      <td>4.058594</td>\n",
       "      <td>272</td>\n",
       "      <td>14</td>\n",
       "      <td>11</td>\n",
       "      <td>1997</td>\n",
       "      <td>2</td>\n",
       "      <td>...</td>\n",
       "      <td>0</td>\n",
       "      <td>0</td>\n",
       "      <td>0</td>\n",
       "      <td>0</td>\n",
       "      <td>0</td>\n",
       "      <td>0</td>\n",
       "      <td>0</td>\n",
       "      <td>0</td>\n",
       "      <td>[0.3270356, 0.2330691, -0.110652365, -0.126882...</td>\n",
       "      <td>[-0.14603, 0.7142925, 0.269001, 0.1954625, 0.0...</td>\n",
       "    </tr>\n",
       "    <tr>\n",
       "      <th>1</th>\n",
       "      <td>2250580</td>\n",
       "      <td>4.006126</td>\n",
       "      <td>1933617640</td>\n",
       "      <td>1</td>\n",
       "      <td>3.439453</td>\n",
       "      <td>206</td>\n",
       "      <td>2</td>\n",
       "      <td>1</td>\n",
       "      <td>2007</td>\n",
       "      <td>1</td>\n",
       "      <td>...</td>\n",
       "      <td>0</td>\n",
       "      <td>0</td>\n",
       "      <td>0</td>\n",
       "      <td>0</td>\n",
       "      <td>0</td>\n",
       "      <td>0</td>\n",
       "      <td>0</td>\n",
       "      <td>0</td>\n",
       "      <td>[0.29723427, 0.20099656, -0.0888261, -0.153819...</td>\n",
       "      <td>[-0.59094334, 0.63346666, 0.14800501, 0.125529...</td>\n",
       "    </tr>\n",
       "    <tr>\n",
       "      <th>2</th>\n",
       "      <td>27036536</td>\n",
       "      <td>4.300781</td>\n",
       "      <td>1592912729</td>\n",
       "      <td>1</td>\n",
       "      <td>4.148438</td>\n",
       "      <td>224</td>\n",
       "      <td>26</td>\n",
       "      <td>1</td>\n",
       "      <td>2016</td>\n",
       "      <td>4</td>\n",
       "      <td>...</td>\n",
       "      <td>0</td>\n",
       "      <td>0</td>\n",
       "      <td>0</td>\n",
       "      <td>0</td>\n",
       "      <td>0</td>\n",
       "      <td>0</td>\n",
       "      <td>0</td>\n",
       "      <td>0</td>\n",
       "      <td>[0.3787562, 0.15414847, -0.11322223, -0.150838...</td>\n",
       "      <td>[0.09751502, 0.45347577, 0.21643876, -0.162666...</td>\n",
       "    </tr>\n",
       "    <tr>\n",
       "      <th>3</th>\n",
       "      <td>27036537</td>\n",
       "      <td>3.619141</td>\n",
       "      <td>1592912737</td>\n",
       "      <td>1</td>\n",
       "      <td>3.160156</td>\n",
       "      <td>160</td>\n",
       "      <td>8</td>\n",
       "      <td>3</td>\n",
       "      <td>2016</td>\n",
       "      <td>1</td>\n",
       "      <td>...</td>\n",
       "      <td>0</td>\n",
       "      <td>0</td>\n",
       "      <td>0</td>\n",
       "      <td>0</td>\n",
       "      <td>0</td>\n",
       "      <td>0</td>\n",
       "      <td>0</td>\n",
       "      <td>0</td>\n",
       "      <td>[0.35482199728673647, 0.14170668663626368, -0....</td>\n",
       "      <td>[-0.030936, 0.112560995, 0.5811867, -0.3092533...</td>\n",
       "    </tr>\n",
       "    <tr>\n",
       "      <th>4</th>\n",
       "      <td>27036538</td>\n",
       "      <td>3.683594</td>\n",
       "      <td>1592912753</td>\n",
       "      <td>1</td>\n",
       "      <td>3.509766</td>\n",
       "      <td>160</td>\n",
       "      <td>22</td>\n",
       "      <td>3</td>\n",
       "      <td>2016</td>\n",
       "      <td>5</td>\n",
       "      <td>...</td>\n",
       "      <td>0</td>\n",
       "      <td>0</td>\n",
       "      <td>0</td>\n",
       "      <td>0</td>\n",
       "      <td>0</td>\n",
       "      <td>0</td>\n",
       "      <td>0</td>\n",
       "      <td>0</td>\n",
       "      <td>[0.32950998106155627, 0.22385791273461314, -0....</td>\n",
       "      <td>[0.107121445, 0.2782533, 0.5600229, -0.1884628...</td>\n",
       "    </tr>\n",
       "    <tr>\n",
       "      <th>...</th>\n",
       "      <td>...</td>\n",
       "      <td>...</td>\n",
       "      <td>...</td>\n",
       "      <td>...</td>\n",
       "      <td>...</td>\n",
       "      <td>...</td>\n",
       "      <td>...</td>\n",
       "      <td>...</td>\n",
       "      <td>...</td>\n",
       "      <td>...</td>\n",
       "      <td>...</td>\n",
       "      <td>...</td>\n",
       "      <td>...</td>\n",
       "      <td>...</td>\n",
       "      <td>...</td>\n",
       "      <td>...</td>\n",
       "      <td>...</td>\n",
       "      <td>...</td>\n",
       "      <td>...</td>\n",
       "      <td>...</td>\n",
       "      <td>...</td>\n",
       "    </tr>\n",
       "    <tr>\n",
       "      <th>35626</th>\n",
       "      <td>7657484</td>\n",
       "      <td>4.101562</td>\n",
       "      <td>1401224687</td>\n",
       "      <td>1</td>\n",
       "      <td>3.900391</td>\n",
       "      <td>134</td>\n",
       "      <td>2</td>\n",
       "      <td>11</td>\n",
       "      <td>2010</td>\n",
       "      <td>5</td>\n",
       "      <td>...</td>\n",
       "      <td>0</td>\n",
       "      <td>0</td>\n",
       "      <td>0</td>\n",
       "      <td>0</td>\n",
       "      <td>0</td>\n",
       "      <td>0</td>\n",
       "      <td>0</td>\n",
       "      <td>0</td>\n",
       "      <td>[0.1536698756421886, 0.28926618783599767, -0.0...</td>\n",
       "      <td>[0.22593601, 0.4951686, 0.49040803, 0.14389059...</td>\n",
       "    </tr>\n",
       "    <tr>\n",
       "      <th>35627</th>\n",
       "      <td>30112514</td>\n",
       "      <td>4.006126</td>\n",
       "      <td>1503938999</td>\n",
       "      <td>1</td>\n",
       "      <td>3.769531</td>\n",
       "      <td>128</td>\n",
       "      <td>2</td>\n",
       "      <td>11</td>\n",
       "      <td>2016</td>\n",
       "      <td>4</td>\n",
       "      <td>...</td>\n",
       "      <td>0</td>\n",
       "      <td>0</td>\n",
       "      <td>0</td>\n",
       "      <td>0</td>\n",
       "      <td>0</td>\n",
       "      <td>0</td>\n",
       "      <td>0</td>\n",
       "      <td>0</td>\n",
       "      <td>[0.21773681006785753, -0.12002041313014385, -0...</td>\n",
       "      <td>[0.08728667, 0.113060005, -0.28417334, 0.28463...</td>\n",
       "    </tr>\n",
       "    <tr>\n",
       "      <th>35628</th>\n",
       "      <td>6419558</td>\n",
       "      <td>4.085227</td>\n",
       "      <td>1421526123</td>\n",
       "      <td>1</td>\n",
       "      <td>4.089844</td>\n",
       "      <td>192</td>\n",
       "      <td>17</td>\n",
       "      <td>11</td>\n",
       "      <td>2009</td>\n",
       "      <td>1</td>\n",
       "      <td>...</td>\n",
       "      <td>0</td>\n",
       "      <td>0</td>\n",
       "      <td>0</td>\n",
       "      <td>0</td>\n",
       "      <td>0</td>\n",
       "      <td>0</td>\n",
       "      <td>0</td>\n",
       "      <td>0</td>\n",
       "      <td>[0.3097040537876759, 0.14285552792808437, -0.1...</td>\n",
       "      <td>[-0.32222399711608884, 0.4122480034828186, 0.2...</td>\n",
       "    </tr>\n",
       "    <tr>\n",
       "      <th>35629</th>\n",
       "      <td>3106983</td>\n",
       "      <td>4.229167</td>\n",
       "      <td>009952399X</td>\n",
       "      <td>1</td>\n",
       "      <td>4.359375</td>\n",
       "      <td>343</td>\n",
       "      <td>6</td>\n",
       "      <td>3</td>\n",
       "      <td>2008</td>\n",
       "      <td>2</td>\n",
       "      <td>...</td>\n",
       "      <td>0</td>\n",
       "      <td>0</td>\n",
       "      <td>0</td>\n",
       "      <td>0</td>\n",
       "      <td>0</td>\n",
       "      <td>0</td>\n",
       "      <td>0</td>\n",
       "      <td>0</td>\n",
       "      <td>[0.33514294, 0.37037635, -0.36536005, -0.08729...</td>\n",
       "      <td>[0.37122834, 0.53051084, -0.36788914, -0.03826...</td>\n",
       "    </tr>\n",
       "    <tr>\n",
       "      <th>35630</th>\n",
       "      <td>10644600</td>\n",
       "      <td>4.006126</td>\n",
       "      <td>1592911196</td>\n",
       "      <td>1</td>\n",
       "      <td>3.740234</td>\n",
       "      <td>256</td>\n",
       "      <td>9</td>\n",
       "      <td>8</td>\n",
       "      <td>2011</td>\n",
       "      <td>3</td>\n",
       "      <td>...</td>\n",
       "      <td>0</td>\n",
       "      <td>0</td>\n",
       "      <td>0</td>\n",
       "      <td>0</td>\n",
       "      <td>0</td>\n",
       "      <td>0</td>\n",
       "      <td>0</td>\n",
       "      <td>0</td>\n",
       "      <td>[0.24428509, 0.29736155, -0.32212666, -0.10880...</td>\n",
       "      <td>[0.024193501, 0.401415, -0.46039, -0.7162335, ...</td>\n",
       "    </tr>\n",
       "  </tbody>\n",
       "</table>\n",
       "<p>30825 rows × 117 columns</p>\n",
       "</div>"
      ],
      "text/plain": [
       "        book_id  Author rating        isbn  is_ebook  average_rating  \\\n",
       "0        707611       4.006126  0930289765         1        4.058594   \n",
       "1       2250580       4.006126  1933617640         1        3.439453   \n",
       "2      27036536       4.300781  1592912729         1        4.148438   \n",
       "3      27036537       3.619141  1592912737         1        3.160156   \n",
       "4      27036538       3.683594  1592912753         1        3.509766   \n",
       "...         ...            ...         ...       ...             ...   \n",
       "35626   7657484       4.101562  1401224687         1        3.900391   \n",
       "35627  30112514       4.006126  1503938999         1        3.769531   \n",
       "35628   6419558       4.085227  1421526123         1        4.089844   \n",
       "35629   3106983       4.229167  009952399X         1        4.359375   \n",
       "35630  10644600       4.006126  1592911196         1        3.740234   \n",
       "\n",
       "       num_pages publication_day publication_month  publication_year  \\\n",
       "0            272              14                11              1997   \n",
       "1            206               2                 1              2007   \n",
       "2            224              26                 1              2016   \n",
       "3            160               8                 3              2016   \n",
       "4            160              22                 3              2016   \n",
       "...          ...             ...               ...               ...   \n",
       "35626        134               2                11              2010   \n",
       "35627        128               2                11              2016   \n",
       "35628        192              17                11              2009   \n",
       "35629        343               6                 3              2008   \n",
       "35630        256               9                 8              2011   \n",
       "\n",
       "       Num of authors  ...  format_Vinyl  format_cartonne  format_comic  \\\n",
       "0                   2  ...             0                0             0   \n",
       "1                   1  ...             0                0             0   \n",
       "2                   4  ...             0                0             0   \n",
       "3                   1  ...             0                0             0   \n",
       "4                   5  ...             0                0             0   \n",
       "...               ...  ...           ...              ...           ...   \n",
       "35626               5  ...             0                0             0   \n",
       "35627               4  ...             0                0             0   \n",
       "35628               1  ...             0                0             0   \n",
       "35629               2  ...             0                0             0   \n",
       "35630               3  ...             0                0             0   \n",
       "\n",
       "       format_ebook  format_hardcover  format_komitsuku  format_paper  \\\n",
       "0                 0                 0                 0             0   \n",
       "1                 0                 0                 0             0   \n",
       "2                 0                 0                 0             0   \n",
       "3                 0                 0                 0             0   \n",
       "4                 0                 0                 0             0   \n",
       "...             ...               ...               ...           ...   \n",
       "35626             0                 0                 0             0   \n",
       "35627             0                 0                 0             0   \n",
       "35628             0                 0                 0             0   \n",
       "35629             0                 0                 0             0   \n",
       "35630             0                 0                 0             0   \n",
       "\n",
       "       format_paperback                                       Vdescription  \\\n",
       "0                     0  [0.3270356, 0.2330691, -0.110652365, -0.126882...   \n",
       "1                     0  [0.29723427, 0.20099656, -0.0888261, -0.153819...   \n",
       "2                     0  [0.3787562, 0.15414847, -0.11322223, -0.150838...   \n",
       "3                     0  [0.35482199728673647, 0.14170668663626368, -0....   \n",
       "4                     0  [0.32950998106155627, 0.22385791273461314, -0....   \n",
       "...                 ...                                                ...   \n",
       "35626                 0  [0.1536698756421886, 0.28926618783599767, -0.0...   \n",
       "35627                 0  [0.21773681006785753, -0.12002041313014385, -0...   \n",
       "35628                 0  [0.3097040537876759, 0.14285552792808437, -0.1...   \n",
       "35629                 0  [0.33514294, 0.37037635, -0.36536005, -0.08729...   \n",
       "35630                 0  [0.24428509, 0.29736155, -0.32212666, -0.10880...   \n",
       "\n",
       "                                                  Vtitle  \n",
       "0      [-0.14603, 0.7142925, 0.269001, 0.1954625, 0.0...  \n",
       "1      [-0.59094334, 0.63346666, 0.14800501, 0.125529...  \n",
       "2      [0.09751502, 0.45347577, 0.21643876, -0.162666...  \n",
       "3      [-0.030936, 0.112560995, 0.5811867, -0.3092533...  \n",
       "4      [0.107121445, 0.2782533, 0.5600229, -0.1884628...  \n",
       "...                                                  ...  \n",
       "35626  [0.22593601, 0.4951686, 0.49040803, 0.14389059...  \n",
       "35627  [0.08728667, 0.113060005, -0.28417334, 0.28463...  \n",
       "35628  [-0.32222399711608884, 0.4122480034828186, 0.2...  \n",
       "35629  [0.37122834, 0.53051084, -0.36788914, -0.03826...  \n",
       "35630  [0.024193501, 0.401415, -0.46039, -0.7162335, ...  \n",
       "\n",
       "[30825 rows x 117 columns]"
      ]
     },
     "execution_count": 204,
     "metadata": {},
     "output_type": "execute_result"
    }
   ],
   "source": [
    "df_books_author_features_eng"
   ]
  },
  {
   "cell_type": "markdown",
   "id": "44d7d9ec",
   "metadata": {},
   "source": [
    "### Model training"
   ]
  },
  {
   "cell_type": "code",
   "execution_count": 205,
   "id": "4966bb48",
   "metadata": {},
   "outputs": [],
   "source": [
    "from sklearn.model_selection import train_test_split\n"
   ]
  },
  {
   "cell_type": "code",
   "execution_count": 206,
   "id": "5d1dd02f",
   "metadata": {},
   "outputs": [],
   "source": [
    "y = df_books_author_features_eng[\"average_rating\"]"
   ]
  },
  {
   "cell_type": "code",
   "execution_count": 207,
   "id": "94ff445d",
   "metadata": {},
   "outputs": [],
   "source": [
    "X = df_books_author_features_eng.drop(\"average_rating\",axis=1)"
   ]
  },
  {
   "cell_type": "code",
   "execution_count": 208,
   "id": "edbe38e1",
   "metadata": {},
   "outputs": [],
   "source": [
    "cols = list(X.columns)\n",
    "cols.remove('Vdescription')\n",
    "cols.remove(\"Vtitle\")"
   ]
  },
  {
   "cell_type": "code",
   "execution_count": 209,
   "id": "2bb8cf95",
   "metadata": {},
   "outputs": [
    {
     "data": {
      "text/plain": [
       "Index(['book_id', 'Author rating', 'isbn', 'is_ebook', 'num_pages',\n",
       "       'publication_day', 'publication_month', 'publication_year',\n",
       "       'Num of authors', 'Publisher rating',\n",
       "       ...\n",
       "       'format_Vinyl', 'format_cartonne', 'format_comic', 'format_ebook',\n",
       "       'format_hardcover', 'format_komitsuku', 'format_paper',\n",
       "       'format_paperback', 'Vdescription', 'Vtitle'],\n",
       "      dtype='object', length=116)"
      ]
     },
     "execution_count": 209,
     "metadata": {},
     "output_type": "execute_result"
    }
   ],
   "source": [
    "X.columns"
   ]
  },
  {
   "cell_type": "code",
   "execution_count": 210,
   "id": "11742730",
   "metadata": {},
   "outputs": [],
   "source": [
    "# Assuming X['Vtitle'].values is your array of arrays, where each element is a vector of shape (50,)\n",
    "vector_array = X['Vtitle'].values\n",
    "Vtitle = np.vstack(vector_array)\n",
    "vector_array = X[\"Vdescription\"].values\n",
    "Vdescription = np.vstack(vector_array)\n"
   ]
  },
  {
   "cell_type": "code",
   "execution_count": 211,
   "id": "56a2f101",
   "metadata": {},
   "outputs": [],
   "source": [
    "X_final = np.concatenate([X[cols].values,Vtitle,Vdescription], axis=1)"
   ]
  },
  {
   "cell_type": "code",
   "execution_count": 212,
   "id": "8eac1606",
   "metadata": {},
   "outputs": [],
   "source": [
    "new_cols = cols.copy()\n",
    "V_t = [\"Vtitle \" + str(i) for i in range(1,51)]\n",
    "V_descp = [\"Vdescription \" + str(i) for i in range(1,51)]\n",
    "\n",
    "new_cols.extend(V_t)\n",
    "new_cols.extend(V_descp)\n"
   ]
  },
  {
   "cell_type": "code",
   "execution_count": 213,
   "id": "0bae16e8",
   "metadata": {},
   "outputs": [],
   "source": [
    "df_book_final_features = pd.DataFrame(X_final,columns=new_cols)"
   ]
  },
  {
   "cell_type": "code",
   "execution_count": 214,
   "id": "78460cb5",
   "metadata": {},
   "outputs": [
    {
     "data": {
      "text/html": [
       "<div>\n",
       "<style scoped>\n",
       "    .dataframe tbody tr th:only-of-type {\n",
       "        vertical-align: middle;\n",
       "    }\n",
       "\n",
       "    .dataframe tbody tr th {\n",
       "        vertical-align: top;\n",
       "    }\n",
       "\n",
       "    .dataframe thead th {\n",
       "        text-align: right;\n",
       "    }\n",
       "</style>\n",
       "<table border=\"1\" class=\"dataframe\">\n",
       "  <thead>\n",
       "    <tr style=\"text-align: right;\">\n",
       "      <th></th>\n",
       "      <th>book_id</th>\n",
       "      <th>Author rating</th>\n",
       "      <th>isbn</th>\n",
       "      <th>is_ebook</th>\n",
       "      <th>num_pages</th>\n",
       "      <th>publication_day</th>\n",
       "      <th>publication_month</th>\n",
       "      <th>publication_year</th>\n",
       "      <th>Num of authors</th>\n",
       "      <th>Publisher rating</th>\n",
       "      <th>...</th>\n",
       "      <th>Vdescription 41</th>\n",
       "      <th>Vdescription 42</th>\n",
       "      <th>Vdescription 43</th>\n",
       "      <th>Vdescription 44</th>\n",
       "      <th>Vdescription 45</th>\n",
       "      <th>Vdescription 46</th>\n",
       "      <th>Vdescription 47</th>\n",
       "      <th>Vdescription 48</th>\n",
       "      <th>Vdescription 49</th>\n",
       "      <th>Vdescription 50</th>\n",
       "    </tr>\n",
       "  </thead>\n",
       "  <tbody>\n",
       "    <tr>\n",
       "      <th>0</th>\n",
       "      <td>707611</td>\n",
       "      <td>4.006126</td>\n",
       "      <td>0930289765</td>\n",
       "      <td>1</td>\n",
       "      <td>272</td>\n",
       "      <td>14</td>\n",
       "      <td>11</td>\n",
       "      <td>1997</td>\n",
       "      <td>2</td>\n",
       "      <td>3.725</td>\n",
       "      <td>...</td>\n",
       "      <td>-0.228172</td>\n",
       "      <td>0.080293</td>\n",
       "      <td>-0.020624</td>\n",
       "      <td>0.08334</td>\n",
       "      <td>-0.10243</td>\n",
       "      <td>0.054003</td>\n",
       "      <td>-0.142393</td>\n",
       "      <td>-0.186315</td>\n",
       "      <td>-0.095436</td>\n",
       "      <td>-0.463446</td>\n",
       "    </tr>\n",
       "    <tr>\n",
       "      <th>1</th>\n",
       "      <td>2250580</td>\n",
       "      <td>4.006126</td>\n",
       "      <td>1933617640</td>\n",
       "      <td>1</td>\n",
       "      <td>206</td>\n",
       "      <td>2</td>\n",
       "      <td>1</td>\n",
       "      <td>2007</td>\n",
       "      <td>1</td>\n",
       "      <td>4.024352</td>\n",
       "      <td>...</td>\n",
       "      <td>-0.061988</td>\n",
       "      <td>0.155362</td>\n",
       "      <td>0.056955</td>\n",
       "      <td>0.234379</td>\n",
       "      <td>0.086948</td>\n",
       "      <td>0.050219</td>\n",
       "      <td>-0.061491</td>\n",
       "      <td>-0.385843</td>\n",
       "      <td>-0.189563</td>\n",
       "      <td>0.027925</td>\n",
       "    </tr>\n",
       "    <tr>\n",
       "      <th>2</th>\n",
       "      <td>27036536</td>\n",
       "      <td>4.300781</td>\n",
       "      <td>1592912729</td>\n",
       "      <td>1</td>\n",
       "      <td>224</td>\n",
       "      <td>26</td>\n",
       "      <td>1</td>\n",
       "      <td>2016</td>\n",
       "      <td>4</td>\n",
       "      <td>3.632911</td>\n",
       "      <td>...</td>\n",
       "      <td>-0.204342</td>\n",
       "      <td>0.043944</td>\n",
       "      <td>0.106733</td>\n",
       "      <td>-0.06399</td>\n",
       "      <td>-0.031067</td>\n",
       "      <td>0.120248</td>\n",
       "      <td>-0.056355</td>\n",
       "      <td>-0.134367</td>\n",
       "      <td>-0.158646</td>\n",
       "      <td>-0.281975</td>\n",
       "    </tr>\n",
       "    <tr>\n",
       "      <th>3</th>\n",
       "      <td>27036537</td>\n",
       "      <td>3.619141</td>\n",
       "      <td>1592912737</td>\n",
       "      <td>1</td>\n",
       "      <td>160</td>\n",
       "      <td>8</td>\n",
       "      <td>3</td>\n",
       "      <td>2016</td>\n",
       "      <td>1</td>\n",
       "      <td>3.632911</td>\n",
       "      <td>...</td>\n",
       "      <td>-0.201021</td>\n",
       "      <td>-0.007793</td>\n",
       "      <td>0.075083</td>\n",
       "      <td>0.123313</td>\n",
       "      <td>-0.162441</td>\n",
       "      <td>0.091364</td>\n",
       "      <td>-0.087378</td>\n",
       "      <td>-0.123507</td>\n",
       "      <td>-0.107703</td>\n",
       "      <td>-0.278996</td>\n",
       "    </tr>\n",
       "    <tr>\n",
       "      <th>4</th>\n",
       "      <td>27036538</td>\n",
       "      <td>3.683594</td>\n",
       "      <td>1592912753</td>\n",
       "      <td>1</td>\n",
       "      <td>160</td>\n",
       "      <td>22</td>\n",
       "      <td>3</td>\n",
       "      <td>2016</td>\n",
       "      <td>5</td>\n",
       "      <td>3.632911</td>\n",
       "      <td>...</td>\n",
       "      <td>-0.180941</td>\n",
       "      <td>-0.001492</td>\n",
       "      <td>-0.019022</td>\n",
       "      <td>-0.068457</td>\n",
       "      <td>-0.135917</td>\n",
       "      <td>0.123262</td>\n",
       "      <td>-0.076425</td>\n",
       "      <td>-0.120449</td>\n",
       "      <td>-0.071749</td>\n",
       "      <td>-0.158839</td>\n",
       "    </tr>\n",
       "    <tr>\n",
       "      <th>...</th>\n",
       "      <td>...</td>\n",
       "      <td>...</td>\n",
       "      <td>...</td>\n",
       "      <td>...</td>\n",
       "      <td>...</td>\n",
       "      <td>...</td>\n",
       "      <td>...</td>\n",
       "      <td>...</td>\n",
       "      <td>...</td>\n",
       "      <td>...</td>\n",
       "      <td>...</td>\n",
       "      <td>...</td>\n",
       "      <td>...</td>\n",
       "      <td>...</td>\n",
       "      <td>...</td>\n",
       "      <td>...</td>\n",
       "      <td>...</td>\n",
       "      <td>...</td>\n",
       "      <td>...</td>\n",
       "      <td>...</td>\n",
       "      <td>...</td>\n",
       "    </tr>\n",
       "    <tr>\n",
       "      <th>30820</th>\n",
       "      <td>7657484</td>\n",
       "      <td>4.101562</td>\n",
       "      <td>1401224687</td>\n",
       "      <td>1</td>\n",
       "      <td>134</td>\n",
       "      <td>2</td>\n",
       "      <td>11</td>\n",
       "      <td>2010</td>\n",
       "      <td>5</td>\n",
       "      <td>3.775281</td>\n",
       "      <td>...</td>\n",
       "      <td>-0.133081</td>\n",
       "      <td>0.140068</td>\n",
       "      <td>-0.106184</td>\n",
       "      <td>-0.120897</td>\n",
       "      <td>-0.057383</td>\n",
       "      <td>0.216026</td>\n",
       "      <td>-0.034754</td>\n",
       "      <td>-0.245912</td>\n",
       "      <td>-0.092759</td>\n",
       "      <td>-0.096165</td>\n",
       "    </tr>\n",
       "    <tr>\n",
       "      <th>30821</th>\n",
       "      <td>30112514</td>\n",
       "      <td>4.006126</td>\n",
       "      <td>1503938999</td>\n",
       "      <td>1</td>\n",
       "      <td>128</td>\n",
       "      <td>2</td>\n",
       "      <td>11</td>\n",
       "      <td>2016</td>\n",
       "      <td>4</td>\n",
       "      <td>3.945312</td>\n",
       "      <td>...</td>\n",
       "      <td>-0.167302</td>\n",
       "      <td>0.192913</td>\n",
       "      <td>-0.071128</td>\n",
       "      <td>0.149307</td>\n",
       "      <td>-0.064844</td>\n",
       "      <td>0.068838</td>\n",
       "      <td>-0.062293</td>\n",
       "      <td>-0.121058</td>\n",
       "      <td>0.001789</td>\n",
       "      <td>-0.076237</td>\n",
       "    </tr>\n",
       "    <tr>\n",
       "      <th>30822</th>\n",
       "      <td>6419558</td>\n",
       "      <td>4.085227</td>\n",
       "      <td>1421526123</td>\n",
       "      <td>1</td>\n",
       "      <td>192</td>\n",
       "      <td>17</td>\n",
       "      <td>11</td>\n",
       "      <td>2009</td>\n",
       "      <td>1</td>\n",
       "      <td>4.175926</td>\n",
       "      <td>...</td>\n",
       "      <td>-0.184226</td>\n",
       "      <td>0.140651</td>\n",
       "      <td>-0.040405</td>\n",
       "      <td>0.127661</td>\n",
       "      <td>0.14213</td>\n",
       "      <td>0.067853</td>\n",
       "      <td>-0.079409</td>\n",
       "      <td>-0.20986</td>\n",
       "      <td>-0.077939</td>\n",
       "      <td>-0.168078</td>\n",
       "    </tr>\n",
       "    <tr>\n",
       "      <th>30823</th>\n",
       "      <td>3106983</td>\n",
       "      <td>4.229167</td>\n",
       "      <td>009952399X</td>\n",
       "      <td>1</td>\n",
       "      <td>343</td>\n",
       "      <td>6</td>\n",
       "      <td>3</td>\n",
       "      <td>2008</td>\n",
       "      <td>2</td>\n",
       "      <td>4.024352</td>\n",
       "      <td>...</td>\n",
       "      <td>-0.100403</td>\n",
       "      <td>0.094065</td>\n",
       "      <td>-0.005422</td>\n",
       "      <td>-0.023786</td>\n",
       "      <td>0.034251</td>\n",
       "      <td>0.163754</td>\n",
       "      <td>-0.105997</td>\n",
       "      <td>-0.137081</td>\n",
       "      <td>-0.032802</td>\n",
       "      <td>-0.23769</td>\n",
       "    </tr>\n",
       "    <tr>\n",
       "      <th>30824</th>\n",
       "      <td>10644600</td>\n",
       "      <td>4.006126</td>\n",
       "      <td>1592911196</td>\n",
       "      <td>1</td>\n",
       "      <td>256</td>\n",
       "      <td>9</td>\n",
       "      <td>8</td>\n",
       "      <td>2011</td>\n",
       "      <td>3</td>\n",
       "      <td>3.615079</td>\n",
       "      <td>...</td>\n",
       "      <td>-0.05053</td>\n",
       "      <td>0.160524</td>\n",
       "      <td>-0.134935</td>\n",
       "      <td>-0.107763</td>\n",
       "      <td>-0.037611</td>\n",
       "      <td>0.109858</td>\n",
       "      <td>-0.004126</td>\n",
       "      <td>-0.372385</td>\n",
       "      <td>-0.0388</td>\n",
       "      <td>-0.080373</td>\n",
       "    </tr>\n",
       "  </tbody>\n",
       "</table>\n",
       "<p>30825 rows × 214 columns</p>\n",
       "</div>"
      ],
      "text/plain": [
       "        book_id Author rating        isbn is_ebook num_pages publication_day  \\\n",
       "0        707611      4.006126  0930289765        1       272              14   \n",
       "1       2250580      4.006126  1933617640        1       206               2   \n",
       "2      27036536      4.300781  1592912729        1       224              26   \n",
       "3      27036537      3.619141  1592912737        1       160               8   \n",
       "4      27036538      3.683594  1592912753        1       160              22   \n",
       "...         ...           ...         ...      ...       ...             ...   \n",
       "30820   7657484      4.101562  1401224687        1       134               2   \n",
       "30821  30112514      4.006126  1503938999        1       128               2   \n",
       "30822   6419558      4.085227  1421526123        1       192              17   \n",
       "30823   3106983      4.229167  009952399X        1       343               6   \n",
       "30824  10644600      4.006126  1592911196        1       256               9   \n",
       "\n",
       "      publication_month publication_year Num of authors Publisher rating  ...  \\\n",
       "0                    11             1997              2            3.725  ...   \n",
       "1                     1             2007              1         4.024352  ...   \n",
       "2                     1             2016              4         3.632911  ...   \n",
       "3                     3             2016              1         3.632911  ...   \n",
       "4                     3             2016              5         3.632911  ...   \n",
       "...                 ...              ...            ...              ...  ...   \n",
       "30820                11             2010              5         3.775281  ...   \n",
       "30821                11             2016              4         3.945312  ...   \n",
       "30822                11             2009              1         4.175926  ...   \n",
       "30823                 3             2008              2         4.024352  ...   \n",
       "30824                 8             2011              3         3.615079  ...   \n",
       "\n",
       "      Vdescription 41 Vdescription 42 Vdescription 43 Vdescription 44  \\\n",
       "0           -0.228172        0.080293       -0.020624         0.08334   \n",
       "1           -0.061988        0.155362        0.056955        0.234379   \n",
       "2           -0.204342        0.043944        0.106733        -0.06399   \n",
       "3           -0.201021       -0.007793        0.075083        0.123313   \n",
       "4           -0.180941       -0.001492       -0.019022       -0.068457   \n",
       "...               ...             ...             ...             ...   \n",
       "30820       -0.133081        0.140068       -0.106184       -0.120897   \n",
       "30821       -0.167302        0.192913       -0.071128        0.149307   \n",
       "30822       -0.184226        0.140651       -0.040405        0.127661   \n",
       "30823       -0.100403        0.094065       -0.005422       -0.023786   \n",
       "30824        -0.05053        0.160524       -0.134935       -0.107763   \n",
       "\n",
       "      Vdescription 45 Vdescription 46 Vdescription 47 Vdescription 48  \\\n",
       "0            -0.10243        0.054003       -0.142393       -0.186315   \n",
       "1            0.086948        0.050219       -0.061491       -0.385843   \n",
       "2           -0.031067        0.120248       -0.056355       -0.134367   \n",
       "3           -0.162441        0.091364       -0.087378       -0.123507   \n",
       "4           -0.135917        0.123262       -0.076425       -0.120449   \n",
       "...               ...             ...             ...             ...   \n",
       "30820       -0.057383        0.216026       -0.034754       -0.245912   \n",
       "30821       -0.064844        0.068838       -0.062293       -0.121058   \n",
       "30822         0.14213        0.067853       -0.079409        -0.20986   \n",
       "30823        0.034251        0.163754       -0.105997       -0.137081   \n",
       "30824       -0.037611        0.109858       -0.004126       -0.372385   \n",
       "\n",
       "      Vdescription 49 Vdescription 50  \n",
       "0           -0.095436       -0.463446  \n",
       "1           -0.189563        0.027925  \n",
       "2           -0.158646       -0.281975  \n",
       "3           -0.107703       -0.278996  \n",
       "4           -0.071749       -0.158839  \n",
       "...               ...             ...  \n",
       "30820       -0.092759       -0.096165  \n",
       "30821        0.001789       -0.076237  \n",
       "30822       -0.077939       -0.168078  \n",
       "30823       -0.032802        -0.23769  \n",
       "30824         -0.0388       -0.080373  \n",
       "\n",
       "[30825 rows x 214 columns]"
      ]
     },
     "execution_count": 214,
     "metadata": {},
     "output_type": "execute_result"
    }
   ],
   "source": [
    "df_book_final_features"
   ]
  },
  {
   "cell_type": "code",
   "execution_count": 215,
   "id": "a691f613",
   "metadata": {},
   "outputs": [],
   "source": [
    "X_train, X_test, y_train, y_test = train_test_split(X_final, y, test_size=0.2, random_state=42)\n"
   ]
  },
  {
   "cell_type": "code",
   "execution_count": null,
   "id": "9bae857e",
   "metadata": {},
   "outputs": [],
   "source": [
    "xxxxxxxxxxxxxxxxxxxxxxxxxxxxxxx"
   ]
  },
  {
   "cell_type": "code",
   "execution_count": 104,
   "id": "f8a1197f",
   "metadata": {},
   "outputs": [],
   "source": [
    "from sklearn.metrics import mean_squared_error\n"
   ]
  },
  {
   "cell_type": "code",
   "execution_count": 128,
   "id": "e9f444a5",
   "metadata": {},
   "outputs": [],
   "source": [
    "from sklearn.linear_model import LinearRegression\n",
    "from sklearn.tree import DecisionTreeRegressor\n",
    "from sklearn.ensemble import RandomForestRegressor\n",
    "from sklearn.svm import SVR\n",
    "\n",
    "# Define models\n",
    "models = {\n",
    "    'Linear Regression': LinearRegression(),\n",
    "    'Decision Tree': DecisionTreeRegressor(random_state=42),\n",
    "    'Random Forest': RandomForestRegressor(random_state=42),\n",
    "    'Support Vector Machine': SVR()\n",
    "}"
   ]
  },
  {
   "cell_type": "code",
   "execution_count": 129,
   "id": "88d65a23",
   "metadata": {},
   "outputs": [
    {
     "name": "stdout",
     "output_type": "stream",
     "text": [
      "Model: Linear Regression\n",
      "Training R^2 score: 0.3108711583876619\n",
      "Testing R^2 score: 0.31560633822671036\n",
      "RMS:, 0.07484291461866904\n",
      "------------------------------\n",
      "Model: Decision Tree\n",
      "Training R^2 score: 1.0\n",
      "Testing R^2 score: -0.22730665198758748\n",
      "RMS:, 0.13421399422027272\n",
      "------------------------------\n",
      "Model: Random Forest\n",
      "Training R^2 score: 0.9182223747508292\n",
      "Testing R^2 score: 0.42719077800976113\n",
      "RMS:, 0.06264042770811476\n",
      "------------------------------\n",
      "Model: Support Vector Machine\n",
      "Training R^2 score: 0.024239479051419766\n",
      "Testing R^2 score: 0.024406399431689985\n",
      "RMS:, 0.1066875288714189\n",
      "------------------------------\n"
     ]
    }
   ],
   "source": [
    "# Evaluate the model\n",
    "# Train and evaluate models\n",
    "\n",
    "### model \n",
    "for name, model in models.items():\n",
    "    model.fit(X_train, y_train)\n",
    "    train_score = model.score(X_train, y_train)\n",
    "    test_score = model.score(X_test, y_test)\n",
    "    \n",
    "    y_pred = model.predict(X_test)\n",
    "    rms = mean_squared_error(y_test, y_pred)\n",
    "    print(f\"Model: {name}\")\n",
    "    print(\"Training R^2 score:\", train_score)\n",
    "    print(\"Testing R^2 score:\", test_score)\n",
    "    print(\"RMS:,\",rms)\n",
    "    print('-' * 30)"
   ]
  },
  {
   "cell_type": "code",
   "execution_count": 107,
   "id": "812d07aa",
   "metadata": {},
   "outputs": [
    {
     "data": {
      "text/plain": [
       "((array([8.0000e+00, 2.8000e+01, 1.9400e+02, 8.8900e+02, 4.0810e+03,\n",
       "         1.2918e+04, 2.1029e+04, 1.3423e+04, 2.3440e+03, 1.3700e+02]),\n",
       "  array([1.79 , 2.111, 2.432, 2.754, 3.074, 3.395, 3.717, 4.035, 4.36 ,\n",
       "         4.68 , 5.   ], dtype=float16),\n",
       "  <BarContainer object of 10 artists>),\n",
       " (array([4.0000e+00, 2.9000e+01, 1.9200e+02, 1.1190e+03, 4.8680e+03,\n",
       "         1.3524e+04, 1.9719e+04, 1.2455e+04, 2.9420e+03, 1.9900e+02]),\n",
       "  array([2.3087207 , 2.5497998 , 2.79087891, 3.03195801, 3.27303711,\n",
       "         3.51411621, 3.75519531, 3.99627441, 4.23735352, 4.47843262,\n",
       "         4.71951172]),\n",
       "  <BarContainer object of 10 artists>))"
      ]
     },
     "execution_count": 107,
     "metadata": {},
     "output_type": "execute_result"
    },
    {
     "data": {
      "image/png": "[encoded data removed]",
      "text/plain": [
       "<Figure size 432x288 with 1 Axes>"
      ]
     },
     "metadata": {
      "needs_background": "light"
     },
     "output_type": "display_data"
    }
   ],
   "source": [
    "plt.hist(y_train), plt.hist(models[\"Random Forest\"].predict(X_train))"
   ]
  },
  {
   "cell_type": "code",
   "execution_count": 108,
   "id": "60c93395",
   "metadata": {},
   "outputs": [
    {
     "data": {
      "text/plain": [
       "((13763, 229), (13763,))"
      ]
     },
     "execution_count": 108,
     "metadata": {},
     "output_type": "execute_result"
    }
   ],
   "source": [
    "X_test.shape, y_test.shape"
   ]
  },
  {
   "cell_type": "code",
   "execution_count": 109,
   "id": "f7eae4b4",
   "metadata": {},
   "outputs": [],
   "source": [
    "bins = [i/10 for i in range(0,50,2)]"
   ]
  },
  {
   "cell_type": "code",
   "execution_count": 110,
   "id": "20b340a6",
   "metadata": {},
   "outputs": [
    {
     "name": "stdout",
     "output_type": "stream",
     "text": [
      "(13763,) (13763,)\n"
     ]
    },
    {
     "data": {
      "text/plain": [
       "<matplotlib.legend.Legend at 0x255ec052ee0>"
      ]
     },
     "execution_count": 110,
     "metadata": {},
     "output_type": "execute_result"
    },
    {
     "data": {
      "image/png": "[encoded data removed]",
      "text/plain": [
       "<Figure size 432x288 with 1 Axes>"
      ]
     },
     "metadata": {
      "needs_background": "light"
     },
     "output_type": "display_data"
    }
   ],
   "source": [
    "y_pred = models[\"Random Forest\"].predict(X_test)\n",
    "print(y_pred.shape, y_test.shape)\n",
    "plt.hist(y_test.values,bins=bins,label=\"Actual\"), plt.hist(y_pred,label=\"Model\",bins=bins)\n",
    "plt.legend()"
   ]
  },
  {
   "cell_type": "code",
   "execution_count": 120,
   "id": "0e5b9f9a",
   "metadata": {},
   "outputs": [
    {
     "data": {
      "text/plain": [
       "Index(['Author rating', 'is_ebook', 'num_pages', 'publication_day',\n",
       "       'publication_month', 'publication_year', 'primary author',\n",
       "       'Num of authors', 'Publisher rating', 'language_code_afr',\n",
       "       ...\n",
       "       'format_Unknown Binding', 'format_broche', 'format_cloth',\n",
       "       'format_eBook', 'format_ebook', 'format_ebook &amp; paperback',\n",
       "       'format_ebook and paperback', 'format_komitsuku', 'format_paper',\n",
       "       'format_paperback'],\n",
       "      dtype='object', length=129)"
      ]
     },
     "execution_count": 120,
     "metadata": {},
     "output_type": "execute_result"
    }
   ],
   "source": [
    "X[cols].columns"
   ]
  },
  {
   "cell_type": "code",
   "execution_count": 112,
   "id": "47639c26",
   "metadata": {},
   "outputs": [],
   "source": [
    "from pandas import DataFrame\n",
    "\n",
    "feature_importances = DataFrame(models[\"Random Forest\"].feature_importances_,\n",
    "#                                 index = X_train.columns,\n",
    "                                columns=['importance']).sort_values('importance', ascending=False)\n",
    "\n",
    "\n",
    "# Rename index ranges and sum their values\n",
    "feature_importances.index = ['Title' if i < 50 else 'Description' if i < 100 else cols[i-100] for i in feature_importances.index]\n",
    "feature_importances_sums = feature_importances.groupby(feature_importances.index)['importance'].sum()\n",
    "\n",
    "feature_importances_sums.index = [\"lang_code\" if \"language_code_\" in i else \"format\" if \"format_\" in i else i for i in feature_importances_sums.index]\n",
    "feature_importances_sums = feature_importances_sums.groupby(feature_importances_sums.index).sum()"
   ]
  },
  {
   "cell_type": "code",
   "execution_count": 113,
   "id": "7c46e40e",
   "metadata": {
    "scrolled": true
   },
   "outputs": [
    {
     "data": {
      "text/plain": [
       "Title                0.349298\n",
       "Description          0.303294\n",
       "Author rating        0.198629\n",
       "publication_year     0.047951\n",
       "num_pages            0.046821\n",
       "Publisher rating     0.021472\n",
       "primary author       0.019420\n",
       "format               0.005060\n",
       "publication_day      0.003684\n",
       "publication_month    0.003488\n",
       "Num of authors       0.000882\n",
       "is_ebook             0.000000\n",
       "lang_code            0.000000\n",
       "Name: importance, dtype: float64"
      ]
     },
     "execution_count": 113,
     "metadata": {},
     "output_type": "execute_result"
    }
   ],
   "source": [
    "feature_importances_sums.sort_values(ascending=False)"
   ]
  },
  {
   "cell_type": "code",
   "execution_count": 114,
   "id": "6a1f6385",
   "metadata": {},
   "outputs": [
    {
     "data": {
      "text/plain": [
       "['language_code', 'format']"
      ]
     },
     "execution_count": 114,
     "metadata": {},
     "output_type": "execute_result"
    }
   ],
   "source": [
    "one_hot_cols"
   ]
  },
  {
   "cell_type": "code",
   "execution_count": 115,
   "id": "3078e047",
   "metadata": {},
   "outputs": [
    {
     "data": {
      "text/plain": [
       "0.1094"
      ]
     },
     "execution_count": 115,
     "metadata": {},
     "output_type": "execute_result"
    }
   ],
   "source": [
    "mean_squared_error(y_test, [np.mean(y_train.values)]*len(y_test))"
   ]
  },
  {
   "cell_type": "code",
   "execution_count": 116,
   "id": "78e692cb",
   "metadata": {},
   "outputs": [
    {
     "data": {
      "text/plain": [
       "array([3.77892578, 3.62382813, 3.75650391, ..., 3.97994141, 3.51792969,\n",
       "       3.97806641])"
      ]
     },
     "execution_count": 116,
     "metadata": {},
     "output_type": "execute_result"
    }
   ],
   "source": [
    "models[\"Random Forest\"].predict(X_test)"
   ]
  },
  {
   "cell_type": "code",
   "execution_count": 117,
   "id": "6e2a7627",
   "metadata": {},
   "outputs": [
    {
     "data": {
      "text/plain": [
       "array([3.68322451, 3.82363325, 3.74724009, ..., 3.79183049, 3.79944334,\n",
       "       3.82219336])"
      ]
     },
     "execution_count": 117,
     "metadata": {},
     "output_type": "execute_result"
    }
   ],
   "source": [
    "models[\"Linear Regression\"].predict(X_test)"
   ]
  },
  {
   "cell_type": "code",
   "execution_count": 118,
   "id": "5cd56526",
   "metadata": {},
   "outputs": [
    {
     "data": {
      "text/plain": [
       "(55051, 229)"
      ]
     },
     "execution_count": 118,
     "metadata": {},
     "output_type": "execute_result"
    }
   ],
   "source": [
    "X_train.shape"
   ]
  },
  {
   "cell_type": "code",
   "execution_count": 124,
   "id": "e6906605",
   "metadata": {},
   "outputs": [],
   "source": [
    "from sklearn.neural_network import MLPRegressor\n",
    "model = MLPRegressor((128,64,32,8),max_iter = 69,random_state=0,verbose=True,learning_rate_init=0.000001)"
   ]
  },
  {
   "cell_type": "code",
   "execution_count": 125,
   "id": "493796dd",
   "metadata": {},
   "outputs": [
    {
     "name": "stdout",
     "output_type": "stream",
     "text": [
      "Iteration 1, loss = 6242671501.37491512\n",
      "Iteration 2, loss = 3897181100.10305786\n",
      "Iteration 3, loss = 2115340131.28632689\n",
      "Iteration 4, loss = 964733963.86386371\n",
      "Iteration 5, loss = 400211285.44375348\n",
      "Iteration 6, loss = 140735346.84675133\n",
      "Iteration 7, loss = 41177475.45781907\n",
      "Iteration 8, loss = 9742304.00979008\n",
      "Iteration 9, loss = 1816596.29171246\n",
      "Iteration 10, loss = 253956.55486745\n",
      "Iteration 11, loss = 25668.55486553\n",
      "Iteration 12, loss = 2027.61429617\n",
      "Iteration 13, loss = 350.35945461\n",
      "Iteration 14, loss = 269.61280013\n",
      "Iteration 15, loss = 263.72760316\n",
      "Iteration 16, loss = 260.22488537\n",
      "Iteration 17, loss = 257.01097423\n",
      "Iteration 18, loss = 254.04667839\n",
      "Iteration 19, loss = 251.27907301\n",
      "Iteration 20, loss = 248.72131730\n",
      "Iteration 21, loss = 246.37670786\n",
      "Iteration 22, loss = 244.17430621\n",
      "Iteration 23, loss = 242.04835873\n",
      "Iteration 24, loss = 239.89806021\n",
      "Iteration 25, loss = 237.70870785\n",
      "Iteration 26, loss = 235.45885208\n",
      "Iteration 27, loss = 233.00972389\n",
      "Iteration 28, loss = 230.44736814\n",
      "Iteration 29, loss = 227.73380778\n",
      "Iteration 30, loss = 224.68552402\n",
      "Iteration 31, loss = 221.26316836\n",
      "Iteration 32, loss = 217.69025388\n",
      "Iteration 33, loss = 213.57702495\n",
      "Iteration 34, loss = 208.99640881\n",
      "Iteration 35, loss = 203.95032404\n",
      "Iteration 36, loss = 197.86653542\n",
      "Iteration 37, loss = 190.37826471\n",
      "Iteration 38, loss = 181.48436457\n",
      "Iteration 39, loss = 170.82812596\n",
      "Iteration 40, loss = 158.45342051\n",
      "Iteration 41, loss = 142.34014731\n",
      "Iteration 42, loss = 115.11671900\n",
      "Iteration 43, loss = 47.92359270\n",
      "Iteration 44, loss = 8.68067010\n",
      "Iteration 45, loss = 7.65083806\n",
      "Iteration 46, loss = 6.70220750\n",
      "Iteration 47, loss = 5.80537341\n",
      "Iteration 48, loss = 5.07097963\n",
      "Iteration 49, loss = 4.48560306\n",
      "Iteration 50, loss = 3.97272691\n",
      "Iteration 51, loss = 3.53629562\n",
      "Iteration 52, loss = 3.19175946\n",
      "Iteration 53, loss = 2.92399658\n",
      "Iteration 54, loss = 2.67786582\n",
      "Iteration 55, loss = 2.49403735\n",
      "Iteration 56, loss = 2.34174045\n",
      "Iteration 57, loss = 2.22898750\n",
      "Iteration 58, loss = 2.13147669\n",
      "Iteration 59, loss = 2.06446604\n",
      "Iteration 60, loss = 2.00650427\n",
      "Iteration 61, loss = 1.96756515\n",
      "Iteration 62, loss = 1.91666194\n",
      "Iteration 63, loss = 1.88770551\n",
      "Iteration 64, loss = 1.85362511\n",
      "Iteration 65, loss = 1.81946860\n",
      "Iteration 66, loss = 1.83008785\n",
      "Iteration 67, loss = 1.74751962\n",
      "Iteration 68, loss = 1.74520429\n",
      "Iteration 69, loss = 1.73946559\n"
     ]
    },
    {
     "name": "stderr",
     "output_type": "stream",
     "text": [
      "c:\\users\\goyal_92by308\\appdata\\local\\programs\\python\\python39\\lib\\site-packages\\sklearn\\neural_network\\_multilayer_perceptron.py:614: ConvergenceWarning: Stochastic Optimizer: Maximum iterations (69) reached and the optimization hasn't converged yet.\n",
      "  warnings.warn(\n"
     ]
    },
    {
     "data": {
      "text/plain": [
       "MLPRegressor(hidden_layer_sizes=(128, 64, 32, 8), learning_rate_init=1e-06,\n",
       "             max_iter=69, random_state=0, verbose=True)"
      ]
     },
     "execution_count": 125,
     "metadata": {},
     "output_type": "execute_result"
    }
   ],
   "source": [
    "model.fit(X_train, y_train)\n"
   ]
  },
  {
   "cell_type": "code",
   "execution_count": 126,
   "id": "ee0dca4f",
   "metadata": {},
   "outputs": [
    {
     "name": "stdout",
     "output_type": "stream",
     "text": [
      "Training R^2 score: -28.145712940459912\n",
      "Testing R^2 score: -20.049665396099975\n"
     ]
    }
   ],
   "source": [
    "train_score = model.score(X_train, y_train)\n",
    "test_score = model.score(X_test, y_test)\n",
    "print(\"Training R^2 score:\", train_score)\n",
    "print(\"Testing R^2 score:\", test_score)"
   ]
  },
  {
   "cell_type": "code",
   "execution_count": 127,
   "id": "9ea42e62",
   "metadata": {},
   "outputs": [
    {
     "data": {
      "text/plain": [
       "2.3019183227236426"
      ]
     },
     "execution_count": 127,
     "metadata": {},
     "output_type": "execute_result"
    }
   ],
   "source": [
    "y_pred = model.predict(X_test)\n",
    "mean_squared_error(y_test, y_pred)\n"
   ]
  },
  {
   "cell_type": "code",
   "execution_count": null,
   "id": "1d254104",
   "metadata": {},
   "outputs": [],
   "source": [
    "y_pred"
   ]
  },
  {
   "cell_type": "code",
   "execution_count": null,
   "id": "79ad5ebe",
   "metadata": {},
   "outputs": [],
   "source": [
    "plt.hist(model.predict(X_test)), plt.hist(y_test.values)"
   ]
  },
  {
   "cell_type": "code",
   "execution_count": null,
   "id": "ca6aca6d",
   "metadata": {},
   "outputs": [],
   "source": []
  },
  {
   "cell_type": "code",
   "execution_count": null,
   "id": "9ce97e0b",
   "metadata": {},
   "outputs": [],
   "source": [
    "### Gra"
   ]
  },
  {
   "cell_type": "markdown",
   "id": "d00d4c50",
   "metadata": {},
   "source": [
    "The claims made by this paper: https://philpapers.org/archive/BARPBR-3.pdf are not correct. This paper takes rating count as input which should be a strong indicator of ratings. \n",
    "\n",
    "I cannot reproduce the result even with multiple hidden layers. "
   ]
  },
  {
   "cell_type": "code",
   "execution_count": null,
   "id": "a6d9a484",
   "metadata": {},
   "outputs": [],
   "source": []
  },
  {
   "cell_type": "code",
   "execution_count": 5,
   "id": "d61d6cea",
   "metadata": {},
   "outputs": [
    {
     "ename": "NameError",
     "evalue": "name 'df_books' is not defined",
     "output_type": "error",
     "traceback": [
      "\u001b[1;31m---------------------------------------------------------------------------\u001b[0m",
      "\u001b[1;31mNameError\u001b[0m                                 Traceback (most recent call last)",
      "Cell \u001b[1;32mIn[5], line 4\u001b[0m\n\u001b[0;32m      1\u001b[0m \u001b[38;5;66;03m### create the df\u001b[39;00m\n\u001b[0;32m      2\u001b[0m \u001b[38;5;66;03m# avg_rating_df = df_books.sort_values(['average_rating'], ascending=False).head(10)\u001b[39;00m\n\u001b[0;32m      3\u001b[0m \u001b[38;5;66;03m# avg_rating_df### get df\u001b[39;00m\n\u001b[1;32m----> 4\u001b[0m most_rated \u001b[38;5;241m=\u001b[39m \u001b[43mdf_books\u001b[49m\u001b[38;5;241m.\u001b[39msort_values(\u001b[38;5;124m'\u001b[39m\u001b[38;5;124mratings_count\u001b[39m\u001b[38;5;124m'\u001b[39m, ascending \u001b[38;5;241m=\u001b[39m \u001b[38;5;28;01mFalse\u001b[39;00m)\u001b[38;5;241m.\u001b[39mhead(\u001b[38;5;241m10\u001b[39m)\u001b[38;5;241m.\u001b[39mset_index(\u001b[38;5;124m'\u001b[39m\u001b[38;5;124mtitle\u001b[39m\u001b[38;5;124m'\u001b[39m)\n\u001b[0;32m      6\u001b[0m \u001b[38;5;66;03m### set style\u001b[39;00m\n\u001b[0;32m      7\u001b[0m sns\u001b[38;5;241m.\u001b[39mset_style(\u001b[38;5;124m\"\u001b[39m\u001b[38;5;124mdarkgrid\u001b[39m\u001b[38;5;124m\"\u001b[39m)\n",
      "\u001b[1;31mNameError\u001b[0m: name 'df_books' is not defined"
     ]
    }
   ],
   "source": [
    "### create the df\n",
    "# avg_rating_df = df_books.sort_values(['average_rating'], ascending=False).head(10)\n",
    "# avg_rating_df### get df\n",
    "most_rated = df_books.sort_values('ratings_count', ascending = False).head(10).set_index('title')\n",
    "\n",
    "### set style\n",
    "sns.set_style(\"darkgrid\")\n",
    "\n",
    "### Initialize the matplotlib figure\n",
    "fig, ax = plt.subplots(figsize=(10, 15))\n",
    "\n",
    "### plot\n",
    "sns.set_color_codes(\"pastel\")\n",
    "sns.barplot(most_rated['ratings_count'], most_rated.index, label=\"Total\", color=\"b\")\n",
    "ax.set(ylabel=\"Books\",xlabel=\"Rating Counts\")\n",
    "ax.set_title('Top 10 Books Based on User Ratings')\n"
   ]
  },
  {
   "cell_type": "markdown",
   "id": "d7af8a4e-f412-4cd9-bf61-d40115921ab3",
   "metadata": {},
   "source": []
  },
  {
   "cell_type": "code",
   "execution_count": null,
   "id": "5db8207f",
   "metadata": {},
   "outputs": [],
   "source": [
    "most_rated"
   ]
  },
  {
   "cell_type": "code",
   "execution_count": null,
   "id": "ad8a53e3",
   "metadata": {},
   "outputs": [],
   "source": [
    "df_books"
   ]
  },
  {
   "cell_type": "code",
   "execution_count": null,
   "id": "15ed0ecb",
   "metadata": {},
   "outputs": [],
   "source": [
    "df_books.plot.scatter(x='publication_month', y='ratings_count')"
   ]
  },
  {
   "cell_type": "markdown",
   "id": "8b7dbcee",
   "metadata": {},
   "source": []
  },
  {
   "cell_type": "markdown",
   "id": "0a1237d6-0faf-4631-9da5-bb3bbea7e8e0",
   "metadata": {},
   "source": [
    "### Graph Nueral Networks"
   ]
  },
  {
   "cell_type": "markdown",
   "id": "c59f24dc",
   "metadata": {},
   "source": [
    "## Let's look at book-user mapping. "
   ]
  },
  {
   "cell_type": "code",
   "execution_count": 216,
   "id": "67626330-2a54-4529-b8ec-b1745fdb6094",
   "metadata": {},
   "outputs": [],
   "source": [
    "import networkx as nx\n",
    "import random\n",
    "import numpy as np\n",
    "import scipy as sc\n",
    "import matplotlib.pyplot as plt\n",
    "from sklearn import metrics\n",
    "from scipy.optimize import curve_fit\n",
    "from tqdm import tqdm\n"
   ]
  },
  {
   "cell_type": "code",
   "execution_count": null,
   "id": "f9e050ea",
   "metadata": {},
   "outputs": [],
   "source": []
  },
  {
   "cell_type": "code",
   "execution_count": 217,
   "id": "5af0f03b",
   "metadata": {},
   "outputs": [],
   "source": [
    "interactions = load_data(os.path.join(DIR, 'goodreads_interactions_comics_graphic.json.gz'),head = None)\n"
   ]
  },
  {
   "cell_type": "code",
   "execution_count": null,
   "id": "d2b4a58e-ef5d-4fba-880c-96cd90299df0",
   "metadata": {},
   "outputs": [],
   "source": [
    "df_interactions = pd.DataFrame(interactions)"
   ]
  },
  {
   "cell_type": "code",
   "execution_count": null,
   "id": "251851b7",
   "metadata": {},
   "outputs": [],
   "source": [
    "m = df_interactions[\"rating\"]==0\n",
    "m2 = df_interactions[\"review_text_incomplete\"]!=''"
   ]
  },
  {
   "cell_type": "code",
   "execution_count": null,
   "id": "e5a07e6c",
   "metadata": {
    "scrolled": true
   },
   "outputs": [],
   "source": [
    "df_interactions[m & m2].shape[0]/df_interactions[m].shape[0]"
   ]
  },
  {
   "cell_type": "code",
   "execution_count": null,
   "id": "53f61c22",
   "metadata": {},
   "outputs": [],
   "source": [
    "df_interactions[m2].shape[0]/df_interactions.shape[0]"
   ]
  },
  {
   "cell_type": "code",
   "execution_count": null,
   "id": "47ec275a",
   "metadata": {},
   "outputs": [],
   "source": [
    "(df_interactions[m2].shape[0]/df_interactions.shape[0])/(df_interactions[m & m2].shape[0]/df_interactions[m].shape[0])"
   ]
  },
  {
   "cell_type": "markdown",
   "id": "2568b8e6",
   "metadata": {},
   "source": [
    "There are a lot of reviews with 0 ratings. There is no way to give 0 ratings.\n",
    "\n",
    "https://www.goodreads.com/questions/1587805-is-there-a-way-to-give-a-0-star-rating\n",
    "\n",
    "Most of the reviews with 0 rating have no text reviews. The percentage of reviews with review text and 0 rating is unusally low (19x lower) !!\n",
    "\n",
    "Therefore we will ignore 0 ratings\n"
   ]
  },
  {
   "cell_type": "code",
   "execution_count": null,
   "id": "e54f8ed8",
   "metadata": {},
   "outputs": [],
   "source": [
    "df_interactions = df_interactions[~m].reset_index().drop(\"index\",axis =1)"
   ]
  },
  {
   "cell_type": "code",
   "execution_count": null,
   "id": "fb3078f4",
   "metadata": {},
   "outputs": [],
   "source": [
    "plt.hist(df_interactions[\"rating\"],bins=4)"
   ]
  },
  {
   "cell_type": "code",
   "execution_count": null,
   "id": "b17d00fb",
   "metadata": {},
   "outputs": [],
   "source": [
    "data = []\n",
    "m2 = df_interactions[\"review_text_incomplete\"]!=''\n",
    "for i in range(1,6):\n",
    "    m = df_interactions[\"rating\"]==i\n",
    "    rating_with_reviews = df_interactions[m & m2].shape[0]/df_interactions[m].shape[0]\n",
    "    data.append(rating_with_reviews*100)\n",
    "\n",
    "plt.title(\"% text reivews vs ratings\")\n",
    "plt.scatter([i for i in range(1,6)],data)"
   ]
  },
  {
   "cell_type": "code",
   "execution_count": null,
   "id": "3daffb25",
   "metadata": {},
   "outputs": [],
   "source": []
  },
  {
   "cell_type": "code",
   "execution_count": null,
   "id": "0e6dfced",
   "metadata": {},
   "outputs": [],
   "source": []
  },
  {
   "cell_type": "code",
   "execution_count": null,
   "id": "49553f5d",
   "metadata": {},
   "outputs": [],
   "source": []
  },
  {
   "cell_type": "code",
   "execution_count": null,
   "id": "00cb76b8",
   "metadata": {},
   "outputs": [],
   "source": []
  },
  {
   "cell_type": "markdown",
   "id": "0254f3f0",
   "metadata": {},
   "source": [
    "# Problem as Link prediction "
   ]
  },
  {
   "cell_type": "markdown",
   "id": "e8db2163",
   "metadata": {},
   "source": [
    "Poeple with negative review are more than twice more likely to leave a text review than with the higher review"
   ]
  },
  {
   "cell_type": "code",
   "execution_count": 124,
   "id": "9dda42e0",
   "metadata": {},
   "outputs": [
    {
     "ename": "KeyboardInterrupt",
     "evalue": "",
     "output_type": "error",
     "traceback": [
      "\u001b[1;31m---------------------------------------------------------------------------\u001b[0m",
      "\u001b[1;31mKeyboardInterrupt\u001b[0m                         Traceback (most recent call last)",
      "\u001b[1;32m<ipython-input-124-45c94a08acd9>\u001b[0m in \u001b[0;36m<module>\u001b[1;34m\u001b[0m\n\u001b[1;32m----> 1\u001b[1;33m \u001b[0mids\u001b[0m \u001b[1;33m=\u001b[0m \u001b[0mdf_interactions\u001b[0m\u001b[1;33m[\u001b[0m\u001b[1;34m\"book_id\"\u001b[0m\u001b[1;33m]\u001b[0m\u001b[1;33m.\u001b[0m\u001b[0munique\u001b[0m\u001b[1;33m(\u001b[0m\u001b[1;33m)\u001b[0m\u001b[1;33m\u001b[0m\u001b[1;33m\u001b[0m\u001b[0m\n\u001b[0m",
      "\u001b[1;32mc:\\users\\goyal_92by308\\appdata\\local\\programs\\python\\python39\\lib\\site-packages\\pandas\\core\\series.py\u001b[0m in \u001b[0;36munique\u001b[1;34m(self)\u001b[0m\n\u001b[0;32m   1870\u001b[0m         \u001b[0mCategories\u001b[0m \u001b[1;33m(\u001b[0m\u001b[1;36m3\u001b[0m\u001b[1;33m,\u001b[0m \u001b[0mobject\u001b[0m\u001b[1;33m)\u001b[0m\u001b[1;33m:\u001b[0m \u001b[1;33m[\u001b[0m\u001b[1;34m'a'\u001b[0m \u001b[1;33m<\u001b[0m \u001b[1;34m'b'\u001b[0m \u001b[1;33m<\u001b[0m \u001b[1;34m'c'\u001b[0m\u001b[1;33m]\u001b[0m\u001b[1;33m\u001b[0m\u001b[1;33m\u001b[0m\u001b[0m\n\u001b[0;32m   1871\u001b[0m         \"\"\"\n\u001b[1;32m-> 1872\u001b[1;33m         \u001b[0mresult\u001b[0m \u001b[1;33m=\u001b[0m \u001b[0msuper\u001b[0m\u001b[1;33m(\u001b[0m\u001b[1;33m)\u001b[0m\u001b[1;33m.\u001b[0m\u001b[0munique\u001b[0m\u001b[1;33m(\u001b[0m\u001b[1;33m)\u001b[0m\u001b[1;33m\u001b[0m\u001b[1;33m\u001b[0m\u001b[0m\n\u001b[0m\u001b[0;32m   1873\u001b[0m         \u001b[1;32mreturn\u001b[0m \u001b[0mresult\u001b[0m\u001b[1;33m\u001b[0m\u001b[1;33m\u001b[0m\u001b[0m\n\u001b[0;32m   1874\u001b[0m \u001b[1;33m\u001b[0m\u001b[0m\n",
      "\u001b[1;32mc:\\users\\goyal_92by308\\appdata\\local\\programs\\python\\python39\\lib\\site-packages\\pandas\\core\\base.py\u001b[0m in \u001b[0;36munique\u001b[1;34m(self)\u001b[0m\n\u001b[0;32m   1045\u001b[0m                     \u001b[0mresult\u001b[0m \u001b[1;33m=\u001b[0m \u001b[0mnp\u001b[0m\u001b[1;33m.\u001b[0m\u001b[0masarray\u001b[0m\u001b[1;33m(\u001b[0m\u001b[0mresult\u001b[0m\u001b[1;33m)\u001b[0m\u001b[1;33m\u001b[0m\u001b[1;33m\u001b[0m\u001b[0m\n\u001b[0;32m   1046\u001b[0m         \u001b[1;32melse\u001b[0m\u001b[1;33m:\u001b[0m\u001b[1;33m\u001b[0m\u001b[1;33m\u001b[0m\u001b[0m\n\u001b[1;32m-> 1047\u001b[1;33m             \u001b[0mresult\u001b[0m \u001b[1;33m=\u001b[0m \u001b[0munique1d\u001b[0m\u001b[1;33m(\u001b[0m\u001b[0mvalues\u001b[0m\u001b[1;33m)\u001b[0m\u001b[1;33m\u001b[0m\u001b[1;33m\u001b[0m\u001b[0m\n\u001b[0m\u001b[0;32m   1048\u001b[0m \u001b[1;33m\u001b[0m\u001b[0m\n\u001b[0;32m   1049\u001b[0m         \u001b[1;32mreturn\u001b[0m \u001b[0mresult\u001b[0m\u001b[1;33m\u001b[0m\u001b[1;33m\u001b[0m\u001b[0m\n",
      "\u001b[1;32mc:\\users\\goyal_92by308\\appdata\\local\\programs\\python\\python39\\lib\\site-packages\\pandas\\core\\algorithms.py\u001b[0m in \u001b[0;36munique\u001b[1;34m(values)\u001b[0m\n\u001b[0;32m    405\u001b[0m \u001b[1;33m\u001b[0m\u001b[0m\n\u001b[0;32m    406\u001b[0m     \u001b[0mtable\u001b[0m \u001b[1;33m=\u001b[0m \u001b[0mhtable\u001b[0m\u001b[1;33m(\u001b[0m\u001b[0mlen\u001b[0m\u001b[1;33m(\u001b[0m\u001b[0mvalues\u001b[0m\u001b[1;33m)\u001b[0m\u001b[1;33m)\u001b[0m\u001b[1;33m\u001b[0m\u001b[1;33m\u001b[0m\u001b[0m\n\u001b[1;32m--> 407\u001b[1;33m     \u001b[0muniques\u001b[0m \u001b[1;33m=\u001b[0m \u001b[0mtable\u001b[0m\u001b[1;33m.\u001b[0m\u001b[0munique\u001b[0m\u001b[1;33m(\u001b[0m\u001b[0mvalues\u001b[0m\u001b[1;33m)\u001b[0m\u001b[1;33m\u001b[0m\u001b[1;33m\u001b[0m\u001b[0m\n\u001b[0m\u001b[0;32m    408\u001b[0m     \u001b[0muniques\u001b[0m \u001b[1;33m=\u001b[0m \u001b[0m_reconstruct_data\u001b[0m\u001b[1;33m(\u001b[0m\u001b[0muniques\u001b[0m\u001b[1;33m,\u001b[0m \u001b[0moriginal\u001b[0m\u001b[1;33m.\u001b[0m\u001b[0mdtype\u001b[0m\u001b[1;33m,\u001b[0m \u001b[0moriginal\u001b[0m\u001b[1;33m)\u001b[0m\u001b[1;33m\u001b[0m\u001b[1;33m\u001b[0m\u001b[0m\n\u001b[0;32m    409\u001b[0m     \u001b[1;32mreturn\u001b[0m \u001b[0muniques\u001b[0m\u001b[1;33m\u001b[0m\u001b[1;33m\u001b[0m\u001b[0m\n",
      "\u001b[1;31mKeyboardInterrupt\u001b[0m: "
     ]
    }
   ],
   "source": [
    "ids = df_interactions[\"book_id\"].unique()"
   ]
  },
  {
   "cell_type": "code",
   "execution_count": null,
   "id": "e5b1b9c7-567e-4899-b69d-79f4bf40ef96",
   "metadata": {},
   "outputs": [],
   "source": [
    "cols = ['text_reviews_count', 'country_code', 'language_code', 'is_ebook', 'average_rating', 'format', 'num_pages', 'publication_day',\n",
    " 'publication_year', 'url','book_id', 'ratings_count', 'work_id', 'title']"
   ]
  },
  {
   "cell_type": "code",
   "execution_count": null,
   "id": "1b8a8789-73ac-434a-921d-997f3a5f7fff",
   "metadata": {},
   "outputs": [],
   "source": [
    "# node_df_books = df_books.merge(df_interactions,on=\"book_id\")[cols]"
   ]
  },
  {
   "cell_type": "code",
   "execution_count": null,
   "id": "882e652d-2081-47a1-917d-de703749b49a",
   "metadata": {},
   "outputs": [],
   "source": [
    "# node_df_books.rename({\"book_id\":\"id\" },axis=1,inplace=True)"
   ]
  },
  {
   "cell_type": "code",
   "execution_count": null,
   "id": "c122b174-d760-43a7-b394-bfbd247fefbe",
   "metadata": {},
   "outputs": [],
   "source": [
    "# node_df_books[\"type\"] = \"Book\""
   ]
  },
  {
   "cell_type": "markdown",
   "id": "d575bda7-8f92-4293-ba1f-61938ce40206",
   "metadata": {},
   "source": [
    "Link predicition won't work if user/book has only one rating because if the edge between them is taken in test it like a new book/user\n"
   ]
  },
  {
   "cell_type": "code",
   "execution_count": null,
   "id": "a965370c-5ddf-4f02-82b0-de192e83087c",
   "metadata": {},
   "outputs": [],
   "source": [
    "# Filter user_id and book_id with at least 5 mentions\n",
    "\n",
    "user_counts = df_interactions['user_id'].value_counts()\n",
    "book_counts = df_interactions['book_id'].value_counts()\n",
    "filtered_df = df_interactions[df_interactions['user_id'].isin(user_counts[user_counts >= 6].index) & df_interactions['book_id'].isin(book_counts[book_counts >= 6].index)]\n"
   ]
  },
  {
   "cell_type": "code",
   "execution_count": null,
   "id": "6838cef2-9024-4af6-b935-aa2f0e2a11f7",
   "metadata": {},
   "outputs": [],
   "source": [
    "user_id_mapping = {user_id: index for index, user_id in enumerate(filtered_df['user_id'].unique())}\n",
    "book_id_mapping = {book_id: index for index, book_id in enumerate(filtered_df['book_id'].unique())}\n",
    "\n",
    "df_numerical = filtered_df.copy()\n",
    "df_numerical['user_id'] = df_numerical['user_id'].map(user_id_mapping)\n",
    "df_numerical['book_id'] = df_numerical['book_id'].map(book_id_mapping)\n",
    "\n",
    "# Create reverse mappings\n",
    "user_id_reverse_mapping = {index: user_id for user_id, index in user_id_mapping.items()}\n",
    "book_id_reverse_mapping = {index: book_id for book_id, index in book_id_mapping.items()}"
   ]
  },
  {
   "cell_type": "code",
   "execution_count": null,
   "id": "c530c4cd-fd86-4332-987e-8f75d1aaad0f",
   "metadata": {},
   "outputs": [],
   "source": [
    "df_interactions"
   ]
  },
  {
   "cell_type": "code",
   "execution_count": null,
   "id": "8d9c6a6c-e8ac-4413-8897-4a221eb42880",
   "metadata": {},
   "outputs": [],
   "source": [
    "df_interactions = df_numerical"
   ]
  },
  {
   "cell_type": "code",
   "execution_count": null,
   "id": "2106f50c-d84b-4e07-b43a-abf73138b294",
   "metadata": {},
   "outputs": [],
   "source": [
    "df_interactions[\"rating\"].describe()"
   ]
  },
  {
   "cell_type": "code",
   "execution_count": null,
   "id": "1e9ff92c-f83a-40cf-9f70-f309dc0d5fd3",
   "metadata": {},
   "outputs": [],
   "source": [
    "df_interactions[\"rating\"]= df_interactions[\"rating\"] - 2 ##0,1,2 in -ve classes"
   ]
  },
  {
   "cell_type": "code",
   "execution_count": null,
   "id": "5f657d95-a1d3-4dd3-b323-32758be848b4",
   "metadata": {},
   "outputs": [],
   "source": [
    "m_p = df_interactions[\"rating\"]>0\n",
    "df_interactions[m_p].shape, df_interactions[~m_p].shape"
   ]
  },
  {
   "cell_type": "code",
   "execution_count": null,
   "id": "16c018b4-e9d7-47a3-bc0a-6fd6f7a9cdee",
   "metadata": {},
   "outputs": [],
   "source": [
    "e = list(df_interactions[[\"book_id\",\"user_id\",\"rating\"]].itertuples(index=False, name=None))"
   ]
  },
  {
   "cell_type": "code",
   "execution_count": 185,
   "id": "a3d29cef-a603-4f78-8401-db6a4625ebe5",
   "metadata": {},
   "outputs": [],
   "source": [
    "# Create a bipartite graph\n",
    "B = nx.Graph()\n",
    "\n",
    "# Add nodes with two different sets\n",
    "top_nodes = df_interactions[\"user_id\"].unique()\n",
    "bottom_nodes = df_interactions[\"book_id\"].unique()\n",
    "B.add_nodes_from(top_nodes, bipartite=0)  # Top set\n",
    "B.add_nodes_from(bottom_nodes, bipartite=1)  # Bottom set\n",
    "\n",
    "# Add edges between nodes of different sets\n",
    "B.add_weighted_edges_from(e)\n",
    "\n",
    "# Draw the bipartite graph\n",
    "# pos = nx.bipartite_layout(B, top_nodes)\n",
    "# nx.draw(B, pos, with_labels=True, node_color=['skyblue' if node in top_nodes else 'lightgreen' for node in B.nodes()])\n",
    "\n",
    "# plt.show()\n"
   ]
  },
  {
   "cell_type": "code",
   "execution_count": 186,
   "id": "9b14eda5-bcc7-46e0-b63c-a77e64c77e29",
   "metadata": {},
   "outputs": [],
   "source": [
    "# get adjacency matrix\n",
    "A = nx.adjacency_matrix(B)\n",
    "A = A.toarray()"
   ]
  },
  {
   "cell_type": "code",
   "execution_count": 187,
   "id": "b14e520a-3ab6-4363-ba75-f48d4902076b",
   "metadata": {},
   "outputs": [
    {
     "name": "stderr",
     "output_type": "stream",
     "text": [
      "C:\\Users\\goyal_92by308\\AppData\\Local\\Temp\\ipykernel_8064\\1799814183.py:4: DeprecationWarning: Sampling from a set deprecated\n",
      "since Python 3.9 and will be removed in a subsequent version.\n",
      "  edge_subset = random.sample(B.edges(), int(proportion_edges * B.number_of_edges()))\n"
     ]
    }
   ],
   "source": [
    "# Remove 30% of the edges\n",
    "proportion_edges = 0.3\n",
    "# this is our test set\n",
    "edge_subset = random.sample(B.edges(), int(proportion_edges * B.number_of_edges()))\n",
    "# Create a copy of the graph and remove the edges\n",
    "G_train = B.copy()\n",
    "G_train.remove_edges_from(edge_subset)\n",
    "# adjacency matrix\n",
    "A_train = nx.adjacency_matrix(G_train)\n",
    "A_train = A_train.toarray()\n",
    "# # visualise the train graph\n",
    "# plt.title(\"Train Graph\")\n",
    "# nx.draw(G_train, pos, with_labels=False)\n",
    "# plt.show()"
   ]
  },
  {
   "cell_type": "code",
   "execution_count": 188,
   "id": "8831d8b5-9903-4594-89b4-07d6e649635c",
   "metadata": {},
   "outputs": [],
   "source": [
    "G_test = nx.Graph()\n",
    "G_test.add_edges_from(edge_subset)\n",
    "# visualise the test graph\n",
    "# plt.title(\"Test Graph\")\n",
    "# nx.draw(G_test, pos, with_labels=False)\n",
    "# plt.show()"
   ]
  },
  {
   "cell_type": "markdown",
   "id": "aa7f2ad9-5e55-4894-bcef-a0e94e1c64a1",
   "metadata": {},
   "source": [
    "### Link prediction in Biparted Graph.\n",
    "\n",
    "predicting the missing links, holding off some edges (1000) and \n",
    "[3,4,5] -> "
   ]
  },
  {
   "cell_type": "markdown",
   "id": "1684b82d-6d2f-4d01-a613-09b31bb247be",
   "metadata": {},
   "source": [
    "Link predicition won't work if user/book has only one rating because if the edge between them is taken in test it like a new book/user"
   ]
  },
  {
   "cell_type": "code",
   "execution_count": null,
   "id": "f0dd0cc8",
   "metadata": {},
   "outputs": [],
   "source": []
  },
  {
   "cell_type": "markdown",
   "id": "c05616f5",
   "metadata": {},
   "source": [
    "Before we start on Graph neural networks, we need good metrics that should be used to see which models performs well.\n",
    "\n",
    "The most common metric for recommendation systems are:\n",
    "\n",
    "1. nDCG / nDCG@k - This creates a normalised score based on the actual order of the prediciton. Since we don't have the order of prediciton we cannot use this. Another argument can be: We do have the total ordering of how users interacted with the book. Can we use this at the true ranking of predictions? Pro: Harry porter one should be ranked after harry porter 2, Cons: It may not capture viral books and all. **The train test split will be based on time here** - this could be imp. but this is slighly different from actually recommending the books to people (opposed to new books).\n",
    "\n",
    "2. Cumulative Gain: This is one of the components of DCG but doesn't take ranking into consideration. It does need a Relevancy score which can be mapped to \"rating\" of the book in our case? (the problem with this is more of absolute value of rating as not as important as relative value to rating - This means a user may not give 5* as easily as another user. This 5* would mean a lot more. \n",
    "\n",
    "Link prediction is not same as recommendation - because link prediction may work \n",
    "\n",
    "Average Precision, Average Recall AUROC kind of metrics does work here"
   ]
  },
  {
   "cell_type": "markdown",
   "id": "7808beb0",
   "metadata": {},
   "source": [
    "- bipartite links:"
   ]
  },
  {
   "cell_type": "code",
   "execution_count": 229,
   "id": "00431b1d-dd36-4c70-8044-5ecb8fbc7bd9",
   "metadata": {},
   "outputs": [],
   "source": [
    "\"\"\"\n",
    "Mean Average Precision\n",
    "\"\"\"\n",
    "def MAP(G_test, G_pred, thres = 0):\n",
    "    # calculate avePrecision for each node and its neighbors\n",
    "    avePs = []\n",
    "    \n",
    "    # loop through every node\n",
    "    for node in tqdm(G_test.nodes()):\n",
    "        # get predicted edges sorted in ranking order\n",
    "        rankedPredWeights = sorted(G_pred[node].items(), key=lambda x: -x[1]['weight'])\n",
    "        # only include edges that exist i.e. predicted rank / weight > threshold\n",
    "        rankedPred = filter(lambda x: x[1]['weight'] > thres, rankedPredWeights)\n",
    "        # get the rank\n",
    "        pred = [x[0] for x in rankedPred]\n",
    "        # calculate rel (existence of predicted edge in the groundtruth/actual set of edges)\n",
    "        # get groundtruth neighbors\n",
    "        gt = set(G_test[node])\n",
    "        rel = np.array([x in gt for x in pred])\n",
    "        # calculate P accumulative average of precision\n",
    "        predLength = len(pred)\n",
    "        P = np.array([\n",
    "            sum(rel[:i+1])/len(rel[:i+1]) for i in range(predLength)\n",
    "        ])\n",
    "        # calculate aveP\n",
    "        aveP = (rel @ P)/len(gt)\n",
    "        # keep track of results\n",
    "        avePs.append(aveP)\n",
    "    MAPvalue = sum(avePs) / len(avePs)\n",
    "    print(\"MAP: {}\".format(MAPvalue))\n",
    "    return MAPvalue\n",
    "\n",
    "\n",
    "# \"\"\"\n",
    "# Visualise Receiver-Operating Characteristic Curve and Precision-Recall Curve\n",
    "# \"\"\"\n",
    "# def ROC_PRC(pred, G):\n",
    "#     # prediction score\n",
    "#     y_score = [p[2] for p in pred]\n",
    "#     # groundtruth label\n",
    "#     y_true = [G.has_edge(p[0], p[1]) for p in pred]\n",
    "#     fig, (ax1, ax2) = plt.subplots(1, 2)\n",
    "#     # precision-recall curve\n",
    "#     fpr, tpr, thresholds = metrics.precision_recall_curve(y_true,  y_score) \n",
    "#     ax1.plot(fpr, tpr)\n",
    "#     ax1.set_title(\"Precision-Recall Curve\")   \n",
    "#     # receiver-operating characteristic curve\n",
    "#     fpr, tpr, thresholds = metrics.roc_curve(y_true, y_score) \n",
    "#     ax2.plot(fpr, tpr)\n",
    "#     ax2.set_title(\"ROC Curve, AUC = {:.2f}\".format(metrics.roc_auc_score(y_true, y_score)))\n",
    "    \n",
    "#     plt.show()"
   ]
  },
  {
   "cell_type": "code",
   "execution_count": null,
   "id": "b6820d6c-4301-44f0-a997-e6dc48eda611",
   "metadata": {},
   "outputs": [],
   "source": []
  },
  {
   "cell_type": "markdown",
   "id": "5eacf2c9-3e5a-41d7-bf8b-4ec41e9909cf",
   "metadata": {},
   "source": [
    "ref - https://towardsdatascience.com/link-prediction-in-bipartite-graph-ad766e47d75c"
   ]
  },
  {
   "cell_type": "markdown",
   "id": "b8d8dfb8-8c24-4703-8087-1cab4211af4e",
   "metadata": {},
   "source": [
    "Neighbors-based Techniques: like Resource Allssss ocation index, Jaccard Coefficient and Adamic-Adar will not work, as they will try to \n",
    " Adamic-Adar connects more common vertexes through edges. = sum(1/log(degree of common neighbors)) - It will be zero as it needs atleast one common edge. \n",
    "\n",
    "Jaccard Coefficient (JAC): Doesn't give any pref to the degree of nodes. Also needs one common neighbour. \n",
    "\n",
    " "
   ]
  },
  {
   "cell_type": "code",
   "execution_count": 191,
   "id": "acafc60d-db99-4e00-80c8-152917c20e7a",
   "metadata": {},
   "outputs": [
    {
     "name": "stdout",
     "output_type": "stream",
     "text": [
      "<function resource_allocation_index at 0x000001D3C5E54670>\n"
     ]
    },
    {
     "name": "stderr",
     "output_type": "stream",
     "text": [
      "\n",
      "KeyboardInterrupt\n",
      "\n"
     ]
    }
   ],
   "source": [
    "for algo in [\n",
    "    nx.resource_allocation_index,\n",
    "    nx.jaccard_coefficient,\n",
    "    nx.adamic_adar_index\n",
    "]:\n",
    "    print(algo)\n",
    "    pred = list(algo(G_train))\n",
    "    # create graph\n",
    "    G_pred = nx.Graph()\n",
    "    G_pred.add_weighted_edges_from(pred)\n",
    "    # visualise adjacency matrix\n",
    "    Apred = nx.adjacency_matrix(G_pred)\n",
    "    Apred = Apred.toarray()\n",
    "    plt.imshow(Apred, cmap='Greys')\n",
    "    plt.show()\n",
    "    # evaluation\n",
    "    # ROC_PRC(pred, G)\n",
    "    MAP(G_test, G_pred)"
   ]
  },
  {
   "cell_type": "code",
   "execution_count": 192,
   "id": "fb56af80-6c39-4c28-8ecc-7f94513f5606",
   "metadata": {},
   "outputs": [
    {
     "name": "stderr",
     "output_type": "stream",
     "text": [
      "c:\\users\\goyal_92by308\\documents\\projects\\masters project\\myenv\\lib\\site-packages\\matplotlib\\cbook.py:1699: ComplexWarning: Casting complex values to real discards the imaginary part\n",
      "  return math.isfinite(val)\n",
      "c:\\users\\goyal_92by308\\documents\\projects\\masters project\\myenv\\lib\\site-packages\\matplotlib\\collections.py:194: ComplexWarning: Casting complex values to real discards the imaginary part\n",
      "  offsets = np.asanyarray(offsets, float)\n"
     ]
    },
    {
     "data": {
      "image/png": "[encoded data removed]",
      "text/plain": [
       "<Figure size 500x300 with 1 Axes>"
      ]
     },
     "metadata": {},
     "output_type": "display_data"
    }
   ],
   "source": [
    "# eigenvalue decomposition\n",
    "V_train, U_train = np.linalg.eig(A_train)\n",
    "# U.T * Atest * U\n",
    "target_V = U_train.T @ A @ U_train\n",
    "# take only the diagonals\n",
    "target_V = np.diag(target_V)\n",
    "# plot the pattern\n",
    "plt.figure(figsize=(5, 3))\n",
    "plt.xlabel(\"V_train\")\n",
    "plt.ylabel(\"V_test\")\n",
    "plt.scatter(V_train, target_V, c='b')\n",
    "plt.show()"
   ]
  },
  {
   "cell_type": "code",
   "execution_count": 193,
   "id": "dce9aee2-d75a-4504-acd5-d91ae1e07ca5",
   "metadata": {},
   "outputs": [],
   "source": [
    "# odd path counting kernel function\n",
    "class OddPathCountingKernel:\n",
    "    def __init__(self):\n",
    "        self.a1 = 0\n",
    "        self.a3 = 0\n",
    "        self.a5 = 0\n",
    "        self.a7 = 0\n",
    "        \n",
    "    def func(self, V, a1, a3, a5, a7):   \n",
    "        return V * a1 + V**3 * a3 + V**5 * a5 + V**7 * a7\n",
    "    def fit(self, V_train, target_V):\n",
    "        # do curve fitting\n",
    "        popt, pcov = curve_fit(self.func, V_train, target_V)\n",
    "        self.a1, self.a3, self.a5, self.a7 = popt\n",
    "    def pred(self, V_train):\n",
    "        return self.func(V_train, self.a1, self.a3, self.a5, self.a7)\n",
    "\n",
    "\n",
    "# sinh pseudokernel function\n",
    "class SinhPseudokernel:\n",
    "    def __init__(self):\n",
    "        self.alpha = 0\n",
    "        \n",
    "    def func(self, V, alpha):   \n",
    "        return np.array([\n",
    "            alpha * (np.exp(lamb) - np.exp(-lamb)) for lamb in V\n",
    "        ])\n",
    "    def fit(self, V_train, target_V):\n",
    "        # do curve fitting\n",
    "        popt, pcov = curve_fit(self.func, V_train, target_V)\n",
    "        self.alpha, = popt\n",
    "    def pred(self, V_train):\n",
    "        return self.func(V_train, self.alpha)\n",
    "\n",
    "\n",
    "# odd neumann pseudokernel function\n",
    "class OddNeumannPseudokernel:\n",
    "    def __init__(self):\n",
    "        self.alpha = 0\n",
    "        \n",
    "    def func(self, V, alpha):   \n",
    "        return np.array([\n",
    "            alpha * (1/(1-lamb) - 1/(1+lamb)) for lamb in V\n",
    "        ])\n",
    "    def fit(self, V_train, target_V):\n",
    "        # do curve fitting\n",
    "        popt, pcov = curve_fit(self.func, V_train, target_V)\n",
    "        self.alpha, = popt\n",
    "    def pred(self, V_train):\n",
    "        return self.func(V_train, self.alpha)\n"
   ]
  },
  {
   "cell_type": "code",
   "execution_count": 194,
   "id": "8a592534-b87c-45bc-94e3-19142464e98c",
   "metadata": {},
   "outputs": [
    {
     "name": "stdout",
     "output_type": "stream",
     "text": [
      "<__main__.OddPathCountingKernel object at 0x000001D3D6423D60>\n"
     ]
    },
    {
     "name": "stderr",
     "output_type": "stream",
     "text": [
      "c:\\users\\goyal_92by308\\documents\\projects\\masters project\\myenv\\lib\\site-packages\\numpy\\lib\\function_base.py:628: ComplexWarning: Casting complex values to real discards the imaginary part\n",
      "  a = asarray(a, dtype=dtype, order=order)\n"
     ]
    },
    {
     "data": {
      "image/png": "[encoded data removed]",
      "text/plain": [
       "<Figure size 500x300 with 1 Axes>"
      ]
     },
     "metadata": {},
     "output_type": "display_data"
    },
    {
     "name": "stderr",
     "output_type": "stream",
     "text": [
      "100%|██████████████████████████████████████████████████████████████████████████████| 1962/1962 [04:46<00:00,  6.84it/s]\n"
     ]
    },
    {
     "name": "stdout",
     "output_type": "stream",
     "text": [
      "MAP: 0.030741057333260758\n",
      "<__main__.SinhPseudokernel object at 0x000001D474B05070>\n"
     ]
    },
    {
     "data": {
      "image/png": "[encoded data removed]",
      "text/plain": [
       "<Figure size 500x300 with 1 Axes>"
      ]
     },
     "metadata": {},
     "output_type": "display_data"
    },
    {
     "name": "stderr",
     "output_type": "stream",
     "text": [
      "100%|██████████████████████████████████████████████████████████████████████████████| 1962/1962 [05:41<00:00,  5.74it/s]\n"
     ]
    },
    {
     "name": "stdout",
     "output_type": "stream",
     "text": [
      "MAP: 0.04969635951324996\n",
      "<__main__.OddNeumannPseudokernel object at 0x000001D474B05130>\n"
     ]
    },
    {
     "data": {
      "image/png": "[encoded data removed]",
      "text/plain": [
       "<Figure size 500x300 with 1 Axes>"
      ]
     },
     "metadata": {},
     "output_type": "display_data"
    },
    {
     "name": "stderr",
     "output_type": "stream",
     "text": [
      "100%|██████████████████████████████████████████████████████████████████████████████| 1962/1962 [04:34<00:00,  7.14it/s]"
     ]
    },
    {
     "name": "stdout",
     "output_type": "stream",
     "text": [
      "MAP: 0.0033446380519042106\n"
     ]
    },
    {
     "name": "stderr",
     "output_type": "stream",
     "text": [
      "\n"
     ]
    }
   ],
   "source": [
    "# fit kernel function\n",
    "for kernel in [OddPathCountingKernel(), SinhPseudokernel(), OddNeumannPseudokernel()]:\n",
    "    print(kernel)\n",
    "    # fit the kernel to the data    \n",
    "    kernel.fit(V_train, target_V)\n",
    "    # predict the output\n",
    "    V_pred = kernel.pred(V_train)\n",
    "    # assume our function is exponential V_train with alpha = 0.6\n",
    "    plt.figure(figsize=(5, 3))\n",
    "    plt.xlabel(\"V_train\")\n",
    "    plt.ylabel(\"V_test\")\n",
    "    plt.scatter(V_train, target_V, c='b', label=\"target_V\")\n",
    "    plt.scatter(V_train, V_pred, c='r', label=\"predicted_V\")\n",
    "    plt.legend()\n",
    "    plt.show()\n",
    "    # transformation\n",
    "    Apred = U_train @ np.diag(V_pred) @ U_train.T\n",
    "    Apred = Apred.real\n",
    "    # make edges of prediction\n",
    "    pred = [(i, j, Apred[i, j]) for i in range(Apred.shape[0]) for j in range(Apred.shape[1])]\n",
    "    # create graph\n",
    "    G_pred = nx.Graph()\n",
    "    G_pred.add_weighted_edges_from(pred)\n",
    "    # evaluate MAP and precision\n",
    "    # ROC_PRC(pred, B)\n",
    "    MAP(G_test, G_pred)"
   ]
  },
  {
   "cell_type": "code",
   "execution_count": null,
   "id": "8e42df3f-68cd-41dc-a4df-25ffe4e63209",
   "metadata": {},
   "outputs": [],
   "source": []
  },
  {
   "cell_type": "code",
   "execution_count": 157,
   "id": "f8593e60-f8e1-45ff-aa1f-69b62e928901",
   "metadata": {},
   "outputs": [
    {
     "data": {
      "text/plain": [
       "AtlasView({'31944691': {'weight': -2}, '20821284': {'weight': -2}, '13588404': {'weight': -2}, '31426': {'weight': 2}, '160192': {'weight': -2}, '99375': {'weight': -2}, '2547': {'weight': 1}, '91571': {'weight': 2}, '42038': {'weight': 2}, '676': {'weight': -2}, '712511': {'weight': -2}, '27494': {'weight': 3}})"
      ]
     },
     "execution_count": 157,
     "metadata": {},
     "output_type": "execute_result"
    }
   ],
   "source": [
    "G_train['18f6b4eac6c40922b9f60489e53f6cb8']"
   ]
  },
  {
   "cell_type": "code",
   "execution_count": 155,
   "id": "507d5a29-cb6d-470d-be26-8365901e47dd",
   "metadata": {},
   "outputs": [
    {
     "data": {
      "text/plain": [
       "AtlasView({'30119': {}, '15793626': {}, '1420': {}, '6036887': {}, '6376233': {}})"
      ]
     },
     "execution_count": 155,
     "metadata": {},
     "output_type": "execute_result"
    }
   ],
   "source": [
    "G_test['18f6b4eac6c40922b9f60489e53f6cb8']"
   ]
  },
  {
   "cell_type": "markdown",
   "id": "e9016d8b-3b69-444b-a666-eef1e28aa12a",
   "metadata": {},
   "source": [
    "Explaination of results:\n",
    "\n",
    "https://arxiv.org/pdf/1006.5367.pdf\n",
    "\n",
    "These assumptions are not true:\n",
    " - Triangle closing: New edges tend to form triangles.\n",
    " - Clustering: Nodes tend to form well-connected clusters in the graph.\n",
    "\n",
    "\n",
    "Problems with spectral domains:\n",
    "- O(v^2) Computational & Storage cost\n",
    "- Parameter size will depend on input graph and is O(V) --> dimension of Adj Matrix\n",
    "- No use of edge features -\n",
    "\n"
   ]
  },
  {
   "cell_type": "markdown",
   "id": "84569736",
   "metadata": {},
   "source": [
    "# Recommendation systems\n",
    "\n",
    "Let's formulate this problem as personalised recommendation systems problem. We would only need the user id in this case. \n",
    "\n",
    "\n",
    "- An interesting idea can be recommending good books to the user from a different genre?\n",
    "\n",
    "- Another idea can be to generate users embedding through Node2Vec. Then use these embeddings in any normal GNN or twin tower models.\n",
    "\n",
    "- We can convert Bi-partite graph to a homogenous book graph and do something with it. For this we can have a score to measure the number of common Book1->Userx->Book2 we can find and do a wieghted thing. This has good ideas on it.\n",
    "https://www.slideshare.net/andrgig/recommendation-systems-in-banking-and-financial-services\n",
    "\n",
    "\n",
    "#### Metrics\n",
    "This seems easy to do so let's try this. We can get top 3 recommendations for the user based on the last book they bought and then see how many of them were present in his actual recommendations. This should be unranked nDCG. For eg - if someone rates Harry porter 1, and we recomment HP2 then they eventually rate HP2 they should have it\n",
    "\n",
    "The metrics should be Normal Cummulative Gains without discounting.\n",
    "\n",
    "Cummulative Gains@K = Number of books the user rated (+vely (exclude not rated and -ves)) out of the first K recommendations that we provide/K\n",
    "\n",
    "\n",
    "Capturing negative scores: basically if someone dislikes a book, it should be a strong indicator that it shouldn't be recommended to similar user, \n",
    "\n",
    "we can try including it and see how rating change as the part of this study."
   ]
  },
  {
   "cell_type": "code",
   "execution_count": null,
   "id": "f8720d02",
   "metadata": {},
   "outputs": [],
   "source": []
  },
  {
   "cell_type": "markdown",
   "id": "f45afbf1",
   "metadata": {},
   "source": [
    "#### More deatils:\n",
    "\n",
    "Step 1: So the goal is to convert biparted graph into homogenous graph such if we select a node X, we can a choose \"Y\" with highed similarity score as X. This doesn't take book features into account \n",
    "\n",
    "Steo 2: This similarity score and combine it with book features later. For example if a person like ~300 page books, and the recommendations are of 400,500,600,300 pages, maybe we can give more weightage to 300 page book based on user prefrence. This would require creating a user prefrence embedding vector (by what kinds of books he read in the past - maybe just averaging all books he liked in past). This user embedding vector should be combined with top K * 10 books to give more relevant books. We can do a similarity score to figure out what to choose from top 10k. \n",
    "\n",
    "This sounds like a twin tower model :( but this is more explainable on why we are recommending a certain book. "
   ]
  },
  {
   "cell_type": "markdown",
   "id": "af05bbc3",
   "metadata": {},
   "source": [
    "This design should solve the cold problem for new books too!! because we will only use features that are known during the book release. "
   ]
  },
  {
   "cell_type": "markdown",
   "id": "c2c0a699",
   "metadata": {},
   "source": [
    "##### Step 1: Book Similarity\n",
    "\n",
    "\n",
    "\n",
    "$B_{uw}(i,j)$ =  Sum of all possible paths from $(B_i -> B_j)$\n",
    "\n",
    "\n",
    " <img src=\"Images/i1.jpg\" width=200>\n"
   ]
  },
  {
   "cell_type": "markdown",
   "id": "f2ec068e",
   "metadata": {},
   "source": [
    "Book Similarity score should be equal to\n",
    "\n",
    "$C(U_i)$ = Sum of all edges going from user $U_i$ = Number of times $U_i$ appears in the graph\n",
    "\n",
    "For we can create our new adj matrix such that\n",
    "\n",
    "$B_w(i,j)$ =  Sum of all possible paths from $(B_i -> U_x -> B_j)$ / $|C(U_x)|$\n",
    "\n",
    "This makes sure that each users have the total outgoing wt as one, therefore their contribution to book is scaled.\n",
    "     \n",
    "This will be 0 if there is direct path. "
   ]
  },
  {
   "cell_type": "code",
   "execution_count": 506,
   "id": "b3982252",
   "metadata": {},
   "outputs": [],
   "source": [
    "### first let's do train test split based on the date"
   ]
  },
  {
   "cell_type": "code",
   "execution_count": 111,
   "id": "e96b77e5",
   "metadata": {},
   "outputs": [
    {
     "data": {
      "text/plain": [
       "Index(['user_id', 'book_id', 'review_id', 'is_read', 'rating',\n",
       "       'review_text_incomplete', 'date_added', 'date_updated', 'read_at',\n",
       "       'started_at'],\n",
       "      dtype='object')"
      ]
     },
     "execution_count": 111,
     "metadata": {},
     "output_type": "execute_result"
    }
   ],
   "source": [
    "df_interactions.columns"
   ]
  },
  {
   "cell_type": "code",
   "execution_count": 112,
   "id": "7b94d3be",
   "metadata": {},
   "outputs": [],
   "source": [
    "K = 10"
   ]
  },
  {
   "cell_type": "markdown",
   "id": "6a4d74c5",
   "metadata": {},
   "source": [
    "#### Train-test split\n",
    "\n",
    "Splitting the data before the date "
   ]
  },
  {
   "cell_type": "markdown",
   "id": "28f387cb",
   "metadata": {},
   "source": [
    "We will only condider the data whose book information/embedding  is available"
   ]
  },
  {
   "cell_type": "code",
   "execution_count": null,
   "id": "a6dfb1ba",
   "metadata": {},
   "outputs": [],
   "source": [
    "bids = df_book_final_features[[\"book_id\"]].drop_duplicates()"
   ]
  },
  {
   "cell_type": "code",
   "execution_count": null,
   "id": "43b48ac9",
   "metadata": {},
   "outputs": [],
   "source": [
    "## only keeping valid books\n",
    "df_interactions= df_interactions.merge(bids)"
   ]
  },
  {
   "cell_type": "code",
   "execution_count": null,
   "id": "d774ac8b",
   "metadata": {},
   "outputs": [],
   "source": [
    "df_interactions['date_added'] = pd.to_datetime(df_interactions['date_added'])"
   ]
  },
  {
   "cell_type": "code",
   "execution_count": null,
   "id": "bc80f38d",
   "metadata": {},
   "outputs": [],
   "source": [
    "# Assuming df_interactions is already loaded\n",
    "# Convert 'date_added' to datetime\n",
    "\n",
    "# Sort the DataFrame by 'date_added'\n",
    "df_interactions_sorted = df_interactions.sort_values(by='date_added')\n",
    "\n",
    "# Determine the cutoff for the earliest 75% of interactions\n",
    "cutoff_index = int(len(df_interactions_sorted) * 0.75)\n",
    "\n",
    "# Split the DataFrame into train and test\n",
    "train_df = df_interactions_sorted.iloc[:cutoff_index]\n",
    "test_df = df_interactions_sorted.iloc[cutoff_index:]"
   ]
  },
  {
   "cell_type": "code",
   "execution_count": null,
   "id": "1d2b8b3a",
   "metadata": {},
   "outputs": [],
   "source": [
    "train_df.shape"
   ]
  },
  {
   "cell_type": "code",
   "execution_count": null,
   "id": "38409b32",
   "metadata": {},
   "outputs": [],
   "source": [
    "test_df.shape"
   ]
  },
  {
   "cell_type": "markdown",
   "id": "456b2372",
   "metadata": {},
   "source": [
    "To effectively test our approach, we users should have atleast 1 book in train dataset and k books in test dataset. "
   ]
  },
  {
   "cell_type": "code",
   "execution_count": null,
   "id": "81c7fbcf",
   "metadata": {},
   "outputs": [],
   "source": [
    "import pandas as pd\n",
    "\n",
    "# Step 1: Group by 'user_id' and count books in each dataset\n",
    "train_counts = train_df.groupby('user_id').size()\n",
    "test_counts = test_df.groupby('user_id').size()\n",
    "\n",
    "# Step 2: Identify users meeting the criteria\n",
    "valid_train_users = train_counts[train_counts >= 1].index\n",
    "valid_test_users = test_counts[test_counts >= K].index\n",
    "\n",
    "# Get the intersection of users who meet both criteria\n",
    "valid_users = valid_train_users.intersection(valid_test_users)\n",
    "\n",
    "# Step 3: Filter the datasets\n",
    "train_df_filtered = train_df[train_df['user_id'].isin(valid_users)]\n",
    "test_df_filtered = test_df[test_df['user_id'].isin(valid_users)]\n"
   ]
  },
  {
   "cell_type": "code",
   "execution_count": null,
   "id": "3f483fb9",
   "metadata": {},
   "outputs": [],
   "source": [
    "## make sure we have same number of user\n",
    "assert train_df_filtered[\"user_id\"].nunique() == test_df_filtered[\"user_id\"].nunique()"
   ]
  },
  {
   "cell_type": "code",
   "execution_count": null,
   "id": "27228c15",
   "metadata": {},
   "outputs": [],
   "source": [
    "df_interactions_train = train_df_filtered\n",
    "df_interactions_test = test_df_filtered"
   ]
  },
  {
   "cell_type": "code",
   "execution_count": null,
   "id": "b958d815",
   "metadata": {},
   "outputs": [],
   "source": [
    "m = df_interactions_test[\"rating\"]>3\n",
    "df_interactions_test_postive = df_interactions_test[m]"
   ]
  },
  {
   "cell_type": "code",
   "execution_count": null,
   "id": "b7ff4a12",
   "metadata": {},
   "outputs": [],
   "source": [
    "df_interactions_train.shape, df_interactions_test.shape"
   ]
  },
  {
   "cell_type": "markdown",
   "id": "b75deb26",
   "metadata": {},
   "source": [
    "#### Functions for similarity score"
   ]
  },
  {
   "cell_type": "code",
   "execution_count": null,
   "id": "9461f4a7",
   "metadata": {},
   "outputs": [],
   "source": [
    "## map 1,2 to the score of -1, 3 to 0 & 4,5 to 1\n",
    "rating_map = {1: -1, 2: -1, 3: 0, 4: 1, 5: 1}\n",
    "\n",
    "# Apply the mapping to the 'rating' column\n",
    "df_interactions_train['weights'] = df_interactions_train['rating'].map(rating_map)"
   ]
  },
  {
   "cell_type": "code",
   "execution_count": null,
   "id": "7c29ca7c",
   "metadata": {},
   "outputs": [],
   "source": [
    "df_interactions_train[\"user_id\"].nunique()"
   ]
  },
  {
   "cell_type": "code",
   "execution_count": null,
   "id": "ef8e0374",
   "metadata": {},
   "outputs": [],
   "source": [
    "df_user_count = df_interactions_train['user_id'].value_counts()"
   ]
  },
  {
   "cell_type": "code",
   "execution_count": null,
   "id": "de584877",
   "metadata": {},
   "outputs": [],
   "source": [
    "len(df_user_count)"
   ]
  },
  {
   "cell_type": "code",
   "execution_count": null,
   "id": "05713992",
   "metadata": {},
   "outputs": [],
   "source": [
    "df_interactions_train.drop(['review_id', 'is_read', 'rating','review_text_incomplete', 'date_added', 'date_updated', 'read_at','started_at'], axis=1,inplace=True)"
   ]
  },
  {
   "cell_type": "code",
   "execution_count": null,
   "id": "f4473c93",
   "metadata": {},
   "outputs": [],
   "source": [
    "df_score_matrix_raw = df_interactions_train.merge(df_interactions_train,on=\"user_id\")"
   ]
  },
  {
   "cell_type": "code",
   "execution_count": null,
   "id": "7f0e456e",
   "metadata": {},
   "outputs": [],
   "source": [
    "df_interactions_train"
   ]
  },
  {
   "cell_type": "code",
   "execution_count": null,
   "id": "b6a865f3",
   "metadata": {},
   "outputs": [],
   "source": [
    "## get rid of columns where book_id_x == book_id_y\n",
    "df_score_matrix_raw = df_score_matrix_raw[df_score_matrix_raw['book_id_x'] != df_score_matrix_raw['book_id_y']]\n",
    "df_score_matrix_raw[\"weights_xy\"] = (df_score_matrix_raw[\"weights_x\"] + df_score_matrix_raw[\"weights_y\"])/2"
   ]
  },
  {
   "cell_type": "code",
   "execution_count": null,
   "id": "827d9865",
   "metadata": {},
   "outputs": [],
   "source": [
    "df_score_matrix_raw.drop([\"weights_x\",\"weights_y\"],axis=1,inplace=True)"
   ]
  },
  {
   "cell_type": "markdown",
   "id": "e261a23f",
   "metadata": {},
   "source": [
    "Positive scores will say that books are strongly correlated. Negative scores will that these book are not similar at all. \n",
    "Since we will be sorting and choosing top K for each book, it will ignore negatives if we have enough connections. "
   ]
  },
  {
   "cell_type": "code",
   "execution_count": null,
   "id": "202b3b22",
   "metadata": {},
   "outputs": [],
   "source": [
    "df_books_similarity_unwt = df_score_matrix_raw.groupby(['book_id_x', 'book_id_y'])['weights_xy'].sum().reset_index()"
   ]
  },
  {
   "cell_type": "code",
   "execution_count": null,
   "id": "b58f65c9",
   "metadata": {},
   "outputs": [],
   "source": [
    "df_uc = pd.DataFrame(df_user_count).reset_index().rename({\"user_id\":\"counts\", \"index\":\"user_id\"},axis=1)"
   ]
  },
  {
   "cell_type": "code",
   "execution_count": null,
   "id": "509b7f4a",
   "metadata": {},
   "outputs": [],
   "source": [
    "df_score_matrix_raw_counts = df_score_matrix_raw.merge(df_uc,on=\"user_id\",how=\"left\")"
   ]
  },
  {
   "cell_type": "code",
   "execution_count": null,
   "id": "89007e66",
   "metadata": {},
   "outputs": [],
   "source": [
    "m = df_score_matrix_raw_counts[\"counts\"].isna()\n",
    "df_score_matrix_raw_counts[m]"
   ]
  },
  {
   "cell_type": "code",
   "execution_count": null,
   "id": "d689545c",
   "metadata": {},
   "outputs": [],
   "source": [
    "df_score_matrix_raw_counts[\"weights_xy\"] = df_score_matrix_raw_counts[\"weights_xy\"]/df_score_matrix_raw_counts[\"counts\"]"
   ]
  },
  {
   "cell_type": "code",
   "execution_count": null,
   "id": "cad12c13",
   "metadata": {},
   "outputs": [],
   "source": [
    "df_books_similarity_wt = df_score_matrix_raw_counts.groupby(['book_id_x', 'book_id_y'])['weights_xy'].sum().reset_index()"
   ]
  },
  {
   "cell_type": "code",
   "execution_count": null,
   "id": "c080efc9",
   "metadata": {},
   "outputs": [],
   "source": [
    "df_books_similarity_wt"
   ]
  },
  {
   "cell_type": "code",
   "execution_count": null,
   "id": "939a1c7e",
   "metadata": {},
   "outputs": [],
   "source": [
    "## Now for all scores we will keep only top 10*k books per book to save memory"
   ]
  },
  {
   "cell_type": "code",
   "execution_count": null,
   "id": "15464f34",
   "metadata": {},
   "outputs": [],
   "source": [
    "top_book_similarity_wt = df_books_similarity_wt.groupby('book_id_x').apply(\n",
    "    lambda x: x.nlargest(10*K, 'weights_xy')\n",
    ").reset_index(drop=True)"
   ]
  },
  {
   "cell_type": "code",
   "execution_count": null,
   "id": "7d19209f",
   "metadata": {},
   "outputs": [],
   "source": [
    "top_book_similarity_unwt = df_books_similarity_unwt.groupby('book_id_x').apply(\n",
    "    lambda x: x.nlargest(10*K, 'weights_xy')\n",
    ").reset_index(drop=True)"
   ]
  },
  {
   "cell_type": "code",
   "execution_count": null,
   "id": "73f73505",
   "metadata": {},
   "outputs": [],
   "source": []
  },
  {
   "cell_type": "markdown",
   "id": "e904c343",
   "metadata": {},
   "source": [
    "### Eval Metrics"
   ]
  },
  {
   "cell_type": "code",
   "execution_count": null,
   "id": "0acbd55f",
   "metadata": {},
   "outputs": [],
   "source": [
    "def evaluate_recommendations(df_pred, df_test):\n",
    "    \"\"\"\n",
    "    Compares recommended books in df_pred with actual books in df_test.\n",
    "\n",
    "    Args:\n",
    "    df_pred (pd.DataFrame): DataFrame containing columns 'user_id' and 'recommended_book'.\n",
    "    df_test (pd.DataFrame): DataFrame containing columns 'user_id' and 'book_id' \n",
    "    Returns:\n",
    "    int: The total count of correctly recommended books.\n",
    "    \"\"\"\n",
    "    # Merge the prediction and test dataframes on 'user_id'\n",
    "    merged_df = pd.merge(df_pred, df_test, how='inner', left_on=['user_id', 'recommended_book'], right_on=['user_id', 'book_id'])\n",
    "    successful_recommendations = merged_df.dropna().shape[0]\n",
    "    return successful_recommendations"
   ]
  },
  {
   "cell_type": "markdown",
   "id": "c3cea357",
   "metadata": {},
   "source": [
    "### Testing and comparing both types of similarities\n",
    "\n",
    "for Testing both types of similarities, we can take a user, look at there previous 3 reads: B1, B2, B3. We can look at recommended book (top books) based on B1,2,3 and then see how many did they actually read (which will be our metric)."
   ]
  },
  {
   "cell_type": "code",
   "execution_count": null,
   "id": "3568bc85",
   "metadata": {},
   "outputs": [],
   "source": [
    "df_positive = df_interactions[df_interactions['rating'] > 3]\n",
    "df_i_x = df_interactions_train.merge(df_positive, on=[\"user_id\",\"book_id\"])"
   ]
  },
  {
   "cell_type": "code",
   "execution_count": null,
   "id": "79c5ce9b",
   "metadata": {},
   "outputs": [],
   "source": [
    "last_three_books = df_i_x.sort_values(['date_added']).groupby('user_id').tail(10)"
   ]
  },
  {
   "cell_type": "code",
   "execution_count": null,
   "id": "526cf297",
   "metadata": {},
   "outputs": [],
   "source": [
    "last_three_books = last_three_books[[\"user_id\",\"book_id\"]]"
   ]
  },
  {
   "cell_type": "code",
   "execution_count": null,
   "id": "03789535",
   "metadata": {},
   "outputs": [],
   "source": [
    "last_three_books"
   ]
  },
  {
   "cell_type": "markdown",
   "id": "b1b464b6",
   "metadata": {},
   "source": [
    "Now for each user, we get 10k*3 recommendations by combining top 10k with for each of last 3 books"
   ]
  },
  {
   "cell_type": "code",
   "execution_count": null,
   "id": "7e228c1a",
   "metadata": {},
   "outputs": [],
   "source": [
    "df_user_recommendations = last_three_books.merge(top_book_similarity_unwt, left_on=\"book_id\", right_on=\"book_id_x\").rename({\"book_id_y\":\"recommended_book\"},axis=1)\n",
    "hits = evaluate_recommendations(df_user_recommendations,df_interactions_test_postive)\n",
    "hits"
   ]
  },
  {
   "cell_type": "code",
   "execution_count": null,
   "id": "8a67cb0e",
   "metadata": {},
   "outputs": [],
   "source": [
    "### let's compare if we have to give only K recommendations. How many of these recommendations does the user eventually read.\n",
    "top_10k_pred = df_user_recommendations.groupby('user_id', group_keys=False).apply(lambda x: x.nlargest(K, 'weights_xy'))\n",
    "hits = evaluate_recommendations(top_10k_pred,df_interactions_test_postive)\n",
    "print(hits, hits/top_10k_pred.shape[0])"
   ]
  },
  {
   "cell_type": "code",
   "execution_count": null,
   "id": "802fc31f",
   "metadata": {},
   "outputs": [],
   "source": [
    "df_user_recommendations = last_three_books.merge(top_book_similarity_wt, left_on=\"book_id\", right_on=\"book_id_x\").rename({\"book_id_y\":\"recommended_book\"},axis=1)\n",
    "hits = evaluate_recommendations(df_user_recommendations,df_interactions_test_postive)\n",
    "hits/df_interactions_test_postive.shape[0]"
   ]
  },
  {
   "cell_type": "markdown",
   "id": "2ab427ca",
   "metadata": {},
   "source": [
    "We can make several improvements here but this is a pretty good score because:\n",
    "https://paperswithcode.com/sota/recommendation-systems-on-goodreads-comics\n",
    "\n",
    "this paper acheives (Recall@10, nDCG@10) of (0.1743,0.1927)"
   ]
  },
  {
   "cell_type": "code",
   "execution_count": null,
   "id": "1ca9a35d",
   "metadata": {},
   "outputs": [],
   "source": [
    "### let's compare if we have to give only K recommendations. How many of these recommendations does the user eventually read.\n",
    "top_10k_pred = df_user_recommendations.groupby('user_id', group_keys=False).apply(lambda x: x.nlargest(K, 'weights_xy'))\n",
    "hits = evaluate_recommendations(top_10k_pred,df_interactions_test_postive)\n",
    "print(hits, hits/top_10k_pred.shape[0])"
   ]
  },
  {
   "cell_type": "markdown",
   "id": "065b4c89",
   "metadata": {},
   "source": [
    "## Step 2: Making top K better. "
   ]
  },
  {
   "cell_type": "markdown",
   "id": "8a7a68e7",
   "metadata": {},
   "source": [
    "For making top K better, we will calculate the average Embedding of the user.\n",
    "We will also calculate embedding of each of the metrics, then we will do cosin similarity to find out which is best. "
   ]
  },
  {
   "cell_type": "code",
   "execution_count": null,
   "id": "d21d9b54",
   "metadata": {},
   "outputs": [],
   "source": [
    "### we take all the embeddings from past and average it "
   ]
  },
  {
   "cell_type": "code",
   "execution_count": null,
   "id": "aa75c46a",
   "metadata": {},
   "outputs": [],
   "source": [
    "# average the features of all the users in df_interaction table."
   ]
  },
  {
   "cell_type": "code",
   "execution_count": null,
   "id": "3d4510d6",
   "metadata": {},
   "outputs": [],
   "source": [
    "import numpy as np\n",
    "\n",
    "def cosine_similarity(vector_a, vector_b):\n",
    "    # Calculate the dot product of the vectors\n",
    "    dot_product = np.dot(vector_a, vector_b)\n",
    "    \n",
    "    # Calculate the norm of each vector\n",
    "    norm_a = np.linalg.norm(vector_a)\n",
    "    norm_b = np.linalg.norm(vector_b)\n",
    "    \n",
    "    # Calculate the cosine similarity\n",
    "    similarity = dot_product / (norm_a * norm_b)\n",
    "    \n",
    "    return similarity"
   ]
  },
  {
   "cell_type": "code",
   "execution_count": null,
   "id": "dbf61899",
   "metadata": {},
   "outputs": [],
   "source": [
    "df_merged = pd.merge(df_interactions_train[[\"user_id\",\"book_id\"]], df_book_final_features, on='book_id', how='inner')"
   ]
  },
  {
   "cell_type": "code",
   "execution_count": null,
   "id": "8a530926",
   "metadata": {},
   "outputs": [],
   "source": [
    "feature_columns = df_merged.columns[2:]\n",
    "df_merged[feature_columns] = df_merged[feature_columns].astype(float)\n",
    "df_user_feature_avg = df_merged.groupby('user_id')[feature_columns].mean().reset_index()\n"
   ]
  },
  {
   "cell_type": "code",
   "execution_count": null,
   "id": "4fffa28e",
   "metadata": {},
   "outputs": [],
   "source": [
    "feature_cols = df_user_feature_avg.columns[2:]"
   ]
  },
  {
   "cell_type": "code",
   "execution_count": null,
   "id": "b0f1e209",
   "metadata": {},
   "outputs": [],
   "source": [
    "top_10k_pred = df_user_recommendations.groupby('user_id', group_keys=False).apply(lambda x: x.nlargest(K, 'weights_xy'))\n",
    "top_10k_pred_features = top_10k_pred[[\"user_id\",\"recommended_book\"]].merge(df_book_final_features, right_on='book_id', left_on=\"recommended_book\",how='inner')"
   ]
  },
  {
   "cell_type": "code",
   "execution_count": null,
   "id": "e6bc9213",
   "metadata": {},
   "outputs": [],
   "source": [
    "merged_df = pd.merge(top_10k_pred_features, df_user_feature_avg, on='user_id', suffixes=('_pred', '_avg'))"
   ]
  },
  {
   "cell_type": "code",
   "execution_count": null,
   "id": "747b68ae",
   "metadata": {},
   "outputs": [],
   "source": [
    "merged_df[\"cs\"] = merged_df.apply(lambda row: cosine_similarity(row[[i+\"_pred\" for i in feature_cols]], row[[i+\"_avg\" for i in feature_cols]]), axis=1)"
   ]
  },
  {
   "cell_type": "code",
   "execution_count": null,
   "id": "4ff23c9a",
   "metadata": {},
   "outputs": [],
   "source": [
    "top_k_sim = merged_df.groupby('user_id', group_keys=False).apply(lambda x: x.nlargest(K, 'cs'))"
   ]
  },
  {
   "cell_type": "code",
   "execution_count": null,
   "id": "ae013bc7",
   "metadata": {},
   "outputs": [],
   "source": [
    "hits = evaluate_recommendations(top_k_sim,df_interactions_test_postive)\n",
    "print(hits, hits*100/top_k_sim.shape[0])"
   ]
  },
  {
   "cell_type": "code",
   "execution_count": null,
   "id": "70ca0fcd",
   "metadata": {},
   "outputs": [],
   "source": [
    "top_k_sim"
   ]
  },
  {
   "cell_type": "code",
   "execution_count": null,
   "id": "7bb32be8",
   "metadata": {},
   "outputs": [],
   "source": []
  },
  {
   "cell_type": "code",
   "execution_count": null,
   "id": "74f82d53",
   "metadata": {},
   "outputs": [],
   "source": []
  },
  {
   "cell_type": "markdown",
   "id": "40a56a1c",
   "metadata": {},
   "source": [
    "Pros:\n",
    "- No cold start for books\n",
    "- Explainable\n",
    "    - Books similarity can be updated with relative ease, but that does require keeping the books similarity scores - $O(B^2)$\n",
    "    - Scable with number of users"
   ]
  },
  {
   "cell_type": "code",
   "execution_count": null,
   "id": "75bd7822",
   "metadata": {},
   "outputs": [],
   "source": []
  },
  {
   "cell_type": "code",
   "execution_count": null,
   "id": "e64f29ae",
   "metadata": {},
   "outputs": [],
   "source": []
  },
  {
   "cell_type": "code",
   "execution_count": null,
   "id": "0c22f515",
   "metadata": {},
   "outputs": [],
   "source": []
  }
 ],
 "metadata": {
  "kernelspec": {
   "display_name": "Python 3",
   "language": "python",
   "name": "python3"
  },
  "language_info": {
   "codemirror_mode": {
    "name": "ipython",
    "version": 3
   },
   "file_extension": ".py",
   "mimetype": "text/x-python",
   "name": "python",
   "nbconvert_exporter": "python",
   "pygments_lexer": "ipython3",
   "version": "3.9.5"
  }
 },
 "nbformat": 4,
 "nbformat_minor": 5
}
